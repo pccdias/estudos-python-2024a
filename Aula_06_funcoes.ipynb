{
  "nbformat": 4,
  "nbformat_minor": 0,
  "metadata": {
    "colab": {
      "provenance": []
    },
    "kernelspec": {
      "name": "python3",
      "display_name": "Python 3"
    },
    "language_info": {
      "name": "python"
    }
  },
  "cells": [
    {
      "cell_type": "markdown",
      "source": [
        "# **Correção Exercício da aula 05**"
      ],
      "metadata": {
        "id": "aY3ZVshRile0"
      }
    },
    {
      "cell_type": "markdown",
      "source": [
        "Escreva um programa em Python que calcule a média ponderada. O programa deve solicitar a quantidade n de números a serem utilizados. Em seguida deve solicitar os n pesos. Depois deve solicitar os n números. Por fim, o programa deve calcular a média ponderada."
      ],
      "metadata": {
        "id": "8ojKyhktirBw"
      }
    },
    {
      "cell_type": "code",
      "source": [
        "print(\"Cálculo da Média Ponderada:\")\n",
        "n = int(input(\"Digite quantos números para cálculo da média ponderada: \"))\n",
        "pesos = [] # lista vazia de pesos\n",
        "for i in range(n):\n",
        "  msg = \"Digite \" + str(i + 1) + \"º peso de \" + str(n) + \": \"\n",
        "  pesos.append(float(input(msg)))\n",
        "numeros = []  # lista vazia de números\n",
        "print(\"\\nDigite os números:\")\n",
        "for i in range(n):\n",
        "  msg = \"Digite \" + str(i + 1) + \"º número de \" + str(n) + \": \"\n",
        "  numeros.append(float(input(msg)))\n",
        "\n",
        "termos = []\n",
        "for i in range(len(pesos)):\n",
        "  termos.append(pesos[i] * numeros[i])\n",
        "print(termos)\n",
        "\n",
        "numerador = sum(termos)\n",
        "denominador  = sum(pesos)\n",
        "\n",
        "mp = numerador/denominador\n",
        "print('\\nMP = {:.2f} '.format(mp))\n"
      ],
      "metadata": {
        "colab": {
          "base_uri": "https://localhost:8080/"
        },
        "id": "_GnJMuwnYEIo",
        "outputId": "cbbb3957-45fc-453c-ed57-28436d14165d"
      },
      "execution_count": null,
      "outputs": [
        {
          "output_type": "stream",
          "name": "stdout",
          "text": [
            "Cálculo da Média Ponderada:\n",
            "Digite quantos números para cálculo da média ponderada: 2\n",
            "Digite 1º peso de 2: 3\n",
            "Digite 2º peso de 2: 4\n",
            "\n",
            "Digite os números:\n",
            "Digite 1º número de 2: 10\n",
            "Digite 2º número de 2: 20\n",
            "[30.0, 80.0]\n",
            "110.0 7.0\n",
            "\n",
            "MP = 15.71 \n"
          ]
        }
      ]
    },
    {
      "cell_type": "code",
      "source": [
        "pesos = [3, 4]\n",
        "numeros = [10, 20]\n",
        "termos = []\n",
        "for i in range(len(pesos)):\n",
        "  termos.append(pesos[i] * numeros[i])\n",
        "print(termos)\n",
        "\n",
        "numerador = sum(termos)\n",
        "denominador  = sum(pesos)\n",
        "print(numerador, denominador)\n",
        "mp = numerador/denominador\n",
        "print('MP = {:.2f} '.format(mp))"
      ],
      "metadata": {
        "colab": {
          "base_uri": "https://localhost:8080/"
        },
        "id": "ygT9EgSiq-rD",
        "outputId": "8345aabf-1182-45e9-e27c-6a443f2836fe"
      },
      "execution_count": null,
      "outputs": [
        {
          "output_type": "stream",
          "name": "stdout",
          "text": [
            "[30, 80]\n",
            "110 7\n",
            "MP = 15.71 \n"
          ]
        }
      ]
    },
    {
      "cell_type": "markdown",
      "source": [
        "**While usado para fazer menus**"
      ],
      "metadata": {
        "id": "cYnnZ72-YFeP"
      }
    },
    {
      "cell_type": "code",
      "execution_count": null,
      "metadata": {
        "id": "yBZTT5m-YAfY"
      },
      "outputs": [],
      "source": [
        "escolha = ''\n",
        "print(\"Menu: \")\n",
        "while escolha != 'x':\n",
        "  print(\"1 - Para cálculo de uma equação do 2o grau.\")\n",
        "  print(\"2 - Para cálculo de uma equação do 2o grau.\")\n",
        "  print(\"3 - Para cálculo de uma equação do 2o grau.\")\n",
        "  print(\"x - Para cálculo de uma equação do 2o grau.\")\n",
        "  print(\"Valor escolhido: \" , escolha)\n",
        "  escolha = input(\"Digite uma das opções acima: \")\n",
        "  if (escolha != 'x'):\n",
        "    escolha = int(escolha )\n",
        "\n",
        "print(\"Fim do programa!\")"
      ]
    },
    {
      "cell_type": "markdown",
      "source": [
        "# **Funções**"
      ],
      "metadata": {
        "id": "g0WR1Vw66eFG"
      }
    },
    {
      "cell_type": "code",
      "source": [
        "def minha_funcao_1(): #a função chama-se imprime. Não há argumento\n",
        "  print(\"Funçao sem argumento\")\n",
        "\n",
        "minha_funcao_1()"
      ],
      "metadata": {
        "id": "wwjyqAhf88ie"
      },
      "execution_count": null,
      "outputs": []
    },
    {
      "cell_type": "code",
      "source": [
        "def minha_funcao_2(pai): #a função chama-se imprime. O argumento é pai\n",
        "  print(\"Nome do pai:\", pai)\n",
        "\n",
        "minha_funcao_2(\"João\")\n",
        "minha_funcao_2(\"Carlos\")\n",
        "minha_funcao_2(\"Marcos\")"
      ],
      "metadata": {
        "id": "kiETM7HZ6g9p"
      },
      "execution_count": null,
      "outputs": []
    },
    {
      "cell_type": "code",
      "source": [
        "def minha_funcao_3(pai,mae):\n",
        "  print(\"Nome do pai: \", pai, \" - Nome da mãe:\", mae)\n",
        "\n",
        "minha_funcao_3(\"Carlos\", \"Isabel\")"
      ],
      "metadata": {
        "id": "7nY39_0A-g3-"
      },
      "execution_count": null,
      "outputs": []
    },
    {
      "cell_type": "code",
      "source": [
        "def funcao_com_lista(a):\n",
        "  print(a)\n",
        "\n",
        "a = [\"Elefante\", \"Iena\", \"Leão\", \"Macaco\"]\n",
        "\n",
        "funcao_com_lista(a)"
      ],
      "metadata": {
        "id": "7WCtd2kq_md1"
      },
      "execution_count": null,
      "outputs": []
    },
    {
      "cell_type": "code",
      "source": [
        "def dobro(x):\n",
        "  return 2*x\n",
        "\n",
        "print(dobro(3))\n",
        "print(dobro(4))"
      ],
      "metadata": {
        "colab": {
          "base_uri": "https://localhost:8080/"
        },
        "id": "X4csCxYcA8ZO",
        "outputId": "39494d46-2950-4cf2-832e-a12287158bcb"
      },
      "execution_count": null,
      "outputs": [
        {
          "output_type": "stream",
          "name": "stdout",
          "text": [
            "6\n",
            "8\n"
          ]
        }
      ]
    },
    {
      "cell_type": "code",
      "source": [
        "def para_maiusculo(lista):\n",
        "  aux =[]   #lista vazia auxiliar\n",
        "  for item in lista:          #for sobre os elementos da lista\n",
        "    print(item)\n",
        "    aux.append(item.upper())  # coloca cada elemento em maiúscula e guarda em aux.\n",
        "    print(aux)\n",
        "  return aux\n",
        "\n",
        "\n",
        "a = [\"Elefante\", \"Iena\", \"Leão\", \"Macaco\"]\n",
        "print(para_maiusculo(a))"
      ],
      "metadata": {
        "colab": {
          "base_uri": "https://localhost:8080/"
        },
        "id": "aP-P_SWgBNi_",
        "outputId": "57f40b4e-7bb2-4c39-ad3a-2915a5dc9a44"
      },
      "execution_count": null,
      "outputs": [
        {
          "output_type": "stream",
          "name": "stdout",
          "text": [
            "Elefante\n",
            "['ELEFANTE']\n",
            "Iena\n",
            "['ELEFANTE', 'IENA']\n",
            "Leão\n",
            "['ELEFANTE', 'IENA', 'LEÃO']\n",
            "Macaco\n",
            "['ELEFANTE', 'IENA', 'LEÃO', 'MACACO']\n",
            "['ELEFANTE', 'IENA', 'LEÃO', 'MACACO']\n"
          ]
        }
      ]
    },
    {
      "cell_type": "code",
      "source": [
        "def media_simples(a,b):\n",
        "  return (a+b)/2\n",
        "\n",
        "print(media_simples(2,6))\n",
        "print(media_simples(12,20))"
      ],
      "metadata": {
        "id": "v-YdUa9uGTcx"
      },
      "execution_count": null,
      "outputs": []
    },
    {
      "cell_type": "markdown",
      "source": [
        "Faça uma função que solicite os pesos p1 e p2 e as notas n1 e n2. O retorno deve ser a média ponderara.\n"
      ],
      "metadata": {
        "id": "p_lKp4Y0GvKM"
      }
    },
    {
      "cell_type": "code",
      "source": [
        "def media_ponderada(p1,p2,n1,n2):\n",
        "  return ((p1*n1 + p2*n2)/(p1 + p2))\n",
        "\n",
        "print(media_ponderada(3,7,5,8))"
      ],
      "metadata": {
        "colab": {
          "base_uri": "https://localhost:8080/"
        },
        "id": "5fP3pyDaG37e",
        "outputId": "f7f460e4-25db-48c7-cc3b-62735ad71b87"
      },
      "execution_count": null,
      "outputs": [
        {
          "output_type": "stream",
          "name": "stdout",
          "text": [
            "7.1\n"
          ]
        }
      ]
    },
    {
      "cell_type": "code",
      "source": [
        "def media_ponderada_2(pesos, numeros):\n",
        "  termos = []\n",
        "  for i in range(len(pesos)):\n",
        "    termos.append(pesos[i] * numeros[i])\n",
        "  numerador = sum(termos)\n",
        "  denominador  = sum(pesos)\n",
        "  mp = numerador/denominador\n",
        "  return mp\n",
        "\n",
        "p = [3, 4]\n",
        "n = [10, 20]\n",
        "print(media_ponderada_2(p,n))"
      ],
      "metadata": {
        "colab": {
          "base_uri": "https://localhost:8080/"
        },
        "id": "MVMjkJP4HuSH",
        "outputId": "f8206da7-82a6-42b3-a91e-a66c8f1bb6d6"
      },
      "execution_count": null,
      "outputs": [
        {
          "output_type": "stream",
          "name": "stdout",
          "text": [
            "15.714285714285714\n"
          ]
        }
      ]
    },
    {
      "cell_type": "code",
      "source": [],
      "metadata": {
        "id": "Bc8cAqgjGt-T"
      },
      "execution_count": null,
      "outputs": []
    }
  ]
}