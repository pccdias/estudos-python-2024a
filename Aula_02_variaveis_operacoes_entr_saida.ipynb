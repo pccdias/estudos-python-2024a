{
  "nbformat": 4,
  "nbformat_minor": 0,
  "metadata": {
    "colab": {
      "provenance": []
    },
    "kernelspec": {
      "name": "python3",
      "display_name": "Python 3"
    },
    "language_info": {
      "name": "python"
    }
  },
  "cells": [
    {
      "cell_type": "markdown",
      "source": [
        "# **Correção do exercício da aula passada.**"
      ],
      "metadata": {
        "id": "Q2Fw7phbWjQa"
      }
    },
    {
      "cell_type": "markdown",
      "source": [
        "Escreva um programa em Python que converta a velocidade de m/s para km/h"
      ],
      "metadata": {
        "id": "ktFtJuv1Wp_C"
      }
    },
    {
      "cell_type": "code",
      "source": [
        "veloc_ms = float(input(\"Entre a velocidade em m/s: \"))\n",
        "veloc_kmh = veloc_ms * 3.6\n",
        "print(veloc_kmh)"
      ],
      "metadata": {
        "colab": {
          "base_uri": "https://localhost:8080/"
        },
        "outputId": "174cd3ea-383e-4c0d-d877-980874e050d1",
        "id": "6_Cl2BWJaZb7"
      },
      "execution_count": null,
      "outputs": [
        {
          "output_type": "stream",
          "name": "stdout",
          "text": [
            "Entre a velocidade em m/s: 20\n",
            "72.0\n"
          ]
        }
      ]
    },
    {
      "cell_type": "code",
      "source": [
        "veloc_ms = float(input(\"Entre a velocidade em m/s: \"))\n",
        "print(veloc_ms*3.6)"
      ],
      "metadata": {
        "colab": {
          "base_uri": "https://localhost:8080/"
        },
        "id": "OGzMGf1VWzKv",
        "outputId": "174cd3ea-383e-4c0d-d877-980874e050d1"
      },
      "execution_count": null,
      "outputs": [
        {
          "output_type": "stream",
          "name": "stdout",
          "text": [
            "Entre a velocidade em m/s: 20\n",
            "72.0\n"
          ]
        }
      ]
    },
    {
      "cell_type": "code",
      "execution_count": null,
      "metadata": {
        "colab": {
          "base_uri": "https://localhost:8080/"
        },
        "id": "Ko0HMjbAWGJr",
        "outputId": "a14c0736-f0c3-400b-d5fe-11a8af43bbec"
      },
      "outputs": [
        {
          "output_type": "stream",
          "name": "stdout",
          "text": [
            "Entre a velocidade em m/s: 20\n",
            "72.0\n"
          ]
        }
      ],
      "source": [
        "print(float(input(\"Entre a velocidade em m/s: \")) * 3.6)"
      ]
    },
    {
      "cell_type": "code",
      "source": [
        "veloc_ms = float(input(\"Entre a velocidade em m/s: \"))\n",
        "veloc_kmh = veloc_ms * 3.6\n",
        "print(\"A velocidade de \", veloc_ms, \" m/s em Km/h é igual a \", veloc_kmh)"
      ],
      "metadata": {
        "colab": {
          "base_uri": "https://localhost:8080/"
        },
        "id": "N6VGaS22aria",
        "outputId": "5845367e-5dde-48cc-f023-7973072a946e"
      },
      "execution_count": null,
      "outputs": [
        {
          "output_type": "stream",
          "name": "stdout",
          "text": [
            "Entre a velocidade em m/s: 20\n",
            "A velocidade de  20.0  m/s em Km/h é igual a  72.0\n"
          ]
        }
      ]
    },
    {
      "cell_type": "markdown",
      "source": [
        "# **Exercício 01**"
      ],
      "metadata": {
        "id": "Y-bTPFTMb8UF"
      }
    },
    {
      "cell_type": "markdown",
      "source": [
        "Escreva um programa que peça a temperatura em Farenheit e converta em graus Celsius.\n",
        "\n",
        "> Bloco com recuo\n",
        "\n"
      ],
      "metadata": {
        "id": "pNxgVcmGb_ES"
      }
    },
    {
      "cell_type": "code",
      "source": [
        "#solicita a temp. em Farenheit\n",
        "temp_farenheit = float(input(\"Entre com a temp. em Farenheit: \"))\n",
        "#calcula a temp. em celsius\n",
        "temp_celsius = (temp_farenheit - 32.0)/1.8\n",
        "#imprime o resultado\n",
        "print(temp_farenheit, \"ºF equivale a \", temp_celsius, \"ºC\")"
      ],
      "metadata": {
        "colab": {
          "base_uri": "https://localhost:8080/"
        },
        "id": "6797sUHScHTV",
        "outputId": "bc0303b5-a6a5-413d-9751-2f54b0447727"
      },
      "execution_count": null,
      "outputs": [
        {
          "output_type": "stream",
          "name": "stdout",
          "text": [
            "Entre com a temp. em Farenheit: 212\n",
            "212.0 ºF equivale a  100.0 ºC\n"
          ]
        }
      ]
    },
    {
      "cell_type": "markdown",
      "source": [
        "# **Exercício 02**"
      ],
      "metadata": {
        "id": "bLwtKw3xhvXH"
      }
    },
    {
      "cell_type": "markdown",
      "source": [
        "Escreva um programa que peça a temperatura em Celsius e converta em graus Farenheit."
      ],
      "metadata": {
        "id": "y01Tgk5KhyyU"
      }
    },
    {
      "cell_type": "code",
      "source": [
        "#solicita a temp em celsius\n",
        "temp_celsius = float(input(\"Entre com a temp. em Celsius: \"))\n",
        "#calcula a temp. em farenheit\n",
        "temp_farenheit = (temp_celsius*9/5) + 32\n",
        "#imprime o resultado em farenheit\n",
        "print(temp_celsius, \" graus Celsius equivalem a \", temp_farenheit, \"graus Farenheit\")"
      ],
      "metadata": {
        "colab": {
          "base_uri": "https://localhost:8080/"
        },
        "id": "-FSP8l4nb4xg",
        "outputId": "042dea23-5331-4a06-c3d3-74f76014cd0d"
      },
      "execution_count": null,
      "outputs": [
        {
          "output_type": "stream",
          "name": "stdout",
          "text": [
            "Entre com a temp. em Celsius: 20\n",
            "20.0  graus Celsius equivalem a  68.0 graus Farenheit\n"
          ]
        }
      ]
    },
    {
      "cell_type": "markdown",
      "source": [
        "# **Exercício 03**"
      ],
      "metadata": {
        "id": "Lvn5qld8r8ij"
      }
    },
    {
      "cell_type": "markdown",
      "source": [
        "Faça um programa em Python que calcule o montante de uma capitalização em juros compostos. O usuário deve informar o valor inicial, a taxa de juros no período e o número de períodos de capitalização."
      ],
      "metadata": {
        "id": "QAVmkqPar-5j"
      }
    },
    {
      "cell_type": "code",
      "source": [
        "#solicite o capital inicial ao usuário\n",
        "C = float(input(\"Entre com o capital inicial: \"))\n",
        "#solcite a taxa de juros no periodo em %\n",
        "i = float(input(\"Entre com a taxa de juros no período (%): \"))/100\n",
        "#solicite o período de captalização\n",
        "n = float(input(\"Entre o período de capitalização (n): \"))\n",
        "#calculo do montante M\n",
        "M = C * (1+i)**n\n",
        "#imprimindo o resultado\n",
        "print(\"O montante é igual a: \", M)\n"
      ],
      "metadata": {
        "colab": {
          "base_uri": "https://localhost:8080/"
        },
        "id": "I36GN6eqsPFP",
        "outputId": "a8c9f32d-9b72-4f89-de90-425dfce73a31"
      },
      "execution_count": null,
      "outputs": [
        {
          "output_type": "stream",
          "name": "stdout",
          "text": [
            "Entre com o capital inicial: 1\n",
            "Entre com a taxa de juros no período (%): 4.5\n",
            "Entre o período de capitalização (n): 3\n",
            "O montante é igual a:  1.1411661249999998\n"
          ]
        }
      ]
    },
    {
      "cell_type": "markdown",
      "source": [
        "# **Exercício 04**"
      ],
      "metadata": {
        "id": "z5ZfHGqvxe8W"
      }
    },
    {
      "cell_type": "markdown",
      "source": [
        "Faça um program em Python que calcule a velocidade de um ponto (v em m/s) a partir de sua velocidade inicial (vo em m/s), aceleração (a m/s^2) e tempo em segundos (t). v = vo + a * t"
      ],
      "metadata": {
        "id": "WHDdCat5xiMV"
      }
    },
    {
      "cell_type": "code",
      "source": [
        "#entrada da veloc. inicial em m/s\n",
        "vo = float(input(\"Entre a veloc. inicial em m/s: \"))\n",
        "#entrada da aceleração m/s^2\n",
        "a = float(input(\"Entre da aceleração em m/s^2: \"))\n",
        "#entrada do tempo em s\n",
        "t = float(input(\"Entre o tempo em s: \"))\n",
        "#calculo da velocidade\n",
        "v = vo + a*t\n",
        "#apresentando o resultado\n",
        "print('A velocidade final é {:.3f}'.format(v))\n",
        "print(\"\\n\")\n",
        "msg = \"\"\"Considerando:\n",
        " vo = {:.2f}m/s\n",
        " a = {:.2f}m/s^2\n",
        " t = {:.2f}s\n",
        "\n",
        " v = {:.2f} m/s\n",
        " \"\"\"\n",
        "print(msg.format(vo,a,t,v))\n"
      ],
      "metadata": {
        "colab": {
          "base_uri": "https://localhost:8080/"
        },
        "id": "wIjQSYy1xzAN",
        "outputId": "32cc2394-4def-459f-d6f3-fdbe1290ab96"
      },
      "execution_count": null,
      "outputs": [
        {
          "output_type": "stream",
          "name": "stdout",
          "text": [
            "Entre a veloc. inicial em m/s: 10\n",
            "Entre da aceleração em m/s^2: 10\n",
            "Entre o tempo em s: 2\n",
            "A velocidade final é 30.000\n",
            "\n",
            "\n",
            "Considerando:\n",
            " vo = 10.00m/s\n",
            " a = 10.00m/s^2\n",
            " t = 2.00s\n",
            "\n",
            " v = 30.00 m/s \n",
            " \n"
          ]
        }
      ]
    },
    {
      "cell_type": "markdown",
      "source": [
        "# **Exemplo de formatação numérica usando format**"
      ],
      "metadata": {
        "id": "2Z7P3XT86ECY"
      }
    },
    {
      "cell_type": "code",
      "source": [
        "a = 4.34353\n",
        "b = 3.3534\n",
        "print('O valor de a é {:.2f}. O valor de b é {:.3f}'.format(a,b))"
      ],
      "metadata": {
        "id": "KwHWugox6J9e"
      },
      "execution_count": null,
      "outputs": []
    },
    {
      "cell_type": "markdown",
      "source": [
        "# **Exercício 05**"
      ],
      "metadata": {
        "id": "kBDZXCbd7Bfa"
      }
    },
    {
      "cell_type": "markdown",
      "source": [
        "Escreva um programa em Python que calcule o valor de s na equanção s = so + vo*t + a*t^2/2."
      ],
      "metadata": {
        "id": "sivpAs-O7FzK"
      }
    },
    {
      "cell_type": "code",
      "source": [
        "#solicite a posição inicial s0\n",
        "s0 = float(input(\"Entre s0 em m: \"))\n",
        "#solicite a velocidade inicial v0\n",
        "v0 = float(input(\"Entre v0 em m/s: \"))\n",
        "#solicite a aceleração a\n",
        "a = float(input(\"Entre a aceleração a em m/s^2: \"))\n",
        "#solicite o tempo\n",
        "t = float(input(\"Entre o tempo t em s: \"))\n",
        "#calculo da posição\n",
        "s = s0 + v0*t + (a*t**2)/2\n",
        "#string para apresentar o resultado\n",
        "msg = \"\"\"\\nConsiderando:\n",
        "s0 = {:.2f}m\n",
        "v0 = {:.2f}m/s\n",
        "a = {:.2f}m/s^2\n",
        "t = {:.2f}s\n",
        "\n",
        "s = {:.2f}m\"\"\"\n",
        "print(msg.format(s0,v0,a,t,s))"
      ],
      "metadata": {
        "colab": {
          "base_uri": "https://localhost:8080/"
        },
        "id": "H1MW1aGC7Qar",
        "outputId": "fb8ccc79-16a7-4346-9d48-05458ff6d682"
      },
      "execution_count": null,
      "outputs": [
        {
          "output_type": "stream",
          "name": "stdout",
          "text": [
            "Entre s0 em m: 10\n",
            "Entre v0 em m/s: 10\n",
            "Entre a aceleração a em m/s^2: 2\n",
            "Entre o tempo t em s: 2\n",
            "\n",
            "Considerando:\n",
            "s0 = 10.00m\n",
            "v0 = 10.00m/s\n",
            "a = 2.00m/s^2\n",
            "t = 2.00s\n",
            "\n",
            "s = 34.00m\n"
          ]
        }
      ]
    },
    {
      "cell_type": "markdown",
      "source": [
        "# **Exercício 06**"
      ],
      "metadata": {
        "id": "e2DsIrul-37a"
      }
    },
    {
      "cell_type": "markdown",
      "source": [
        "Calcule a velocidade final v (m/s) usando a fórmula de Torricelli: v^2 = v0^2 + 2*a*delta_s."
      ],
      "metadata": {
        "id": "sHwl6EHD-7Po"
      }
    },
    {
      "cell_type": "markdown",
      "source": [
        "Exemplo do uso de raíz quadrada em Python"
      ],
      "metadata": {
        "id": "UTmNprB4_6tt"
      }
    },
    {
      "cell_type": "code",
      "source": [
        "import math\n",
        "a = 25\n",
        "print(math.sqrt(a))"
      ],
      "metadata": {
        "colab": {
          "base_uri": "https://localhost:8080/"
        },
        "id": "FYjIsu3C_5aA",
        "outputId": "f3a2414c-2b30-477a-c3de-76c7e85d3f93"
      },
      "execution_count": null,
      "outputs": [
        {
          "output_type": "stream",
          "name": "stdout",
          "text": [
            "5.0\n"
          ]
        },
        {
          "output_type": "execute_result",
          "data": {
            "text/plain": [
              "3.141592653589793"
            ]
          },
          "metadata": {},
          "execution_count": 29
        }
      ]
    },
    {
      "cell_type": "code",
      "source": [
        "import math\n",
        "#solicite a velocidade inicial v0\n",
        "v0 = float(input(\"Entre v0 em m/s: \"))\n",
        "#solicite a aceleração a\n",
        "a = float(input(\"Entre a aceleração a em m/s^2: \"))\n",
        "#solicite a distância percorrida\n",
        "delta_S = float(input(\"Entre a distância percorrida delta_S em m: \"))\n",
        "#calulo de v\n",
        "v = math.sqrt(v0**2 + 2*a*delta_S)\n",
        "#string para apresentar o resultado\n",
        "msg = \"\"\"\\nConsiderando:\n",
        "v0 = {:.2f}m/s\n",
        "a = {:.2f}m/s^2\n",
        "delta_S = {:.2f}m\n",
        "\n",
        "v = {:.2f}m/s\"\"\"\n",
        "print(msg.format(v0,a,delta_S,v))\n"
      ],
      "metadata": {
        "colab": {
          "base_uri": "https://localhost:8080/"
        },
        "id": "iiZig7qLBFwC",
        "outputId": "da833430-ae31-4ac2-dd32-5ceaed783f39"
      },
      "execution_count": null,
      "outputs": [
        {
          "output_type": "stream",
          "name": "stdout",
          "text": [
            "Entre v0 em m/s: 4\n",
            "Entre a aceleração a em m/s^2: 4.5\n",
            "Entre a distância percorrida delta_S em m: 1\n",
            "\n",
            "Considerando:\n",
            "v0 = 4.00m/s\n",
            "a = 4.50m/s^2\n",
            "delta_S = 1.00m\n",
            "\n",
            "v = 5.00m/s\n"
          ]
        }
      ]
    }
  ]
}