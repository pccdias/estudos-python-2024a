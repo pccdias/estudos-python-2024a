{
  "nbformat": 4,
  "nbformat_minor": 0,
  "metadata": {
    "colab": {
      "provenance": []
    },
    "kernelspec": {
      "name": "python3",
      "display_name": "Python 3"
    },
    "language_info": {
      "name": "python"
    }
  },
  "cells": [
    {
      "cell_type": "markdown",
      "source": [
        "# **Computação Simbólica com Python**"
      ],
      "metadata": {
        "id": "XntgYi3X1TE3"
      }
    },
    {
      "cell_type": "markdown",
      "source": [
        "Tutoriais:\n",
        "https://www.tutorialspoint.com/sympy/sympy_derivative.htm\n",
        "\n",
        "\n",
        "https://www.sympy.org/en/index.html"
      ],
      "metadata": {
        "id": "vb5p1jP77EVI"
      }
    },
    {
      "cell_type": "code",
      "source": [
        "import sympy\n",
        "from sympy import I, pi, oo"
      ],
      "metadata": {
        "id": "4lXC74-c1Slg"
      },
      "execution_count": 2,
      "outputs": []
    },
    {
      "cell_type": "code",
      "execution_count": 4,
      "metadata": {
        "id": "3hfXmsNI1N46",
        "colab": {
          "base_uri": "https://localhost:8080/",
          "height": 39
        },
        "outputId": "37f8de5a-b7f4-46b1-82fa-0e486784fffa"
      },
      "outputs": [
        {
          "output_type": "execute_result",
          "data": {
            "text/plain": [
              "sqrt(x**2)"
            ],
            "text/latex": "$\\displaystyle \\sqrt{x^{2}}$"
          },
          "metadata": {},
          "execution_count": 4
        }
      ],
      "source": [
        "x = sympy.Symbol(\"x\")\n",
        "y = sympy.Symbol(\"y\", positive=True)\n",
        "sympy.sqrt(x ** 2)"
      ]
    },
    {
      "cell_type": "markdown",
      "source": [
        "Calculo"
      ],
      "metadata": {
        "id": "ldwwoOR15Dgk"
      }
    },
    {
      "cell_type": "code",
      "source": [
        "expr = (x**4 + x**3) /( x**2 + x + 1)\n",
        "expr.diff(x)"
      ],
      "metadata": {
        "colab": {
          "base_uri": "https://localhost:8080/",
          "height": 62
        },
        "id": "KVR3LPNM5FeA",
        "outputId": "4c5896f9-74a6-4042-d080-b26168f3b26f"
      },
      "execution_count": 10,
      "outputs": [
        {
          "output_type": "execute_result",
          "data": {
            "text/plain": [
              "(-2*x - 1)*(x**4 + x**3)/(x**2 + x + 1)**2 + (4*x**3 + 3*x**2)/(x**2 + x + 1)"
            ],
            "text/latex": "$\\displaystyle \\frac{\\left(- 2 x - 1\\right) \\left(x^{4} + x^{3}\\right)}{\\left(x^{2} + x + 1\\right)^{2}} + \\frac{4 x^{3} + 3 x^{2}}{x^{2} + x + 1}$"
          },
          "metadata": {},
          "execution_count": 10
        }
      ]
    },
    {
      "cell_type": "code",
      "source": [
        "expr = sympy.sin(x * y) * sympy.cos(x / 2)\n",
        "expr.diff(x)"
      ],
      "metadata": {
        "colab": {
          "base_uri": "https://localhost:8080/",
          "height": 56
        },
        "id": "I5JKyosw5RP9",
        "outputId": "541c42c0-4cc7-4ba9-ad58-e426f0daa2ef"
      },
      "execution_count": 6,
      "outputs": [
        {
          "output_type": "execute_result",
          "data": {
            "text/plain": [
              "y*cos(x/2)*cos(x*y) - sin(x/2)*sin(x*y)/2"
            ],
            "text/latex": "$\\displaystyle y \\cos{\\left(\\frac{x}{2} \\right)} \\cos{\\left(x y \\right)} - \\frac{\\sin{\\left(\\frac{x}{2} \\right)} \\sin{\\left(x y \\right)}}{2}$"
          },
          "metadata": {},
          "execution_count": 6
        }
      ]
    },
    {
      "cell_type": "code",
      "source": [
        "sympy.integrate(sympy.exp(-x**2), (x, 0, oo))"
      ],
      "metadata": {
        "colab": {
          "base_uri": "https://localhost:8080/",
          "height": 54
        },
        "id": "-oV9Cyna5hVE",
        "outputId": "d26b358d-0d0e-4636-e2e6-f2f26247d606"
      },
      "execution_count": 7,
      "outputs": [
        {
          "output_type": "execute_result",
          "data": {
            "text/plain": [
              "sqrt(pi)/2"
            ],
            "text/latex": "$\\displaystyle \\frac{\\sqrt{\\pi}}{2}$"
          },
          "metadata": {},
          "execution_count": 7
        }
      ]
    },
    {
      "cell_type": "code",
      "source": [
        "expr=x*sympy.sin(x*x)+1\n",
        "sympy.integrate(sympy.exp(-x**2), (x, 0, oo))"
      ],
      "metadata": {
        "colab": {
          "base_uri": "https://localhost:8080/",
          "height": 54
        },
        "id": "KoWn3L3N6Tfb",
        "outputId": "02eadbaf-b011-41b7-ecf1-010058866876"
      },
      "execution_count": 11,
      "outputs": [
        {
          "output_type": "execute_result",
          "data": {
            "text/plain": [
              "sqrt(pi)/2"
            ],
            "text/latex": "$\\displaystyle \\frac{\\sqrt{\\pi}}{2}$"
          },
          "metadata": {},
          "execution_count": 11
        }
      ]
    },
    {
      "cell_type": "code",
      "source": [],
      "metadata": {
        "id": "tLu8oKq59M5p"
      },
      "execution_count": null,
      "outputs": []
    },
    {
      "cell_type": "code",
      "source": [
        "expr_karina = sympy.ln(sympy.tan(x))\n",
        "expr_karina.diff()"
      ],
      "metadata": {
        "colab": {
          "base_uri": "https://localhost:8080/",
          "height": 58
        },
        "id": "txv-GNfl9AGZ",
        "outputId": "e5c9af4d-62d9-414f-8697-22a80316230d"
      },
      "execution_count": 15,
      "outputs": [
        {
          "output_type": "execute_result",
          "data": {
            "text/plain": [
              "(tan(x)**2 + 1)/tan(x)"
            ],
            "text/latex": "$\\displaystyle \\frac{\\tan^{2}{\\left(x \\right)} + 1}{\\tan{\\left(x \\right)}}$"
          },
          "metadata": {},
          "execution_count": 15
        }
      ]
    }
  ]
}