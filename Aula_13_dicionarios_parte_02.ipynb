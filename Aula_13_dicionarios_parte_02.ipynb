{
  "nbformat": 4,
  "nbformat_minor": 0,
  "metadata": {
    "colab": {
      "provenance": [],
      "authorship_tag": "ABX9TyOxY8+necv9G84GjWNNorN7",
      "include_colab_link": true
    },
    "kernelspec": {
      "name": "python3",
      "display_name": "Python 3"
    },
    "language_info": {
      "name": "python"
    }
  },
  "cells": [
    {
      "cell_type": "markdown",
      "metadata": {
        "id": "view-in-github",
        "colab_type": "text"
      },
      "source": [
        "<a href=\"https://colab.research.google.com/github/pccdias/estudos-python-2024a/blob/master/Aula_13_dicionarios_parte_02.ipynb\" target=\"_parent\"><img src=\"https://colab.research.google.com/assets/colab-badge.svg\" alt=\"Open In Colab\"/></a>"
      ]
    },
    {
      "cell_type": "code",
      "execution_count": 1,
      "metadata": {
        "id": "CES1lbotEBnk"
      },
      "outputs": [],
      "source": []
    },
    {
      "cell_type": "markdown",
      "source": [
        "# **Aula 13 - Dicionários - 20/05/2024**"
      ],
      "metadata": {
        "id": "OECSdddOzAhd"
      }
    },
    {
      "cell_type": "markdown",
      "source": [
        "# **Dicionário**"
      ],
      "metadata": {
        "id": "hxBkj8nvaQtQ"
      }
    },
    {
      "cell_type": "code",
      "source": [
        "carro = {\n",
        "    \"fabricante\" : \"Chevrolet\",  #o dicionário usa chave-valor (key:value)\n",
        "    \"modelo\": \"S10\",\n",
        "    \"tipo\" : \"caminhonete\",\n",
        "    \"ano\": 2024, #o valor pode ser numero\n",
        "    \"combustível\" : [\"diesel\",\"flex\"], #o valor pode ser lista, etc\n",
        "    \"cores\": [\"branca\", \"chumbo\", \"preta\"]\n",
        "}"
      ],
      "metadata": {
        "id": "CbQYg4e2aTZD"
      },
      "execution_count": 2,
      "outputs": []
    },
    {
      "cell_type": "code",
      "source": [
        "print(type(carro))   #retorna o tipo 'dict'\n",
        "print(carro[\"fabricante\"]) #acessa o valor a partir da chave\n",
        "print(\"Vende-se\", carro['tipo'], \"modelo \", carro[\"modelo\"])\n",
        "print(carro[\"cores\"]) #acessou o valor multivariado (lista)\n",
        "print(carro[\"cores\"][1]) #acessou uma cor de do valor multivariado"
      ],
      "metadata": {
        "colab": {
          "base_uri": "https://localhost:8080/"
        },
        "id": "Vc7leZyJbxfI",
        "outputId": "718b0b4d-aceb-4189-a28f-6fd6f4b8afd3"
      },
      "execution_count": 3,
      "outputs": [
        {
          "output_type": "stream",
          "name": "stdout",
          "text": [
            "<class 'dict'>\n",
            "Chevrolet\n",
            "Vende-se caminhonete modelo  S10\n",
            "['branca', 'chumbo', 'preta']\n",
            "chumbo\n"
          ]
        }
      ]
    },
    {
      "cell_type": "markdown",
      "source": [
        "Obtendo as chaves"
      ],
      "metadata": {
        "id": "uAJEWcmbgaAp"
      }
    },
    {
      "cell_type": "code",
      "source": [
        "#obtendo as chaves de um dicionário\n",
        "chaves_carro = carro.keys()\n",
        "print(type(chaves_carro))\n",
        "print(chaves_carro)"
      ],
      "metadata": {
        "colab": {
          "base_uri": "https://localhost:8080/"
        },
        "id": "-VugtAjsgEtr",
        "outputId": "b7f9c19e-4cb7-4039-ac5d-5e5e8aa4e5e2"
      },
      "execution_count": 4,
      "outputs": [
        {
          "output_type": "stream",
          "name": "stdout",
          "text": [
            "<class 'dict_keys'>\n",
            "dict_keys(['fabricante', 'modelo', 'tipo', 'ano', 'combustível', 'cores'])\n"
          ]
        }
      ]
    },
    {
      "cell_type": "markdown",
      "source": [
        "Mudando o valor de um dicionário"
      ],
      "metadata": {
        "id": "ffxNbC3ogsc4"
      }
    },
    {
      "cell_type": "code",
      "source": [
        "carro['ano'] = 2022\n",
        "print(carro)"
      ],
      "metadata": {
        "colab": {
          "base_uri": "https://localhost:8080/"
        },
        "collapsed": true,
        "id": "OBOPU-JZgucY",
        "outputId": "7428be01-5949-4ac0-a8d2-d70ed43db262"
      },
      "execution_count": 5,
      "outputs": [
        {
          "output_type": "stream",
          "name": "stdout",
          "text": [
            "{'fabricante': 'Chevrolet', 'modelo': 'S10', 'tipo': 'caminhonete', 'ano': 2022, 'combustível': ['diesel', 'flex'], 'cores': ['branca', 'chumbo', 'preta']}\n"
          ]
        }
      ]
    },
    {
      "cell_type": "markdown",
      "source": [
        "Obter os valores de um dicionário"
      ],
      "metadata": {
        "id": "cpWNUqKphGyL"
      }
    },
    {
      "cell_type": "code",
      "source": [
        "valores_carro = carro.values()\n",
        "print(type(valores_carro))\n",
        "print(valores_carro)"
      ],
      "metadata": {
        "id": "03ffusUPhJiB",
        "colab": {
          "base_uri": "https://localhost:8080/"
        },
        "outputId": "2cd8363e-511b-448f-b93a-b6bfb13c821a"
      },
      "execution_count": 6,
      "outputs": [
        {
          "output_type": "stream",
          "name": "stdout",
          "text": [
            "<class 'dict_values'>\n",
            "dict_values(['Chevrolet', 'S10', 'caminhonete', 2022, ['diesel', 'flex'], ['branca', 'chumbo', 'preta']])\n"
          ]
        }
      ]
    },
    {
      "cell_type": "code",
      "source": [
        "for key in carro:\n",
        "  print(key)"
      ],
      "metadata": {
        "id": "zDo40rAwhrz1",
        "colab": {
          "base_uri": "https://localhost:8080/"
        },
        "outputId": "bd8259b5-73a8-4299-c8f6-c2aba2816088"
      },
      "execution_count": 7,
      "outputs": [
        {
          "output_type": "stream",
          "name": "stdout",
          "text": [
            "fabricante\n",
            "modelo\n",
            "tipo\n",
            "ano\n",
            "combustível\n",
            "cores\n"
          ]
        }
      ]
    },
    {
      "cell_type": "code",
      "source": [
        "for value in carro.items():\n",
        "  print(value)"
      ],
      "metadata": {
        "id": "l9Xe-S9OiKF5",
        "colab": {
          "base_uri": "https://localhost:8080/"
        },
        "outputId": "71d5ef47-c462-4a62-cc28-8bbccb6dc77b"
      },
      "execution_count": 8,
      "outputs": [
        {
          "output_type": "stream",
          "name": "stdout",
          "text": [
            "('fabricante', 'Chevrolet')\n",
            "('modelo', 'S10')\n",
            "('tipo', 'caminhonete')\n",
            "('ano', 2022)\n",
            "('combustível', ['diesel', 'flex'])\n",
            "('cores', ['branca', 'chumbo', 'preta'])\n"
          ]
        }
      ]
    },
    {
      "cell_type": "code",
      "source": [
        "for key,value in carro.items():\n",
        "  print(key, value)"
      ],
      "metadata": {
        "id": "_1XrRIqiifV0",
        "colab": {
          "base_uri": "https://localhost:8080/"
        },
        "outputId": "4b77bded-b0d0-42c5-e8cd-a086831f7947"
      },
      "execution_count": 9,
      "outputs": [
        {
          "output_type": "stream",
          "name": "stdout",
          "text": [
            "fabricante Chevrolet\n",
            "modelo S10\n",
            "tipo caminhonete\n",
            "ano 2022\n",
            "combustível ['diesel', 'flex']\n",
            "cores ['branca', 'chumbo', 'preta']\n"
          ]
        }
      ]
    },
    {
      "cell_type": "markdown",
      "source": [
        "Adcionando outro item no dicionário"
      ],
      "metadata": {
        "id": "u8RsJSCAj_vQ"
      }
    },
    {
      "cell_type": "code",
      "source": [
        "carro['turbo'] = True\n",
        "print(carro)"
      ],
      "metadata": {
        "id": "1aDwC9iUkFj1",
        "colab": {
          "base_uri": "https://localhost:8080/"
        },
        "outputId": "60736839-60cf-4397-c877-ecf5d84cf4ab"
      },
      "execution_count": 10,
      "outputs": [
        {
          "output_type": "stream",
          "name": "stdout",
          "text": [
            "{'fabricante': 'Chevrolet', 'modelo': 'S10', 'tipo': 'caminhonete', 'ano': 2022, 'combustível': ['diesel', 'flex'], 'cores': ['branca', 'chumbo', 'preta'], 'turbo': True}\n"
          ]
        }
      ]
    },
    {
      "cell_type": "markdown",
      "source": [
        "Verificar se uma chave está no dicionário"
      ],
      "metadata": {
        "id": "aVz9wGoFkg7Y"
      }
    },
    {
      "cell_type": "code",
      "source": [
        "print(\"modelo\" in carro)\n",
        "print(\"acessorio\" in carro)"
      ],
      "metadata": {
        "colab": {
          "base_uri": "https://localhost:8080/"
        },
        "id": "5pCDwj5bkgc1",
        "outputId": "654888c2-c244-4186-9d85-bdd5db0d70f1"
      },
      "execution_count": 11,
      "outputs": [
        {
          "output_type": "stream",
          "name": "stdout",
          "text": [
            "True\n",
            "False\n"
          ]
        }
      ]
    },
    {
      "cell_type": "markdown",
      "source": [
        "Update"
      ],
      "metadata": {
        "id": "CV9-H1zQEdVR"
      }
    },
    {
      "cell_type": "code",
      "source": [
        "carro.update({'ano':2020})\n",
        "print(carro)"
      ],
      "metadata": {
        "colab": {
          "base_uri": "https://localhost:8080/"
        },
        "id": "fmqs455KEh97",
        "outputId": "facf14c1-6daf-4227-a3ad-d2fbfe1550b4"
      },
      "execution_count": 12,
      "outputs": [
        {
          "output_type": "stream",
          "name": "stdout",
          "text": [
            "{'fabricante': 'Chevrolet', 'modelo': 'S10', 'tipo': 'caminhonete', 'ano': 2020, 'combustível': ['diesel', 'flex'], 'cores': ['branca', 'chumbo', 'preta'], 'turbo': True}\n"
          ]
        }
      ]
    },
    {
      "cell_type": "markdown",
      "source": [
        "Exemplo de busca de informação via Request"
      ],
      "metadata": {
        "id": "C0hoB_usF6uZ"
      }
    },
    {
      "cell_type": "markdown",
      "source": [
        "Referência: https://realpython.com/python-requests/"
      ],
      "metadata": {
        "id": "N3NLFYbUHF0v"
      }
    },
    {
      "cell_type": "code",
      "source": [
        "import requests\n",
        "\n",
        "x = requests.get('https://servicodados.ibge.gov.br/api/v1/paises/AF')\n",
        "\n",
        "print(x.text)\n",
        "print(type(x))"
      ],
      "metadata": {
        "colab": {
          "base_uri": "https://localhost:8080/"
        },
        "id": "3rY6mlQnF-ID",
        "outputId": "e97b62da-0fb5-4ef7-c684-44e9f2ff22fd"
      },
      "execution_count": 14,
      "outputs": [
        {
          "output_type": "stream",
          "name": "stdout",
          "text": [
            "[{\"id\":{\"M49\":4,\"ISO-3166-1-ALPHA-2\":\"AF\",\"ISO-3166-1-ALPHA-3\":\"AFG\"},\"nome\":{\"abreviado\":\"Afeganistão\",\"abreviado-EN\":\"Afghanistan\",\"abreviado-ES\":\"Afganistán\"},\"area\":{\"total\":\"652230\",\"unidade\":{\"nome\":\"quilômetros quadrados\",\"símbolo\":\"km2\",\"multiplicador\":1}},\"localizacao\":{\"regiao\":{\"id\":{\"M49\":142},\"nome\":\"Ásia\"},\"sub-regiao\":{\"id\":{\"M49\":34},\"nome\":\"Ásia meridional (Sul da Ásia)\"},\"regiao-intermediaria\":null},\"linguas\":[{\"id\":{\"ISO-639-1\":\"fa\",\"ISO-639-2\":\"fas\"},\"nome\":\"persa\"}],\"governo\":{\"capital\":{\"nome\":\"Cabul\"}},\"unidades-monetarias\":[{\"id\":{\"ISO-4217-ALPHA\":\"AFN\",\"ISO-4217-NUMERICO\":\"971\"},\"nome\":\"Afegane\"}],\"historico\":\"A República Islâmica do Afeganistão é um país localizado no centro do continente asiático. No século XVIII, o país é invadido pelos persas. Conquistaria a independência em 1747 graças a Ahmed Shah Durrani, que unificou as tribos pashtuns. Com o fim do Império Durrani, tem início o Emirado do Afeganistão, com o reinado de Dost Mohammad Khan, em 1823. O Afeganistão serviu como amortecedor entre os impérios britânico e russo, até que conquistou a independência do controle britânico em 1919.A União Soviética invadiu o país em 1979 para apoiar o regime comunista, desencadeando uma longa guerra. Em 1989, sob a pressão implacável de rebeldes mujahidin anticomunistas apoiados internacionalmente, a União Soviética sai do território afegão. Uma série de guerras civis subsequentes faz com que a cidade de Cabul caia nas mãos do grupo fundamentalista islâmico Talibã, em 1996. Uma conferência em Bonn, Alemanha, patrocinada pela ONU em 2001, estabeleceu um processo de reconstrução política que incluiu a adoção de uma nova constituição e a eleição presidencial em 2004. Em dezembro de 2004, Hamid Karzai se tornou o primeiro presidente democraticamente eleito do Afeganistão, sendo reeleito em agosto de 2009 para o segundo mandato. Novas eleições ocorreram em 2014, resultando num impasse. Ashraf Ghani e Abdullah eram os dois adversários que concorriam à sucessão do presidente Hamid Karzai. Ghani foi o vencedor no segundo turno, mas Abdullah denunciou fraude, o que provocou um processo de revisão eleitoral. Por conta disso, ambos assinaram um acordo de governo, em setembro de 2014, no qual ficou instituído que o presidente seria Ghani e Abdullah ocuparia um cargo executivo similar ao de primeiro-ministro. Fontes: https://www.infoplease.com/encyclopedia/places/asia/afghanistan-political-geography/afghanistan/history https://www.cia.gov/library/publications/the-world-factbook/geos/af.html\"},{\"id\":{\"M49\":4,\"ISO-3166-1-ALPHA-2\":\"AF\",\"ISO-3166-1-ALPHA-3\":\"AFG\"},\"nome\":{\"abreviado\":\"Afeganistão\",\"abreviado-EN\":\"Afghanistan\",\"abreviado-ES\":\"Afganistán\"},\"area\":{\"total\":\"652230\",\"unidade\":{\"nome\":\"quilômetros quadrados\",\"símbolo\":\"km2\",\"multiplicador\":1}},\"localizacao\":{\"regiao\":{\"id\":{\"M49\":142},\"nome\":\"Ásia\"},\"sub-regiao\":{\"id\":{\"M49\":34},\"nome\":\"Ásia meridional (Sul da Ásia)\"},\"regiao-intermediaria\":null},\"linguas\":[{\"id\":{\"ISO-639-1\":\"ps\",\"ISO-639-2\":\"pus\"},\"nome\":\"pachto\"}],\"governo\":{\"capital\":{\"nome\":\"Cabul\"}},\"unidades-monetarias\":[{\"id\":{\"ISO-4217-ALPHA\":\"AFN\",\"ISO-4217-NUMERICO\":\"971\"},\"nome\":\"Afegane\"}],\"historico\":\"A República Islâmica do Afeganistão é um país localizado no centro do continente asiático. No século XVIII, o país é invadido pelos persas. Conquistaria a independência em 1747 graças a Ahmed Shah Durrani, que unificou as tribos pashtuns. Com o fim do Império Durrani, tem início o Emirado do Afeganistão, com o reinado de Dost Mohammad Khan, em 1823. O Afeganistão serviu como amortecedor entre os impérios britânico e russo, até que conquistou a independência do controle britânico em 1919.A União Soviética invadiu o país em 1979 para apoiar o regime comunista, desencadeando uma longa guerra. Em 1989, sob a pressão implacável de rebeldes mujahidin anticomunistas apoiados internacionalmente, a União Soviética sai do território afegão. Uma série de guerras civis subsequentes faz com que a cidade de Cabul caia nas mãos do grupo fundamentalista islâmico Talibã, em 1996. Uma conferência em Bonn, Alemanha, patrocinada pela ONU em 2001, estabeleceu um processo de reconstrução política que incluiu a adoção de uma nova constituição e a eleição presidencial em 2004. Em dezembro de 2004, Hamid Karzai se tornou o primeiro presidente democraticamente eleito do Afeganistão, sendo reeleito em agosto de 2009 para o segundo mandato. Novas eleições ocorreram em 2014, resultando num impasse. Ashraf Ghani e Abdullah eram os dois adversários que concorriam à sucessão do presidente Hamid Karzai. Ghani foi o vencedor no segundo turno, mas Abdullah denunciou fraude, o que provocou um processo de revisão eleitoral. Por conta disso, ambos assinaram um acordo de governo, em setembro de 2014, no qual ficou instituído que o presidente seria Ghani e Abdullah ocuparia um cargo executivo similar ao de primeiro-ministro. Fontes: https://www.infoplease.com/encyclopedia/places/asia/afghanistan-political-geography/afghanistan/history https://www.cia.gov/library/publications/the-world-factbook/geos/af.html\"}]\n",
            "<class 'requests.models.Response'>\n"
          ]
        }
      ]
    },
    {
      "cell_type": "code",
      "source": [
        "afeganistao = list(x.json())\n",
        "print(afeganistao)\n",
        "print(type(afeganistao[0]))"
      ],
      "metadata": {
        "colab": {
          "base_uri": "https://localhost:8080/"
        },
        "id": "nhz3JziAHIMp",
        "outputId": "c821ebe3-b6a3-4f9c-9832-40d4ddac1416"
      },
      "execution_count": 22,
      "outputs": [
        {
          "output_type": "stream",
          "name": "stdout",
          "text": [
            "[{'id': {'M49': 4, 'ISO-3166-1-ALPHA-2': 'AF', 'ISO-3166-1-ALPHA-3': 'AFG'}, 'nome': {'abreviado': 'Afeganistão', 'abreviado-EN': 'Afghanistan', 'abreviado-ES': 'Afganistán'}, 'area': {'total': '652230', 'unidade': {'nome': 'quilômetros quadrados', 'símbolo': 'km2', 'multiplicador': 1}}, 'localizacao': {'regiao': {'id': {'M49': 142}, 'nome': 'Ásia'}, 'sub-regiao': {'id': {'M49': 34}, 'nome': 'Ásia meridional (Sul da Ásia)'}, 'regiao-intermediaria': None}, 'linguas': [{'id': {'ISO-639-1': 'fa', 'ISO-639-2': 'fas'}, 'nome': 'persa'}], 'governo': {'capital': {'nome': 'Cabul'}}, 'unidades-monetarias': [{'id': {'ISO-4217-ALPHA': 'AFN', 'ISO-4217-NUMERICO': '971'}, 'nome': 'Afegane'}], 'historico': 'A República Islâmica do Afeganistão é um país localizado no centro do continente asiático. No século XVIII, o país é invadido pelos persas. Conquistaria a independência em 1747 graças a Ahmed Shah Durrani, que unificou as tribos pashtuns. Com o fim do Império Durrani, tem início o Emirado do Afeganistão, com o reinado de Dost Mohammad Khan, em 1823. O Afeganistão serviu como amortecedor entre os impérios britânico e russo, até que conquistou a independência do controle britânico em 1919.A União Soviética invadiu o país em 1979 para apoiar o regime comunista, desencadeando uma longa guerra. Em 1989, sob a pressão implacável de rebeldes mujahidin anticomunistas apoiados internacionalmente, a União Soviética sai do território afegão. Uma série de guerras civis subsequentes faz com que a cidade de Cabul caia nas mãos do grupo fundamentalista islâmico Talibã, em 1996. Uma conferência em Bonn, Alemanha, patrocinada pela ONU em 2001, estabeleceu um processo de reconstrução política que incluiu a adoção de uma nova constituição e a eleição presidencial em 2004. Em dezembro de 2004, Hamid Karzai se tornou o primeiro presidente democraticamente eleito do Afeganistão, sendo reeleito em agosto de 2009 para o segundo mandato. Novas eleições ocorreram em 2014, resultando num impasse. Ashraf Ghani e Abdullah eram os dois adversários que concorriam à sucessão do presidente Hamid Karzai. Ghani foi o vencedor no segundo turno, mas Abdullah denunciou fraude, o que provocou um processo de revisão eleitoral. Por conta disso, ambos assinaram um acordo de governo, em setembro de 2014, no qual ficou instituído que o presidente seria Ghani e Abdullah ocuparia um cargo executivo similar ao de primeiro-ministro. Fontes: https://www.infoplease.com/encyclopedia/places/asia/afghanistan-political-geography/afghanistan/history https://www.cia.gov/library/publications/the-world-factbook/geos/af.html'}, {'id': {'M49': 4, 'ISO-3166-1-ALPHA-2': 'AF', 'ISO-3166-1-ALPHA-3': 'AFG'}, 'nome': {'abreviado': 'Afeganistão', 'abreviado-EN': 'Afghanistan', 'abreviado-ES': 'Afganistán'}, 'area': {'total': '652230', 'unidade': {'nome': 'quilômetros quadrados', 'símbolo': 'km2', 'multiplicador': 1}}, 'localizacao': {'regiao': {'id': {'M49': 142}, 'nome': 'Ásia'}, 'sub-regiao': {'id': {'M49': 34}, 'nome': 'Ásia meridional (Sul da Ásia)'}, 'regiao-intermediaria': None}, 'linguas': [{'id': {'ISO-639-1': 'ps', 'ISO-639-2': 'pus'}, 'nome': 'pachto'}], 'governo': {'capital': {'nome': 'Cabul'}}, 'unidades-monetarias': [{'id': {'ISO-4217-ALPHA': 'AFN', 'ISO-4217-NUMERICO': '971'}, 'nome': 'Afegane'}], 'historico': 'A República Islâmica do Afeganistão é um país localizado no centro do continente asiático. No século XVIII, o país é invadido pelos persas. Conquistaria a independência em 1747 graças a Ahmed Shah Durrani, que unificou as tribos pashtuns. Com o fim do Império Durrani, tem início o Emirado do Afeganistão, com o reinado de Dost Mohammad Khan, em 1823. O Afeganistão serviu como amortecedor entre os impérios britânico e russo, até que conquistou a independência do controle britânico em 1919.A União Soviética invadiu o país em 1979 para apoiar o regime comunista, desencadeando uma longa guerra. Em 1989, sob a pressão implacável de rebeldes mujahidin anticomunistas apoiados internacionalmente, a União Soviética sai do território afegão. Uma série de guerras civis subsequentes faz com que a cidade de Cabul caia nas mãos do grupo fundamentalista islâmico Talibã, em 1996. Uma conferência em Bonn, Alemanha, patrocinada pela ONU em 2001, estabeleceu um processo de reconstrução política que incluiu a adoção de uma nova constituição e a eleição presidencial em 2004. Em dezembro de 2004, Hamid Karzai se tornou o primeiro presidente democraticamente eleito do Afeganistão, sendo reeleito em agosto de 2009 para o segundo mandato. Novas eleições ocorreram em 2014, resultando num impasse. Ashraf Ghani e Abdullah eram os dois adversários que concorriam à sucessão do presidente Hamid Karzai. Ghani foi o vencedor no segundo turno, mas Abdullah denunciou fraude, o que provocou um processo de revisão eleitoral. Por conta disso, ambos assinaram um acordo de governo, em setembro de 2014, no qual ficou instituído que o presidente seria Ghani e Abdullah ocuparia um cargo executivo similar ao de primeiro-ministro. Fontes: https://www.infoplease.com/encyclopedia/places/asia/afghanistan-political-geography/afghanistan/history https://www.cia.gov/library/publications/the-world-factbook/geos/af.html'}]\n",
            "<class 'dict'>\n"
          ]
        }
      ]
    }
  ]
}