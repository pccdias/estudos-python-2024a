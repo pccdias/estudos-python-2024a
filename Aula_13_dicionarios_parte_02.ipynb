{
  "nbformat": 4,
  "nbformat_minor": 0,
  "metadata": {
    "colab": {
      "provenance": [],
      "authorship_tag": "ABX9TyP39kxrX5YH3BePFBEMrYuI",
      "include_colab_link": true
    },
    "kernelspec": {
      "name": "python3",
      "display_name": "Python 3"
    },
    "language_info": {
      "name": "python"
    }
  },
  "cells": [
    {
      "cell_type": "markdown",
      "metadata": {
        "id": "view-in-github",
        "colab_type": "text"
      },
      "source": [
        "<a href=\"https://colab.research.google.com/github/pccdias/estudos-python-2024a/blob/master/Aula_13_dicionarios_parte_02.ipynb\" target=\"_parent\"><img src=\"https://colab.research.google.com/assets/colab-badge.svg\" alt=\"Open In Colab\"/></a>"
      ]
    },
    {
      "cell_type": "code",
      "execution_count": null,
      "metadata": {
        "id": "CES1lbotEBnk"
      },
      "outputs": [],
      "source": []
    },
    {
      "cell_type": "markdown",
      "source": [
        "# **Aula 13 - Dicionários - 20/05/2024**"
      ],
      "metadata": {
        "id": "OECSdddOzAhd"
      }
    },
    {
      "cell_type": "markdown",
      "source": [
        "# **Dicionário**"
      ],
      "metadata": {
        "id": "hxBkj8nvaQtQ"
      }
    },
    {
      "cell_type": "code",
      "source": [
        "carro = {\n",
        "    \"fabricante\" : \"Chevrolet\",  #o dicionário usa chave-valor (key:value)\n",
        "    \"modelo\": \"S10\",\n",
        "    \"tipo\" : \"caminhonete\",\n",
        "    \"ano\": 2024, #o valor pode ser numero\n",
        "    \"combustível\" : [\"diesel\",\"flex\"], #o valor pode ser lista, etc\n",
        "    \"cores\": [\"branca\", \"chumbo\", \"preta\"]\n",
        "}"
      ],
      "metadata": {
        "id": "CbQYg4e2aTZD"
      },
      "execution_count": 1,
      "outputs": []
    },
    {
      "cell_type": "code",
      "source": [
        "print(type(carro))   #retorna o tipo 'dict'\n",
        "print(carro[\"fabricante\"]) #acessa o valor a partir da chave\n",
        "print(\"Vende-se\", carro['tipo'], \"modelo \", carro[\"modelo\"])\n",
        "print(carro[\"cores\"]) #acessou o valor multivariado (lista)\n",
        "print(carro[\"cores\"][1]) #acessou uma cor de do valor multivariado"
      ],
      "metadata": {
        "colab": {
          "base_uri": "https://localhost:8080/"
        },
        "id": "Vc7leZyJbxfI",
        "outputId": "4e443959-de50-4768-ced0-0c5cf295c065"
      },
      "execution_count": 2,
      "outputs": [
        {
          "output_type": "stream",
          "name": "stdout",
          "text": [
            "<class 'dict'>\n",
            "Chevrolet\n",
            "Vende-se caminhonete modelo  S10\n",
            "['branca', 'chumbo', 'preta']\n",
            "chumbo\n"
          ]
        }
      ]
    },
    {
      "cell_type": "markdown",
      "source": [
        "Obtendo as chaves"
      ],
      "metadata": {
        "id": "uAJEWcmbgaAp"
      }
    },
    {
      "cell_type": "code",
      "source": [
        "#obtendo as chaves de um dicionário\n",
        "chaves_carro = carro.keys()\n",
        "print(type(chaves_carro))\n",
        "print(chaves_carro)"
      ],
      "metadata": {
        "colab": {
          "base_uri": "https://localhost:8080/"
        },
        "id": "-VugtAjsgEtr",
        "outputId": "758326f1-87bc-4826-91c6-c455e9db22ad"
      },
      "execution_count": 3,
      "outputs": [
        {
          "output_type": "stream",
          "name": "stdout",
          "text": [
            "<class 'dict_keys'>\n",
            "dict_keys(['fabricante', 'modelo', 'tipo', 'ano', 'combustível', 'cores'])\n"
          ]
        }
      ]
    },
    {
      "cell_type": "markdown",
      "source": [
        "Mudando o valor de um dicionário"
      ],
      "metadata": {
        "id": "ffxNbC3ogsc4"
      }
    },
    {
      "cell_type": "code",
      "source": [
        "carro['ano'] = 2022\n",
        "print(carro)"
      ],
      "metadata": {
        "colab": {
          "base_uri": "https://localhost:8080/"
        },
        "collapsed": true,
        "id": "OBOPU-JZgucY",
        "outputId": "9c43d6b7-b6e9-4cf5-ee9a-bc35025d6fac"
      },
      "execution_count": 4,
      "outputs": [
        {
          "output_type": "stream",
          "name": "stdout",
          "text": [
            "{'fabricante': 'Chevrolet', 'modelo': 'S10', 'tipo': 'caminhonete', 'ano': 2022, 'combustível': ['diesel', 'flex'], 'cores': ['branca', 'chumbo', 'preta']}\n"
          ]
        }
      ]
    },
    {
      "cell_type": "markdown",
      "source": [
        "Obter os valores de um dicionário"
      ],
      "metadata": {
        "id": "cpWNUqKphGyL"
      }
    },
    {
      "cell_type": "code",
      "source": [
        "valores_carro = carro.values()\n",
        "print(type(valores_carro))\n",
        "print(valores_carro)"
      ],
      "metadata": {
        "id": "03ffusUPhJiB",
        "colab": {
          "base_uri": "https://localhost:8080/"
        },
        "outputId": "376a56d7-d887-42ce-89bc-b0df03480565"
      },
      "execution_count": 5,
      "outputs": [
        {
          "output_type": "stream",
          "name": "stdout",
          "text": [
            "<class 'dict_values'>\n",
            "dict_values(['Chevrolet', 'S10', 'caminhonete', 2022, ['diesel', 'flex'], ['branca', 'chumbo', 'preta']])\n"
          ]
        }
      ]
    },
    {
      "cell_type": "code",
      "source": [
        "for key in carro:\n",
        "  print(key)"
      ],
      "metadata": {
        "id": "zDo40rAwhrz1",
        "colab": {
          "base_uri": "https://localhost:8080/"
        },
        "outputId": "af60c5ec-c1cc-4085-a6ee-38058fcb4800"
      },
      "execution_count": 6,
      "outputs": [
        {
          "output_type": "stream",
          "name": "stdout",
          "text": [
            "fabricante\n",
            "modelo\n",
            "tipo\n",
            "ano\n",
            "combustível\n",
            "cores\n"
          ]
        }
      ]
    },
    {
      "cell_type": "code",
      "source": [
        "for value in carro.items():\n",
        "  print(value)"
      ],
      "metadata": {
        "id": "l9Xe-S9OiKF5",
        "colab": {
          "base_uri": "https://localhost:8080/"
        },
        "outputId": "1633a805-61de-4ff7-fee0-7d03aeb843ca"
      },
      "execution_count": 7,
      "outputs": [
        {
          "output_type": "stream",
          "name": "stdout",
          "text": [
            "('fabricante', 'Chevrolet')\n",
            "('modelo', 'S10')\n",
            "('tipo', 'caminhonete')\n",
            "('ano', 2022)\n",
            "('combustível', ['diesel', 'flex'])\n",
            "('cores', ['branca', 'chumbo', 'preta'])\n"
          ]
        }
      ]
    },
    {
      "cell_type": "code",
      "source": [
        "for key,value in carro.items():\n",
        "  print(key, value)"
      ],
      "metadata": {
        "id": "_1XrRIqiifV0",
        "colab": {
          "base_uri": "https://localhost:8080/"
        },
        "outputId": "a37b2566-6c1b-41b3-df85-c7f8a44bd239"
      },
      "execution_count": 8,
      "outputs": [
        {
          "output_type": "stream",
          "name": "stdout",
          "text": [
            "fabricante Chevrolet\n",
            "modelo S10\n",
            "tipo caminhonete\n",
            "ano 2022\n",
            "combustível ['diesel', 'flex']\n",
            "cores ['branca', 'chumbo', 'preta']\n"
          ]
        }
      ]
    },
    {
      "cell_type": "markdown",
      "source": [
        "Adcionando outro item no dicionário"
      ],
      "metadata": {
        "id": "u8RsJSCAj_vQ"
      }
    },
    {
      "cell_type": "code",
      "source": [
        "carro['turbo'] = True\n",
        "print(carro)"
      ],
      "metadata": {
        "id": "1aDwC9iUkFj1",
        "colab": {
          "base_uri": "https://localhost:8080/"
        },
        "outputId": "44f36d31-738a-4e99-ca2a-09d499a36a5a"
      },
      "execution_count": 9,
      "outputs": [
        {
          "output_type": "stream",
          "name": "stdout",
          "text": [
            "{'fabricante': 'Chevrolet', 'modelo': 'S10', 'tipo': 'caminhonete', 'ano': 2022, 'combustível': ['diesel', 'flex'], 'cores': ['branca', 'chumbo', 'preta'], 'turbo': True}\n"
          ]
        }
      ]
    },
    {
      "cell_type": "markdown",
      "source": [
        "Verificar se uma chave está no dicionário"
      ],
      "metadata": {
        "id": "aVz9wGoFkg7Y"
      }
    },
    {
      "cell_type": "code",
      "source": [
        "print(\"modelo\" in carro)\n",
        "print(\"acessorio\" in carro)"
      ],
      "metadata": {
        "colab": {
          "base_uri": "https://localhost:8080/"
        },
        "id": "5pCDwj5bkgc1",
        "outputId": "be9b5d8e-9576-41dd-dad9-948c91590a4e"
      },
      "execution_count": 10,
      "outputs": [
        {
          "output_type": "stream",
          "name": "stdout",
          "text": [
            "True\n",
            "False\n"
          ]
        }
      ]
    },
    {
      "cell_type": "markdown",
      "source": [
        "Update"
      ],
      "metadata": {
        "id": "CV9-H1zQEdVR"
      }
    },
    {
      "cell_type": "code",
      "source": [
        "carro.update({'ano':2020})\n",
        "print(carro)"
      ],
      "metadata": {
        "colab": {
          "base_uri": "https://localhost:8080/"
        },
        "id": "fmqs455KEh97",
        "outputId": "84cd028b-b65c-495f-d90c-0f5a9587dc7a"
      },
      "execution_count": 11,
      "outputs": [
        {
          "output_type": "stream",
          "name": "stdout",
          "text": [
            "{'fabricante': 'Chevrolet', 'modelo': 'S10', 'tipo': 'caminhonete', 'ano': 2020, 'combustível': ['diesel', 'flex'], 'cores': ['branca', 'chumbo', 'preta'], 'turbo': True}\n"
          ]
        }
      ]
    },
    {
      "cell_type": "markdown",
      "source": [
        "Remover item - use o método pop"
      ],
      "metadata": {
        "id": "q6aYP439ORui"
      }
    },
    {
      "cell_type": "code",
      "source": [
        "carro.pop(\"turbo\")\n",
        "print(carro)"
      ],
      "metadata": {
        "colab": {
          "base_uri": "https://localhost:8080/"
        },
        "id": "AdxcFswLOTXN",
        "outputId": "87a6262f-b244-490d-a2da-17069dd013a8"
      },
      "execution_count": 12,
      "outputs": [
        {
          "output_type": "stream",
          "name": "stdout",
          "text": [
            "{'fabricante': 'Chevrolet', 'modelo': 'S10', 'tipo': 'caminhonete', 'ano': 2020, 'combustível': ['diesel', 'flex'], 'cores': ['branca', 'chumbo', 'preta']}\n"
          ]
        }
      ]
    },
    {
      "cell_type": "markdown",
      "source": [
        "Uso de Del para remover um item"
      ],
      "metadata": {
        "id": "yMp8BcAnP2Yv"
      }
    },
    {
      "cell_type": "code",
      "source": [
        "del carro[\"ano\"]\n",
        "print(carro)"
      ],
      "metadata": {
        "colab": {
          "base_uri": "https://localhost:8080/"
        },
        "id": "YoUPBJOUP5Eq",
        "outputId": "20539055-fbb6-4fe6-f78b-ccd54183ae9a"
      },
      "execution_count": 13,
      "outputs": [
        {
          "output_type": "stream",
          "name": "stdout",
          "text": [
            "{'fabricante': 'Chevrolet', 'modelo': 'S10', 'tipo': 'caminhonete', 'combustível': ['diesel', 'flex'], 'cores': ['branca', 'chumbo', 'preta']}\n"
          ]
        }
      ]
    },
    {
      "cell_type": "markdown",
      "source": [
        "Uso de Del para apagar todo dicionário"
      ],
      "metadata": {
        "id": "5fawD-9LQG5J"
      }
    },
    {
      "cell_type": "code",
      "source": [
        "del carro"
      ],
      "metadata": {
        "id": "zdv6iU5YQT0R"
      },
      "execution_count": 14,
      "outputs": []
    },
    {
      "cell_type": "markdown",
      "source": [
        "Copiar dicionario"
      ],
      "metadata": {
        "id": "w0fM0xa1QkxE"
      }
    },
    {
      "cell_type": "code",
      "source": [
        "palmeiras = {\n",
        "    'nome' : 'Sociedade Esportiva Palmeiras',\n",
        "    'goleiro' : 'Heverton',\n",
        "    'atacante': 'Rony',\n",
        "    'volante' :'Zé Rafael',\n",
        "    'uniformes': ['branco','verde'],\n",
        "    'tem_mundial' : False,\n",
        "    'mundiais' : 0\n",
        "}"
      ],
      "metadata": {
        "id": "72JIR6TGQm0Q"
      },
      "execution_count": 22,
      "outputs": []
    },
    {
      "cell_type": "code",
      "source": [
        "corinthias = palmeiras.copy()\n",
        "print(corinthias)\n",
        "corinthias['nome'] = \"Sporte Clube Corinthias Paulista\"\n",
        "corinthias['goleiro'] = \"Carlos Miguel\"\n",
        "corinthias['atacante'] = \"Yuri Alberto\"\n",
        "corinthias['volante'] = \"Garro\"\n",
        "corinthias['uniformes'] = ['branco','preto']\n",
        "corinthias['tem_mundial'] = True\n",
        "corinthias['mundiais'] = 1.5\n",
        "print(corinthias)\n",
        "\n"
      ],
      "metadata": {
        "colab": {
          "base_uri": "https://localhost:8080/"
        },
        "id": "szn8y2HHRKQL",
        "outputId": "d8e5ce04-fe12-45bc-dea3-eba0cde48cde"
      },
      "execution_count": 24,
      "outputs": [
        {
          "output_type": "stream",
          "name": "stdout",
          "text": [
            "{'nome': 'Sociedade Esportiva Palmeiras', 'goleiro': 'Heverton', 'atacante': 'Rony', 'volante': 'Zé Rafael', 'uniformes': ['branco', 'verde'], 'tem_mundial': False, 'mundiais': 0}\n",
            "{'nome': 'Sporte Clube Corinthias Paulista', 'goleiro': 'Carlos Miguel', 'atacante': 'Yuri Alberto', 'volante': 'Garro', 'uniformes': ['branco', 'preto'], 'tem_mundial': True, 'mundiais': 1.5}\n"
          ]
        }
      ]
    },
    {
      "cell_type": "code",
      "source": [
        "times = [palmeiras, corinthias]\n",
        "print(times)\n",
        "print(times[1]['goleiro'])"
      ],
      "metadata": {
        "colab": {
          "base_uri": "https://localhost:8080/"
        },
        "id": "gkC28z60QFV3",
        "outputId": "b123f446-bb4f-4dc5-9dd3-8e874bc7ff03"
      },
      "execution_count": 25,
      "outputs": [
        {
          "output_type": "stream",
          "name": "stdout",
          "text": [
            "[{'nome': 'Sociedade Esportiva Palmeiras', 'goleiro': 'Heverton', 'atacante': 'Rony', 'volante': 'Zé Rafael', 'uniformes': ['branco', 'verde'], 'tem_mundial': False, 'mundiais': 0}, {'nome': 'Sporte Clube Corinthias Paulista', 'goleiro': 'Carlos Miguel', 'atacante': 'Yuri Alberto', 'volante': 'Garro', 'uniformes': ['branco', 'preto'], 'tem_mundial': True, 'mundiais': 1.5}]\n",
            "Carlos Miguel\n"
          ]
        }
      ]
    },
    {
      "cell_type": "code",
      "source": [
        "for time in times:\n",
        "  print(\"\\n\")\n",
        "  for key,values in time.items():\n",
        "    print(key, \": \",values)"
      ],
      "metadata": {
        "colab": {
          "base_uri": "https://localhost:8080/"
        },
        "id": "aFRyflSRUPcB",
        "outputId": "1913817d-d0c4-4653-d291-d5614d84e7e5"
      },
      "execution_count": 26,
      "outputs": [
        {
          "output_type": "stream",
          "name": "stdout",
          "text": [
            "\n",
            "\n",
            "nome :  Sociedade Esportiva Palmeiras\n",
            "goleiro :  Heverton\n",
            "atacante :  Rony\n",
            "volante :  Zé Rafael\n",
            "uniformes :  ['branco', 'verde']\n",
            "tem_mundial :  False\n",
            "mundiais :  0\n",
            "\n",
            "\n",
            "nome :  Sporte Clube Corinthias Paulista\n",
            "goleiro :  Carlos Miguel\n",
            "atacante :  Yuri Alberto\n",
            "volante :  Garro\n",
            "uniformes :  ['branco', 'preto']\n",
            "tem_mundial :  True\n",
            "mundiais :  1.5\n"
          ]
        }
      ]
    },
    {
      "cell_type": "markdown",
      "source": [
        "Dicionários Aninhados"
      ],
      "metadata": {
        "id": "8dIpkrozV3lp"
      }
    },
    {
      "cell_type": "code",
      "source": [
        "times_paulistas = {\n",
        "    \"palmeiras\" : palmeiras,\n",
        "    \"corinthias\" : corinthias\n",
        "}\n",
        "\n",
        "print(times_paulistas)\n",
        "print(times_paulistas['palmeiras']['goleiro'])"
      ],
      "metadata": {
        "colab": {
          "base_uri": "https://localhost:8080/"
        },
        "id": "KEAXEvn8V57O",
        "outputId": "68167b05-a767-4bed-ec2a-cad7f1788340"
      },
      "execution_count": 29,
      "outputs": [
        {
          "output_type": "stream",
          "name": "stdout",
          "text": [
            "{'palmeiras': {'nome': 'Sociedade Esportiva Palmeiras', 'goleiro': 'Heverton', 'atacante': 'Rony', 'volante': 'Zé Rafael', 'uniformes': ['branco', 'verde'], 'tem_mundial': False, 'mundiais': 0}, 'corinthias': {'nome': 'Sporte Clube Corinthias Paulista', 'goleiro': 'Carlos Miguel', 'atacante': 'Yuri Alberto', 'volante': 'Garro', 'uniformes': ['branco', 'preto'], 'tem_mundial': True, 'mundiais': 1.5}}\n",
            "Heverton\n"
          ]
        }
      ]
    },
    {
      "cell_type": "markdown",
      "source": [
        "Exemplo de busca de informação via Request"
      ],
      "metadata": {
        "id": "C0hoB_usF6uZ"
      }
    },
    {
      "cell_type": "markdown",
      "source": [
        "Referência: https://realpython.com/python-requests/"
      ],
      "metadata": {
        "id": "N3NLFYbUHF0v"
      }
    },
    {
      "cell_type": "code",
      "source": [
        "import requests\n",
        "\n",
        "x = requests.get('https://servicodados.ibge.gov.br/api/v1/paises/AF')\n",
        "\n",
        "print(x.text)\n",
        "print(type(x))"
      ],
      "metadata": {
        "colab": {
          "base_uri": "https://localhost:8080/"
        },
        "id": "3rY6mlQnF-ID",
        "outputId": "b6c6dcf1-0b3f-4716-d810-eaab525aab3f"
      },
      "execution_count": 18,
      "outputs": [
        {
          "output_type": "stream",
          "name": "stdout",
          "text": [
            "[{\"id\":{\"M49\":4,\"ISO-3166-1-ALPHA-2\":\"AF\",\"ISO-3166-1-ALPHA-3\":\"AFG\"},\"nome\":{\"abreviado\":\"Afeganistão\",\"abreviado-EN\":\"Afghanistan\",\"abreviado-ES\":\"Afganistán\"},\"area\":{\"total\":\"652230\",\"unidade\":{\"nome\":\"quilômetros quadrados\",\"símbolo\":\"km2\",\"multiplicador\":1}},\"localizacao\":{\"regiao\":{\"id\":{\"M49\":142},\"nome\":\"Ásia\"},\"sub-regiao\":{\"id\":{\"M49\":34},\"nome\":\"Ásia meridional (Sul da Ásia)\"},\"regiao-intermediaria\":null},\"linguas\":[{\"id\":{\"ISO-639-1\":\"fa\",\"ISO-639-2\":\"fas\"},\"nome\":\"persa\"}],\"governo\":{\"capital\":{\"nome\":\"Cabul\"}},\"unidades-monetarias\":[{\"id\":{\"ISO-4217-ALPHA\":\"AFN\",\"ISO-4217-NUMERICO\":\"971\"},\"nome\":\"Afegane\"}],\"historico\":\"A República Islâmica do Afeganistão é um país localizado no centro do continente asiático. No século XVIII, o país é invadido pelos persas. Conquistaria a independência em 1747 graças a Ahmed Shah Durrani, que unificou as tribos pashtuns. Com o fim do Império Durrani, tem início o Emirado do Afeganistão, com o reinado de Dost Mohammad Khan, em 1823. O Afeganistão serviu como amortecedor entre os impérios britânico e russo, até que conquistou a independência do controle britânico em 1919.A União Soviética invadiu o país em 1979 para apoiar o regime comunista, desencadeando uma longa guerra. Em 1989, sob a pressão implacável de rebeldes mujahidin anticomunistas apoiados internacionalmente, a União Soviética sai do território afegão. Uma série de guerras civis subsequentes faz com que a cidade de Cabul caia nas mãos do grupo fundamentalista islâmico Talibã, em 1996. Uma conferência em Bonn, Alemanha, patrocinada pela ONU em 2001, estabeleceu um processo de reconstrução política que incluiu a adoção de uma nova constituição e a eleição presidencial em 2004. Em dezembro de 2004, Hamid Karzai se tornou o primeiro presidente democraticamente eleito do Afeganistão, sendo reeleito em agosto de 2009 para o segundo mandato. Novas eleições ocorreram em 2014, resultando num impasse. Ashraf Ghani e Abdullah eram os dois adversários que concorriam à sucessão do presidente Hamid Karzai. Ghani foi o vencedor no segundo turno, mas Abdullah denunciou fraude, o que provocou um processo de revisão eleitoral. Por conta disso, ambos assinaram um acordo de governo, em setembro de 2014, no qual ficou instituído que o presidente seria Ghani e Abdullah ocuparia um cargo executivo similar ao de primeiro-ministro. Fontes: https://www.infoplease.com/encyclopedia/places/asia/afghanistan-political-geography/afghanistan/history https://www.cia.gov/library/publications/the-world-factbook/geos/af.html\"},{\"id\":{\"M49\":4,\"ISO-3166-1-ALPHA-2\":\"AF\",\"ISO-3166-1-ALPHA-3\":\"AFG\"},\"nome\":{\"abreviado\":\"Afeganistão\",\"abreviado-EN\":\"Afghanistan\",\"abreviado-ES\":\"Afganistán\"},\"area\":{\"total\":\"652230\",\"unidade\":{\"nome\":\"quilômetros quadrados\",\"símbolo\":\"km2\",\"multiplicador\":1}},\"localizacao\":{\"regiao\":{\"id\":{\"M49\":142},\"nome\":\"Ásia\"},\"sub-regiao\":{\"id\":{\"M49\":34},\"nome\":\"Ásia meridional (Sul da Ásia)\"},\"regiao-intermediaria\":null},\"linguas\":[{\"id\":{\"ISO-639-1\":\"ps\",\"ISO-639-2\":\"pus\"},\"nome\":\"pachto\"}],\"governo\":{\"capital\":{\"nome\":\"Cabul\"}},\"unidades-monetarias\":[{\"id\":{\"ISO-4217-ALPHA\":\"AFN\",\"ISO-4217-NUMERICO\":\"971\"},\"nome\":\"Afegane\"}],\"historico\":\"A República Islâmica do Afeganistão é um país localizado no centro do continente asiático. No século XVIII, o país é invadido pelos persas. Conquistaria a independência em 1747 graças a Ahmed Shah Durrani, que unificou as tribos pashtuns. Com o fim do Império Durrani, tem início o Emirado do Afeganistão, com o reinado de Dost Mohammad Khan, em 1823. O Afeganistão serviu como amortecedor entre os impérios britânico e russo, até que conquistou a independência do controle britânico em 1919.A União Soviética invadiu o país em 1979 para apoiar o regime comunista, desencadeando uma longa guerra. Em 1989, sob a pressão implacável de rebeldes mujahidin anticomunistas apoiados internacionalmente, a União Soviética sai do território afegão. Uma série de guerras civis subsequentes faz com que a cidade de Cabul caia nas mãos do grupo fundamentalista islâmico Talibã, em 1996. Uma conferência em Bonn, Alemanha, patrocinada pela ONU em 2001, estabeleceu um processo de reconstrução política que incluiu a adoção de uma nova constituição e a eleição presidencial em 2004. Em dezembro de 2004, Hamid Karzai se tornou o primeiro presidente democraticamente eleito do Afeganistão, sendo reeleito em agosto de 2009 para o segundo mandato. Novas eleições ocorreram em 2014, resultando num impasse. Ashraf Ghani e Abdullah eram os dois adversários que concorriam à sucessão do presidente Hamid Karzai. Ghani foi o vencedor no segundo turno, mas Abdullah denunciou fraude, o que provocou um processo de revisão eleitoral. Por conta disso, ambos assinaram um acordo de governo, em setembro de 2014, no qual ficou instituído que o presidente seria Ghani e Abdullah ocuparia um cargo executivo similar ao de primeiro-ministro. Fontes: https://www.infoplease.com/encyclopedia/places/asia/afghanistan-political-geography/afghanistan/history https://www.cia.gov/library/publications/the-world-factbook/geos/af.html\"}]\n",
            "<class 'requests.models.Response'>\n"
          ]
        }
      ]
    },
    {
      "cell_type": "code",
      "source": [
        "pais_AF = list(x.json())\n",
        "print(pais_AF)\n",
        "print(type(pais_AF[0]))\n",
        "print(pais_AF[0]['id'])"
      ],
      "metadata": {
        "colab": {
          "base_uri": "https://localhost:8080/"
        },
        "id": "nhz3JziAHIMp",
        "outputId": "0f965bb2-0b14-4ee1-fda0-f7ab99923206"
      },
      "execution_count": 19,
      "outputs": [
        {
          "output_type": "stream",
          "name": "stdout",
          "text": [
            "[{'id': {'M49': 4, 'ISO-3166-1-ALPHA-2': 'AF', 'ISO-3166-1-ALPHA-3': 'AFG'}, 'nome': {'abreviado': 'Afeganistão', 'abreviado-EN': 'Afghanistan', 'abreviado-ES': 'Afganistán'}, 'area': {'total': '652230', 'unidade': {'nome': 'quilômetros quadrados', 'símbolo': 'km2', 'multiplicador': 1}}, 'localizacao': {'regiao': {'id': {'M49': 142}, 'nome': 'Ásia'}, 'sub-regiao': {'id': {'M49': 34}, 'nome': 'Ásia meridional (Sul da Ásia)'}, 'regiao-intermediaria': None}, 'linguas': [{'id': {'ISO-639-1': 'fa', 'ISO-639-2': 'fas'}, 'nome': 'persa'}], 'governo': {'capital': {'nome': 'Cabul'}}, 'unidades-monetarias': [{'id': {'ISO-4217-ALPHA': 'AFN', 'ISO-4217-NUMERICO': '971'}, 'nome': 'Afegane'}], 'historico': 'A República Islâmica do Afeganistão é um país localizado no centro do continente asiático. No século XVIII, o país é invadido pelos persas. Conquistaria a independência em 1747 graças a Ahmed Shah Durrani, que unificou as tribos pashtuns. Com o fim do Império Durrani, tem início o Emirado do Afeganistão, com o reinado de Dost Mohammad Khan, em 1823. O Afeganistão serviu como amortecedor entre os impérios britânico e russo, até que conquistou a independência do controle britânico em 1919.A União Soviética invadiu o país em 1979 para apoiar o regime comunista, desencadeando uma longa guerra. Em 1989, sob a pressão implacável de rebeldes mujahidin anticomunistas apoiados internacionalmente, a União Soviética sai do território afegão. Uma série de guerras civis subsequentes faz com que a cidade de Cabul caia nas mãos do grupo fundamentalista islâmico Talibã, em 1996. Uma conferência em Bonn, Alemanha, patrocinada pela ONU em 2001, estabeleceu um processo de reconstrução política que incluiu a adoção de uma nova constituição e a eleição presidencial em 2004. Em dezembro de 2004, Hamid Karzai se tornou o primeiro presidente democraticamente eleito do Afeganistão, sendo reeleito em agosto de 2009 para o segundo mandato. Novas eleições ocorreram em 2014, resultando num impasse. Ashraf Ghani e Abdullah eram os dois adversários que concorriam à sucessão do presidente Hamid Karzai. Ghani foi o vencedor no segundo turno, mas Abdullah denunciou fraude, o que provocou um processo de revisão eleitoral. Por conta disso, ambos assinaram um acordo de governo, em setembro de 2014, no qual ficou instituído que o presidente seria Ghani e Abdullah ocuparia um cargo executivo similar ao de primeiro-ministro. Fontes: https://www.infoplease.com/encyclopedia/places/asia/afghanistan-political-geography/afghanistan/history https://www.cia.gov/library/publications/the-world-factbook/geos/af.html'}, {'id': {'M49': 4, 'ISO-3166-1-ALPHA-2': 'AF', 'ISO-3166-1-ALPHA-3': 'AFG'}, 'nome': {'abreviado': 'Afeganistão', 'abreviado-EN': 'Afghanistan', 'abreviado-ES': 'Afganistán'}, 'area': {'total': '652230', 'unidade': {'nome': 'quilômetros quadrados', 'símbolo': 'km2', 'multiplicador': 1}}, 'localizacao': {'regiao': {'id': {'M49': 142}, 'nome': 'Ásia'}, 'sub-regiao': {'id': {'M49': 34}, 'nome': 'Ásia meridional (Sul da Ásia)'}, 'regiao-intermediaria': None}, 'linguas': [{'id': {'ISO-639-1': 'ps', 'ISO-639-2': 'pus'}, 'nome': 'pachto'}], 'governo': {'capital': {'nome': 'Cabul'}}, 'unidades-monetarias': [{'id': {'ISO-4217-ALPHA': 'AFN', 'ISO-4217-NUMERICO': '971'}, 'nome': 'Afegane'}], 'historico': 'A República Islâmica do Afeganistão é um país localizado no centro do continente asiático. No século XVIII, o país é invadido pelos persas. Conquistaria a independência em 1747 graças a Ahmed Shah Durrani, que unificou as tribos pashtuns. Com o fim do Império Durrani, tem início o Emirado do Afeganistão, com o reinado de Dost Mohammad Khan, em 1823. O Afeganistão serviu como amortecedor entre os impérios britânico e russo, até que conquistou a independência do controle britânico em 1919.A União Soviética invadiu o país em 1979 para apoiar o regime comunista, desencadeando uma longa guerra. Em 1989, sob a pressão implacável de rebeldes mujahidin anticomunistas apoiados internacionalmente, a União Soviética sai do território afegão. Uma série de guerras civis subsequentes faz com que a cidade de Cabul caia nas mãos do grupo fundamentalista islâmico Talibã, em 1996. Uma conferência em Bonn, Alemanha, patrocinada pela ONU em 2001, estabeleceu um processo de reconstrução política que incluiu a adoção de uma nova constituição e a eleição presidencial em 2004. Em dezembro de 2004, Hamid Karzai se tornou o primeiro presidente democraticamente eleito do Afeganistão, sendo reeleito em agosto de 2009 para o segundo mandato. Novas eleições ocorreram em 2014, resultando num impasse. Ashraf Ghani e Abdullah eram os dois adversários que concorriam à sucessão do presidente Hamid Karzai. Ghani foi o vencedor no segundo turno, mas Abdullah denunciou fraude, o que provocou um processo de revisão eleitoral. Por conta disso, ambos assinaram um acordo de governo, em setembro de 2014, no qual ficou instituído que o presidente seria Ghani e Abdullah ocuparia um cargo executivo similar ao de primeiro-ministro. Fontes: https://www.infoplease.com/encyclopedia/places/asia/afghanistan-political-geography/afghanistan/history https://www.cia.gov/library/publications/the-world-factbook/geos/af.html'}]\n",
            "<class 'dict'>\n",
            "{'M49': 4, 'ISO-3166-1-ALPHA-2': 'AF', 'ISO-3166-1-ALPHA-3': 'AFG'}\n"
          ]
        }
      ]
    }
  ]
}