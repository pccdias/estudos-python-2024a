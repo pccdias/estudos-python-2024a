{
  "nbformat": 4,
  "nbformat_minor": 0,
  "metadata": {
    "colab": {
      "provenance": []
    },
    "kernelspec": {
      "name": "python3",
      "display_name": "Python 3"
    },
    "language_info": {
      "name": "python"
    }
  },
  "cells": [
    {
      "cell_type": "markdown",
      "source": [
        "# **Um exemplo usando Copilot**"
      ],
      "metadata": {
        "id": "vCqbV8qcrSCg"
      }
    },
    {
      "cell_type": "code",
      "execution_count": null,
      "metadata": {
        "colab": {
          "base_uri": "https://localhost:8080/"
        },
        "id": "426oSqM_YmIq",
        "outputId": "f3b3150d-7613-4062-e1aa-3af4aed7f32e"
      },
      "outputs": [
        {
          "output_type": "stream",
          "name": "stdout",
          "text": [
            "Programa para Conversão de Temperaturas\n",
            "1. Converter de Celsius para Fahrenheit\n",
            "2. Converter de Fahrenheit para Celsius\n",
            "Escolha o tipo de conversão que deseja realizar: 3\n",
            "Opção inválida\n"
          ]
        }
      ],
      "source": [
        "# Conversor de Unidades: Graus Celsius e Fahrenheit\n",
        "def menu_inicial():\n",
        "    print('Programa para Conversão de Temperaturas')\n",
        "    print('1. Converter de Celsius para Fahrenheit')\n",
        "    print('2. Converter de Fahrenheit para Celsius')\n",
        "\n",
        "def cel_fahr():\n",
        "    C = float(input('Entre com a temperatura em graus Celsius: '))\n",
        "    F = C * (9 / 5) + 32\n",
        "    print(f'Valor em Fahrenheit: {F:.2f}°F')\n",
        "\n",
        "def fahr_cel():\n",
        "    F = float(input('Entre com a temperatura em graus Fahrenheit: '))\n",
        "    C = (F - 32) * (5 / 9)\n",
        "    print(f'Valor em Celsius: {C:.2f}°C')\n",
        "\n",
        "if __name__ == '__main__':\n",
        "    menu_inicial()\n",
        "    escolha = input('Escolha o tipo de conversão que deseja realizar: ')\n",
        "    if escolha == '1':\n",
        "        cel_fahr()\n",
        "    elif escolha == '2':\n",
        "        fahr_cel()\n",
        "    else:\n",
        "        print('Opção inválida')\n"
      ]
    },
    {
      "cell_type": "markdown",
      "source": [
        "# **Exemplo de algoritmo em Python**"
      ],
      "metadata": {
        "id": "owRF6iJBrcbb"
      }
    },
    {
      "cell_type": "markdown",
      "source": [
        "LEIA(X)\n",
        "LEIA(Y)\n",
        "SE (X>Y) ENTÃO\n",
        "  ESCREVA(X)\n",
        "SENÃO\n",
        "  ESCREVA(Y)\n",
        "\n"
      ],
      "metadata": {
        "id": "kw8jlkAbrgW8"
      }
    },
    {
      "cell_type": "code",
      "source": [
        "x = int(input('Digite um número inteiro x: '))\n",
        "y = int(input('Digite um número inteiro y: '))\n",
        "if (x>y):\n",
        "  print(x)\n",
        "else:\n",
        "  print(y)"
      ],
      "metadata": {
        "colab": {
          "base_uri": "https://localhost:8080/"
        },
        "id": "bfqceZ18sNdl",
        "outputId": "b51f6714-74ac-4219-ac98-1d7bea529fbb"
      },
      "execution_count": null,
      "outputs": [
        {
          "output_type": "stream",
          "name": "stdout",
          "text": [
            "Digite um número inteiro x: 3\n",
            "Digite um número inteiro y: 2\n",
            "3\n"
          ]
        }
      ]
    },
    {
      "cell_type": "markdown",
      "source": [
        "# **Comentários**"
      ],
      "metadata": {
        "id": "LB-2fJYr46Jo"
      }
    },
    {
      "cell_type": "markdown",
      "source": [
        "Os comentários em Python são indicados por # no ínicio da frase."
      ],
      "metadata": {
        "id": "yNmaViGQ49KJ"
      }
    },
    {
      "cell_type": "code",
      "source": [
        "#print é um comando que imprime da tela\n",
        "print(\"Olá mundo!\")"
      ],
      "metadata": {
        "colab": {
          "base_uri": "https://localhost:8080/"
        },
        "id": "85fW23eN5EOx",
        "outputId": "08ac83af-3164-4a25-b4c4-207f8d937c7a"
      },
      "execution_count": null,
      "outputs": [
        {
          "output_type": "stream",
          "name": "stdout",
          "text": [
            "Olá mundo!\n"
          ]
        }
      ]
    },
    {
      "cell_type": "markdown",
      "source": [
        "Comentários de múltiplas linhas"
      ],
      "metadata": {
        "id": "sKOAQYx457GO"
      }
    },
    {
      "cell_type": "code",
      "source": [
        "#este é um\n",
        "#comentário de\n",
        "#múltiplas linhas\n",
        "print(\"comentários\")"
      ],
      "metadata": {
        "colab": {
          "base_uri": "https://localhost:8080/"
        },
        "id": "TVcZMWuA5-rc",
        "outputId": "42eb6e8e-3083-45c4-8653-f81325d72f07"
      },
      "execution_count": null,
      "outputs": [
        {
          "output_type": "stream",
          "name": "stdout",
          "text": [
            "comentários\n"
          ]
        }
      ]
    },
    {
      "cell_type": "code",
      "source": [
        "\"\"\"\n",
        "este é um\n",
        "comentário de\n",
        "múltiplas linhas\n",
        "\"\"\"\n",
        "print(\"comentários\")"
      ],
      "metadata": {
        "colab": {
          "base_uri": "https://localhost:8080/"
        },
        "id": "GEMgItaj7FfO",
        "outputId": "66527a6d-3cf5-44e0-9722-74c38f6fb403"
      },
      "execution_count": null,
      "outputs": [
        {
          "output_type": "stream",
          "name": "stdout",
          "text": [
            "comentários\n"
          ]
        }
      ]
    },
    {
      "cell_type": "markdown",
      "source": [
        "# **Variáveis**"
      ],
      "metadata": {
        "id": "8C66NnqF7vMq"
      }
    },
    {
      "cell_type": "code",
      "source": [
        "x = 3 #a variável x guarda o int 3\n",
        "y = 3.0 #a variável y guarda o float 3.0\n",
        "Y = 5.0 #variavel y maiúscula\n",
        "velocidade_inicial = 20.5 #veloc em m/s núremro float (real)\n",
        "nome_1 = \"João\"\n",
        "nome_2 = 'Maria'\n",
        "print(y)\n",
        "print(Y)\n",
        "\n"
      ],
      "metadata": {
        "colab": {
          "base_uri": "https://localhost:8080/"
        },
        "id": "MhSqVrm17yRG",
        "outputId": "3c6751b3-fcc6-48d3-c099-9febaa73be90"
      },
      "execution_count": null,
      "outputs": [
        {
          "output_type": "stream",
          "name": "stdout",
          "text": [
            "3.0\n",
            "5.0\n"
          ]
        }
      ]
    },
    {
      "cell_type": "code",
      "source": [
        "print(type(x))\n",
        "print(type(y))\n",
        "print(type(nome_1))"
      ],
      "metadata": {
        "colab": {
          "base_uri": "https://localhost:8080/"
        },
        "id": "9K03K5pm9h6F",
        "outputId": "f8ccff1a-405b-4dec-cb81-000c64c7dcef"
      },
      "execution_count": null,
      "outputs": [
        {
          "output_type": "stream",
          "name": "stdout",
          "text": [
            "<class 'int'>\n",
            "<class 'float'>\n",
            "<class 'str'>\n"
          ]
        }
      ]
    },
    {
      "cell_type": "markdown",
      "source": [
        "# **Atividade para a próxima semana**"
      ],
      "metadata": {
        "id": "d6pt9co-Bfvz"
      }
    },
    {
      "cell_type": "markdown",
      "source": [
        "Escreva um programa que aceite uma velocidade em m/s e que imprima o resultado em km/h."
      ],
      "metadata": {
        "id": "tAhbDHvUBybT"
      }
    },
    {
      "cell_type": "code",
      "source": [],
      "metadata": {
        "id": "YQVPFt6HBxq1"
      },
      "execution_count": null,
      "outputs": []
    },
    {
      "cell_type": "markdown",
      "source": [],
      "metadata": {
        "id": "pat5VqptsxmH"
      }
    }
  ]
}