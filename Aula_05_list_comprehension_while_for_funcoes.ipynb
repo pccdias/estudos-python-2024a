{
  "nbformat": 4,
  "nbformat_minor": 0,
  "metadata": {
    "colab": {
      "provenance": []
    },
    "kernelspec": {
      "name": "python3",
      "display_name": "Python 3"
    },
    "language_info": {
      "name": "python"
    }
  },
  "cells": [
    {
      "cell_type": "markdown",
      "source": [
        "# **Correção dos exercícios da aula 04**"
      ],
      "metadata": {
        "id": "5vZQZiEigiDh"
      }
    },
    {
      "cell_type": "markdown",
      "source": [
        "**Exercício 01 da aula 04**"
      ],
      "metadata": {
        "id": "mSLYHFi_gzdR"
      }
    },
    {
      "cell_type": "code",
      "execution_count": null,
      "metadata": {
        "colab": {
          "base_uri": "https://localhost:8080/"
        },
        "id": "sPzXUnq_gGHs",
        "outputId": "33e18a90-bddb-4437-c342-b7376d50d494"
      },
      "outputs": [
        {
          "output_type": "stream",
          "name": "stdout",
          "text": [
            "['ANDRÉ', 'CARLOS', 'ISABEL', 'MARIA', 'SILVIA']\n",
            "['silvia', 'maria', 'isabel', 'carlos', 'andré']\n",
            "['André', 'Carlos', 'Isabel', 'Maria', 'Silvia']\n"
          ]
        }
      ],
      "source": [
        "nomes = list() #inicia uma lista vazia\n",
        "#nomes.append(str(input(\"Digite o 1o nome: \"))) #recebe o 1o nome e junta na lista.\n",
        "#nomes.append(str(input(\"Digite o 2o nome: \"))) #recebe o 2o nome e junta na lista.\n",
        "#nomes.append(str(input(\"Digite o 3o nome: \"))) #recebe o 3o nome e junta na lista.\n",
        "#nomes.append(str(input(\"Digite o 4o nome: \"))) #recebe o 4o nome e junta na lista.\n",
        "#nomes.append(str(input(\"Digite o 5o nome: \"))) #recebe o 5o nome e junta na lista.\n",
        "nomes = ['Silvia', 'Maria', 'Isabel', 'André', 'Carlos']\n",
        "#ordena as listas\n",
        "nomes = [x.upper() for x in nomes]\n",
        "nomes.sort()\n",
        "print(nomes)\n",
        "nomes = [x.lower() for x in nomes]\n",
        "nomes.sort(reverse=True)\n",
        "print(nomes)\n",
        "nomes = [x.capitalize() for x in nomes]\n",
        "nomes.sort()\n",
        "print(nomes)"
      ]
    },
    {
      "cell_type": "code",
      "source": [
        "n1 = input(\"Digite o 1o nome: \") #recebe o 1o nome e junta na lista.\n",
        "n2 = input(\"Digite o 2o nome: \") #recebe o 2o nome e junta na lista.\n",
        "n3 = input(\"Digite o 3o nome: \") #recebe o 3o nome e junta na lista.\n",
        "n4 = input(\"Digite o 4o nome: \") #recebe o 4o nome e junta na lista.\n",
        "n5 = input(\"Digite o 5o nome: \") #recebe o 5o nome e junta na lista.\n",
        "nomes = [n1, n2, n3, n4, n5]\n",
        "nomes = [x.upper() for x in nomes]\n",
        "nomes.sort()\n",
        "print(nomes)\n",
        "nomes = [x.lower() for x in nomes]\n",
        "nomes.sort(reverse=True)\n",
        "print(nomes)\n",
        "nomes = [x.capitalize() for x in nomes]\n",
        "nomes.sort()\n",
        "print(nomes)\n"
      ],
      "metadata": {
        "id": "cqjtbNn9hnIg",
        "colab": {
          "base_uri": "https://localhost:8080/"
        },
        "outputId": "522f6873-ef3b-4b67-b8d5-9e0341792901"
      },
      "execution_count": null,
      "outputs": [
        {
          "output_type": "stream",
          "name": "stdout",
          "text": [
            "Digite o 1o nome: a\n",
            "Digite o 2o nome: a\n",
            "Digite o 3o nome: \n",
            "Digite o 4o nome: \n",
            "Digite o 5o nome: a\n",
            "['', '', 'A', 'A', 'A']\n",
            "['a', 'a', 'a', '', '']\n",
            "['', '', 'A', 'A', 'A']\n"
          ]
        }
      ]
    },
    {
      "cell_type": "markdown",
      "source": [
        "**Exercício 02 da aula 04**"
      ],
      "metadata": {
        "id": "7NeSD7jdrT27"
      }
    },
    {
      "cell_type": "code",
      "source": [
        "a = [2, 3, 4, 5, 5, 6]\n",
        "a.sort()\n",
        "print(a)\n",
        "print(sum(a))\n",
        "print('Tamanho da lista: ', len(a))\n",
        "print('Média da lista {:.2f}'.format(sum(a)/len(a)))"
      ],
      "metadata": {
        "colab": {
          "base_uri": "https://localhost:8080/"
        },
        "id": "PBNgD9xcrW6c",
        "outputId": "1c99c026-2cff-4593-ed54-052a222f1262"
      },
      "execution_count": null,
      "outputs": [
        {
          "output_type": "stream",
          "name": "stdout",
          "text": [
            "[2, 3, 4, 5, 5, 6]\n",
            "25\n",
            "Tamanho da lista:  6\n",
            "Média da lista 4.17\n"
          ]
        }
      ]
    },
    {
      "cell_type": "markdown",
      "source": [
        "# **List Comprehension**"
      ],
      "metadata": {
        "id": "v_4zvNKv1Om7"
      }
    },
    {
      "cell_type": "code",
      "source": [
        "numeros = [x for x in range(1,21)] #cria uma lista entre 1 e 20\n",
        "print(numeros)\n",
        "print(len(numeros)) #retorna o número de elementos na lista\n",
        "print(sum(numeros)) #retorna a soma dos elementos numéricos da lista\n",
        "print(max(numeros)) #retorna o máximo da lista\n",
        "print(min(numeros)) #retorna o mínimo da lista\n"
      ],
      "metadata": {
        "colab": {
          "base_uri": "https://localhost:8080/"
        },
        "id": "qSatreuA1Tro",
        "outputId": "603e001f-7689-46cb-8d59-5b8044d39bff"
      },
      "execution_count": null,
      "outputs": [
        {
          "output_type": "stream",
          "name": "stdout",
          "text": [
            "[1, 2, 3, 4, 5, 6, 7, 8, 9, 10, 11, 12, 13, 14, 15, 16, 17, 18, 19, 20]\n",
            "20\n",
            "210\n",
            "20\n",
            "1\n"
          ]
        }
      ]
    },
    {
      "cell_type": "code",
      "source": [
        "numeros = [x for x in range(1,21,2)] #cria uma lista entre 1 e 20 de 2 em 2\n",
        "print(numeros)"
      ],
      "metadata": {
        "colab": {
          "base_uri": "https://localhost:8080/"
        },
        "id": "_nl511L52v9v",
        "outputId": "e03babbd-e8f6-486a-a38e-7c4cc3eb3c74"
      },
      "execution_count": null,
      "outputs": [
        {
          "output_type": "stream",
          "name": "stdout",
          "text": [
            "[1, 3, 5, 7, 9, 11, 13, 15, 17, 19]\n"
          ]
        }
      ]
    },
    {
      "cell_type": "code",
      "source": [
        "numeros = [x for x in range(20,0,-2)] #cria uma lista entre 20 e 0 de -2 em -2\n",
        "print(numeros)"
      ],
      "metadata": {
        "colab": {
          "base_uri": "https://localhost:8080/"
        },
        "id": "Lh7_xRMZ4auO",
        "outputId": "94d98833-fbd9-4f0e-a8a1-17b3340c3df1"
      },
      "execution_count": null,
      "outputs": [
        {
          "output_type": "stream",
          "name": "stdout",
          "text": [
            "[20, 18, 16, 14, 12, 10, 8, 6, 4, 2]\n"
          ]
        }
      ]
    },
    {
      "cell_type": "code",
      "source": [
        "numeros = [x for x in range(0,101,5)] #cria uma lista entre 20 e 0 de -2 em -2\n",
        "print(numeros)"
      ],
      "metadata": {
        "colab": {
          "base_uri": "https://localhost:8080/"
        },
        "id": "7FXG4sJU469l",
        "outputId": "81ba2364-9d4f-41d4-971b-79c4a87b7f15"
      },
      "execution_count": null,
      "outputs": [
        {
          "output_type": "stream",
          "name": "stdout",
          "text": [
            "[0, 5, 10, 15, 20, 25, 30, 35, 40, 45, 50, 55, 60, 65, 70, 75, 80, 85, 90, 95, 100]\n"
          ]
        }
      ]
    },
    {
      "cell_type": "code",
      "source": [
        "#uma lista com os quadrados dos números entre 1 e 20\n",
        "quadrados = [x**2 for x in range(1,21)]\n",
        "print(quadrados)"
      ],
      "metadata": {
        "colab": {
          "base_uri": "https://localhost:8080/"
        },
        "id": "IGC8dxq85BGY",
        "outputId": "40387d3b-65e0-4f97-a3d9-7edffb46ddfe"
      },
      "execution_count": null,
      "outputs": [
        {
          "output_type": "stream",
          "name": "stdout",
          "text": [
            "[1, 4, 9, 16, 25, 36, 49, 64, 81, 100, 121, 144, 169, 196, 225, 256, 289, 324, 361, 400]\n"
          ]
        }
      ]
    },
    {
      "cell_type": "code",
      "source": [
        "#vamos calcular os múltiplos de 3 entre 0 e 100\n",
        "multiplos_3 = [x for x in range(0, 101) if x%3==0]\n",
        "print(multiplos_3)"
      ],
      "metadata": {
        "colab": {
          "base_uri": "https://localhost:8080/"
        },
        "id": "CzqSsXeu5wHT",
        "outputId": "cec2d064-9cf2-452c-c357-3737da57a195"
      },
      "execution_count": null,
      "outputs": [
        {
          "output_type": "stream",
          "name": "stdout",
          "text": [
            "[0, 3, 6, 9, 12, 15, 18, 21, 24, 27, 30, 33, 36, 39, 42, 45, 48, 51, 54, 57, 60, 63, 66, 69, 72, 75, 78, 81, 84, 87, 90, 93, 96, 99]\n"
          ]
        }
      ]
    },
    {
      "cell_type": "code",
      "source": [
        "# faça uma lista que calcule todos múltiplos de 5 entre 0 e 50.\n",
        "multiplos_5 = [x for x in range(0, 51) if x%5==0]\n",
        "print(multiplos_5)\n",
        "print(sum(multiplos_5))"
      ],
      "metadata": {
        "colab": {
          "base_uri": "https://localhost:8080/"
        },
        "id": "QHUfZob36LEN",
        "outputId": "51e60717-71f8-4981-c7c2-219507de207e"
      },
      "execution_count": null,
      "outputs": [
        {
          "output_type": "stream",
          "name": "stdout",
          "text": [
            "[0, 5, 10, 15, 20, 25, 30, 35, 40, 45, 50]\n",
            "275\n"
          ]
        }
      ]
    },
    {
      "cell_type": "code",
      "source": [
        "#faça a raiz quadrada de todos os inteiros entre 1 e 20.\n",
        "import math\n",
        "raizes = [math.sqrt(x) for x in range(1,21)]\n",
        "print(raizes)\n",
        "quadrado = [x*x for x in raizes]\n",
        "print(quadrado)"
      ],
      "metadata": {
        "colab": {
          "base_uri": "https://localhost:8080/"
        },
        "id": "UmoZgwxz76Ki",
        "outputId": "89a43805-7267-4476-cb36-e35057c8d75a"
      },
      "execution_count": null,
      "outputs": [
        {
          "output_type": "stream",
          "name": "stdout",
          "text": [
            "[1.0, 1.4142135623730951, 1.7320508075688772, 2.0, 2.23606797749979, 2.449489742783178, 2.6457513110645907, 2.8284271247461903, 3.0, 3.1622776601683795, 3.3166247903554, 3.4641016151377544, 3.605551275463989, 3.7416573867739413, 3.872983346207417, 4.0, 4.123105625617661, 4.242640687119285, 4.358898943540674, 4.47213595499958]\n",
            "[1.0, 2.0000000000000004, 2.9999999999999996, 4.0, 5.000000000000001, 5.999999999999999, 7.000000000000001, 8.000000000000002, 9.0, 10.000000000000002, 11.0, 11.999999999999998, 12.999999999999998, 14.0, 15.000000000000002, 16.0, 17.0, 17.999999999999996, 19.000000000000004, 20.000000000000004]\n"
          ]
        }
      ]
    },
    {
      "cell_type": "code",
      "source": [
        "#gere uma lista de números aleatórios\n",
        "import random #importa a biblioteca para geração de números aleatórios\n",
        "a = [random.randint(1,50) for x in range(1,21)] #\n",
        "print(a)"
      ],
      "metadata": {
        "colab": {
          "base_uri": "https://localhost:8080/"
        },
        "id": "ubOG70Zj9-j-",
        "outputId": "3ac41375-dcae-433f-9244-672130bc67b4"
      },
      "execution_count": null,
      "outputs": [
        {
          "output_type": "stream",
          "name": "stdout",
          "text": [
            "[41, 38, 23, 23, 43, 22, 2, 37, 13, 30, 32, 41, 28, 37, 44, 6, 38, 48, 42, 45]\n"
          ]
        }
      ]
    },
    {
      "cell_type": "code",
      "source": [
        "#gerador de palpite para megasena\n",
        "from numpy import random   #importou o módulo aleatório (random) do pacote numpy\n",
        "import numpy as np #importa a numpy e chamou de np\n",
        "n = [x for x in range(1,61)]  #gerou uma lista com numeros entre 1 e 60\n",
        "numeros = np.array(n)  #gerou um array numpy\n",
        "print(numeros)\n",
        "numeros_permutados = random.permutation(numeros) #permutou o array\n",
        "print(numeros_permutados)\n",
        "aposta = numeros_permutados[0:6] #pegou os 6 primeiros numeros\n",
        "print(np.sort(aposta))"
      ],
      "metadata": {
        "colab": {
          "base_uri": "https://localhost:8080/"
        },
        "id": "JiijU-WnBXZf",
        "outputId": "718118de-b4fd-43aa-d7af-8cf79572e44d"
      },
      "execution_count": null,
      "outputs": [
        {
          "output_type": "stream",
          "name": "stdout",
          "text": [
            "[ 1  2  3  4  5  6  7  8  9 10 11 12 13 14 15 16 17 18 19 20 21 22 23 24\n",
            " 25 26 27 28 29 30 31 32 33 34 35 36 37 38 39 40 41 42 43 44 45 46 47 48\n",
            " 49 50 51 52 53 54 55 56 57 58 59 60]\n",
            "[12 23 27 59 57 17  7 40 38  4 48 34 20 51 24 14 41 42 18 32  3 60  9 46\n",
            " 19 10  6 35 45 16 50 25 31 26 43 56  5 54 22 36  2 55 29 44 33 47 13 37\n",
            " 28 15 53 21 39 49 58  1  8 52 11 30]\n",
            "[12 17 23 27 57 59]\n"
          ]
        }
      ]
    },
    {
      "cell_type": "markdown",
      "source": [
        "# **While Loops**"
      ],
      "metadata": {
        "id": "JvP5DwuwGwgS"
      }
    },
    {
      "cell_type": "code",
      "source": [
        "i = 1\n",
        "while i < 6: #repete o bloco abaixo enquanto a condição for verdadeira\n",
        "  print(i)\n",
        "  i = i + 1"
      ],
      "metadata": {
        "id": "1eHOenZGGyK2"
      },
      "execution_count": null,
      "outputs": []
    },
    {
      "cell_type": "markdown",
      "source": [
        "**Exemplo: cáluclo da média de n números**"
      ],
      "metadata": {
        "id": "JZoh_BygInIy"
      }
    },
    {
      "cell_type": "code",
      "source": [
        "#solicitar a quantidade de números\n",
        "n = int(input(\"Quantos números para calcular a média? \"))\n",
        "i = 0\n",
        "numeros = []\n",
        "while i < n:\n",
        "  print('\\nDigite o {:d}o número'.format(i+1))\n",
        "  numeros.append(float(input(\"Digite um número: \")))\n",
        "  i = i + 1\n",
        "print('\\nMédia: {:.2f}'.format(sum(numeros)/len(numeros)))\n",
        "\n"
      ],
      "metadata": {
        "colab": {
          "base_uri": "https://localhost:8080/"
        },
        "id": "2za1mFUUIho4",
        "outputId": "20d7cbd5-0a1f-48dc-f7be-ff4dce529e09"
      },
      "execution_count": null,
      "outputs": [
        {
          "output_type": "stream",
          "name": "stdout",
          "text": [
            "Quantos números para calcular a média? 4\n",
            "\n",
            "Digite o 1o número\n",
            "Digite um número: 25\n",
            "\n",
            "Digite o 2o número\n",
            "Digite um número: 50\n",
            "\n",
            "Digite o 3o número\n",
            "Digite um número: 25\n",
            "\n",
            "Digite o 4o número\n",
            "Digite um número: 20\n",
            "\n",
            "Média: 30.00\n"
          ]
        }
      ]
    },
    {
      "cell_type": "code",
      "source": [],
      "metadata": {
        "id": "k5Vyv-HwMHmu"
      },
      "execution_count": null,
      "outputs": []
    }
  ]
}