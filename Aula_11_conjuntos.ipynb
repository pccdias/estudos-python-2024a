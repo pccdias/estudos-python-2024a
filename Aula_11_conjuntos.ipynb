{
  "nbformat": 4,
  "nbformat_minor": 0,
  "metadata": {
    "colab": {
      "provenance": []
    },
    "kernelspec": {
      "name": "python3",
      "display_name": "Python 3"
    },
    "language_info": {
      "name": "python"
    }
  },
  "cells": [
    {
      "cell_type": "markdown",
      "source": [
        "# **Aula 11 - 06/05/2024 - Conjuntos**"
      ],
      "metadata": {
        "id": "mxD416yVldC3"
      }
    },
    {
      "cell_type": "code",
      "execution_count": null,
      "metadata": {
        "colab": {
          "base_uri": "https://localhost:8080/"
        },
        "id": "ADkRVbUolPmg",
        "outputId": "9afdb640-feb8-4bb4-ce10-ae3355e50c77"
      },
      "outputs": [
        {
          "output_type": "stream",
          "name": "stdout",
          "text": [
            "{'João', 'José', 'Maria', 'Carlos'}\n",
            "<class 'set'>\n"
          ]
        }
      ],
      "source": [
        "volei = {\"João\", \"Carlos\", \"Maria\", \"José\",\"Carlos\"}\n",
        "print(volei) #observe que itens duplicados são ignorados\n",
        "print(type(volei))"
      ]
    },
    {
      "cell_type": "markdown",
      "source": [
        "Conjuntos e valores lógicos"
      ],
      "metadata": {
        "id": "ULwGgBtOosST"
      }
    },
    {
      "cell_type": "code",
      "source": [
        "conj_01 = {\"Soja\",True, 1, False, 0, 2.34, 23}\n",
        "print(conj_01)"
      ],
      "metadata": {
        "colab": {
          "base_uri": "https://localhost:8080/"
        },
        "id": "AzFK3o6DojnP",
        "outputId": "297ad9f0-c798-4764-db99-d22d2414d6d5"
      },
      "execution_count": null,
      "outputs": [
        {
          "output_type": "stream",
          "name": "stdout",
          "text": [
            "{False, True, 2.34, 'Soja', 23}\n"
          ]
        }
      ]
    },
    {
      "cell_type": "markdown",
      "source": [
        "Tamanho do conjunto"
      ],
      "metadata": {
        "id": "0bBEmc1Ept59"
      }
    },
    {
      "cell_type": "code",
      "source": [
        "print(len(volei))"
      ],
      "metadata": {
        "colab": {
          "base_uri": "https://localhost:8080/"
        },
        "id": "tCYcmS8DpvkE",
        "outputId": "0ba65d22-19cc-4b2a-eca4-6e339f6184fe"
      },
      "execution_count": null,
      "outputs": [
        {
          "output_type": "stream",
          "name": "stdout",
          "text": [
            "4\n"
          ]
        }
      ]
    },
    {
      "cell_type": "markdown",
      "source": [
        "Construindo conjuntos"
      ],
      "metadata": {
        "id": "AhLm2uDRqIwS"
      }
    },
    {
      "cell_type": "code",
      "source": [
        "volei = {\"João\", \"Carlos\", \"Maria\", \"José\",\"Carlos\"} # definindo o conj. diretamente\n",
        "volei = set((\"João\", \"Carlos\", \"Maria\", \"José\",\"Carlos\")) #construtor e tupla\n",
        "volei = set([\"João\", \"Carlos\", \"Maria\", \"José\",\"Carlos\"]) #construtor e lista"
      ],
      "metadata": {
        "id": "OLdg_arWqKzq"
      },
      "execution_count": null,
      "outputs": []
    },
    {
      "cell_type": "markdown",
      "source": [
        "Usando conjuntos para eliminar valores duplicados de listas."
      ],
      "metadata": {
        "id": "4cS7pEbxrYj_"
      }
    },
    {
      "cell_type": "code",
      "source": [
        "lista_volei = [\"João\", \"Carlos\", \"Maria\", \"José\",\"Carlos\"]\n",
        "conj_volei = set(lista_volei)\n",
        "lista_volei = list(conj_volei)\n",
        "print(lista_volei)"
      ],
      "metadata": {
        "colab": {
          "base_uri": "https://localhost:8080/"
        },
        "id": "UggEgXk_reTe",
        "outputId": "30244817-203e-4c44-c8e5-9f0fca58720a"
      },
      "execution_count": null,
      "outputs": [
        {
          "output_type": "stream",
          "name": "stdout",
          "text": [
            "['José', 'Carlos', 'Maria', 'João']\n"
          ]
        }
      ]
    },
    {
      "cell_type": "code",
      "source": [
        "print(list(set([\"João\", \"Carlos\", \"Maria\", \"José\",\"Carlos\"])))"
      ],
      "metadata": {
        "colab": {
          "base_uri": "https://localhost:8080/"
        },
        "id": "dlfFGRHPsooX",
        "outputId": "21f666dc-a3c9-4eba-e77a-c3e3efd7953f"
      },
      "execution_count": null,
      "outputs": [
        {
          "output_type": "stream",
          "name": "stdout",
          "text": [
            "['José', 'Carlos', 'Maria', 'João']\n"
          ]
        }
      ]
    },
    {
      "cell_type": "markdown",
      "source": [
        "Acessando os itens do conjunto"
      ],
      "metadata": {
        "id": "f-XLSkUTt4_j"
      }
    },
    {
      "cell_type": "code",
      "source": [
        "volei = {\"João\", \"Carlos\", \"Maria\", \"José\",\"Carlos\"}\n",
        "for item in volei:\n",
        "  print(item, item in volei)\n"
      ],
      "metadata": {
        "colab": {
          "base_uri": "https://localhost:8080/"
        },
        "id": "9-s1pXWmt7pn",
        "outputId": "9e7247b9-1b3b-4025-f826-e54dd798c8fa"
      },
      "execution_count": null,
      "outputs": [
        {
          "output_type": "stream",
          "name": "stdout",
          "text": [
            "Carlos True\n",
            "José True\n",
            "Maria True\n",
            "João True\n"
          ]
        }
      ]
    },
    {
      "cell_type": "markdown",
      "source": [
        "Adicionando item a um conjunto"
      ],
      "metadata": {
        "id": "4xvRiPHavqvs"
      }
    },
    {
      "cell_type": "code",
      "source": [
        "pets = {\"Cão\", \"Gato\"}\n",
        "pets.add(\"Coelho\")\n",
        "pets.add(\"Pássaro\")\n",
        "print(pets)\n",
        "pets.add(\"Cão\")\n",
        "print(pets)"
      ],
      "metadata": {
        "colab": {
          "base_uri": "https://localhost:8080/"
        },
        "id": "oEkZBkP6vtW0",
        "outputId": "f3bf8747-117c-40dc-90be-c12b9b3cd0b5"
      },
      "execution_count": null,
      "outputs": [
        {
          "output_type": "stream",
          "name": "stdout",
          "text": [
            "{'Cão', 'Coelho', 'Pássaro', 'Gato'}\n",
            "{'Cão', 'Coelho', 'Pássaro', 'Gato'}\n"
          ]
        }
      ]
    },
    {
      "cell_type": "code",
      "source": [
        "pets_01 = {\"Cão\", \"Gato\"}\n",
        "pets_02 = {\"Pássaro\", \"Coelho\"}\n",
        "pets_01.update(pets_02)\n",
        "print(pets_01)"
      ],
      "metadata": {
        "colab": {
          "base_uri": "https://localhost:8080/"
        },
        "id": "WI45Wm5owrFJ",
        "outputId": "75bc31ce-e02f-4ab7-abef-ebc5d8828b8b"
      },
      "execution_count": null,
      "outputs": [
        {
          "output_type": "stream",
          "name": "stdout",
          "text": [
            "{'Cão', 'Coelho', 'Pássaro', 'Gato'}\n"
          ]
        }
      ]
    },
    {
      "cell_type": "code",
      "source": [
        "pets_01 = {\"Cão\", \"Gato\"}\n",
        "pets_02 = [\"Pássaro\", \"Coelho\", \"Cão\"]\n",
        "pets_01.update(pets_02)\n",
        "print(pets_01)"
      ],
      "metadata": {
        "colab": {
          "base_uri": "https://localhost:8080/"
        },
        "id": "iGZ9T_uaw3CG",
        "outputId": "85ebe1bc-9064-4efb-fb3e-bb795dcb8a40"
      },
      "execution_count": null,
      "outputs": [
        {
          "output_type": "stream",
          "name": "stdout",
          "text": [
            "{'Cão', 'Coelho', 'Pássaro', 'Gato'}\n"
          ]
        }
      ]
    },
    {
      "cell_type": "markdown",
      "source": [
        "Removendo item do conjunto"
      ],
      "metadata": {
        "id": "zZWr4BlA1TYP"
      }
    },
    {
      "cell_type": "code",
      "source": [
        "pets_01 = {\"Cão\", \"Gato\", \"Pássaro\", \"Coelho\", \"Cão\"}\n",
        "pets_01.remove(\"Pássaro\")\n",
        "print(pets_01)"
      ],
      "metadata": {
        "colab": {
          "base_uri": "https://localhost:8080/"
        },
        "id": "_CrdIWP-1V0S",
        "outputId": "fdb5465e-c687-4e81-fbe9-c1152ed6d6d7"
      },
      "execution_count": null,
      "outputs": [
        {
          "output_type": "stream",
          "name": "stdout",
          "text": [
            "{'Cão', 'Coelho', 'Gato'}\n"
          ]
        }
      ]
    },
    {
      "cell_type": "markdown",
      "source": [
        "Se o item não existe no conjunto, o remove resultará em erro. Por isso, tem o discard"
      ],
      "metadata": {
        "id": "OP-UiQ221mIz"
      }
    },
    {
      "cell_type": "code",
      "source": [
        "pets_01 = {\"Cão\", \"Gato\", \"Pássaro\", \"Coelho\", \"Cão\"}\n",
        "pets_01.discard(\"Hamster\")\n",
        "print(pets_01)"
      ],
      "metadata": {
        "colab": {
          "base_uri": "https://localhost:8080/"
        },
        "id": "TTofs6y61vlS",
        "outputId": "29458909-6763-440f-e298-422feaf16056"
      },
      "execution_count": null,
      "outputs": [
        {
          "output_type": "stream",
          "name": "stdout",
          "text": [
            "{'Cão', 'Coelho', 'Pássaro', 'Gato'}\n"
          ]
        }
      ]
    },
    {
      "cell_type": "markdown",
      "source": [
        "Clear apaga os itens do conjunto"
      ],
      "metadata": {
        "id": "HUUiYxLE21ks"
      }
    },
    {
      "cell_type": "code",
      "source": [
        "pets_01 = {\"Cão\", \"Gato\", \"Pássaro\", \"Coelho\", \"Cão\"}\n",
        "pets_01.clear()\n",
        "print(pets_01)"
      ],
      "metadata": {
        "colab": {
          "base_uri": "https://localhost:8080/"
        },
        "id": "3WaADOOb26Ms",
        "outputId": "bf86989e-b5c4-44fb-95eb-bcac3643260f"
      },
      "execution_count": null,
      "outputs": [
        {
          "output_type": "stream",
          "name": "stdout",
          "text": [
            "set()\n"
          ]
        }
      ]
    },
    {
      "cell_type": "markdown",
      "source": [
        "Del apaga o cojunto"
      ],
      "metadata": {
        "id": "WXwluFhx3DoG"
      }
    },
    {
      "cell_type": "code",
      "source": [
        "pets_01 = {\"Cão\", \"Gato\", \"Pássaro\", \"Coelho\", \"Cão\"}\n",
        "del pets_01\n",
        "print(pets_01)"
      ],
      "metadata": {
        "colab": {
          "base_uri": "https://localhost:8080/",
          "height": 179
        },
        "id": "PVdfFaVU3GH7",
        "outputId": "e32cfd6e-37e9-4e40-c030-ad646845b616"
      },
      "execution_count": null,
      "outputs": [
        {
          "output_type": "error",
          "ename": "NameError",
          "evalue": "name 'pets_01' is not defined",
          "traceback": [
            "\u001b[0;31m---------------------------------------------------------------------------\u001b[0m",
            "\u001b[0;31mNameError\u001b[0m                                 Traceback (most recent call last)",
            "\u001b[0;32m<ipython-input-14-99277dbab37a>\u001b[0m in \u001b[0;36m<cell line: 3>\u001b[0;34m()\u001b[0m\n\u001b[1;32m      1\u001b[0m \u001b[0mpets_01\u001b[0m \u001b[0;34m=\u001b[0m \u001b[0;34m{\u001b[0m\u001b[0;34m\"Cão\"\u001b[0m\u001b[0;34m,\u001b[0m \u001b[0;34m\"Gato\"\u001b[0m\u001b[0;34m,\u001b[0m \u001b[0;34m\"Pássaro\"\u001b[0m\u001b[0;34m,\u001b[0m \u001b[0;34m\"Coelho\"\u001b[0m\u001b[0;34m,\u001b[0m \u001b[0;34m\"Cão\"\u001b[0m\u001b[0;34m}\u001b[0m\u001b[0;34m\u001b[0m\u001b[0;34m\u001b[0m\u001b[0m\n\u001b[1;32m      2\u001b[0m \u001b[0;32mdel\u001b[0m \u001b[0mpets_01\u001b[0m\u001b[0;34m\u001b[0m\u001b[0;34m\u001b[0m\u001b[0m\n\u001b[0;32m----> 3\u001b[0;31m \u001b[0mprint\u001b[0m\u001b[0;34m(\u001b[0m\u001b[0mpets_01\u001b[0m\u001b[0;34m)\u001b[0m\u001b[0;34m\u001b[0m\u001b[0;34m\u001b[0m\u001b[0m\n\u001b[0m",
            "\u001b[0;31mNameError\u001b[0m: name 'pets_01' is not defined"
          ]
        }
      ]
    },
    {
      "cell_type": "markdown",
      "source": [
        "União de conjuntos: pode-se usar union ou update"
      ],
      "metadata": {
        "id": "TbaHcgE3H7RP"
      }
    },
    {
      "cell_type": "code",
      "source": [
        "pets_01 = {\"Cão\", \"Gato\"}\n",
        "pets_02 = {\"Pássaro\", \"Coelho\"}\n",
        "pets_03 = pets_01.union(pets_02)\n",
        "print(pets_03)"
      ],
      "metadata": {
        "id": "mRHjjyRYH9k4"
      },
      "execution_count": null,
      "outputs": []
    },
    {
      "cell_type": "code",
      "source": [
        "pets_01 = {\"Cão\", \"Gato\"}\n",
        "pets_02 = {\"Pássaro\", \"Coelho\"}\n",
        "pets_03 = {\"Tartaruga\", \"Cavalo\"}\n",
        "pets_04 = pets_01.union(pets_02,pets_03)\n",
        "print(pets_04)"
      ],
      "metadata": {
        "id": "JWbAbnqJJzIA"
      },
      "execution_count": null,
      "outputs": []
    },
    {
      "cell_type": "code",
      "source": [
        "pets_01 = {\"Cão\", \"Gato\"}\n",
        "pets_02 = {\"Pássaro\", \"Coelho\"}\n",
        "pets_03 = {\"Tartaruga\", \"Cavalo\"}\n",
        "pets_04 = pets_01 | pets_02 | pets_03\n",
        "print(pets_04)"
      ],
      "metadata": {
        "id": "3-VFtNs0KQl2"
      },
      "execution_count": null,
      "outputs": []
    },
    {
      "cell_type": "markdown",
      "source": [
        "O operador | permite unir conjuntos com outros conjuntos e não com outras coleções (listas, tuplas). Caso você queira juntar conjuntos com listas (ou tuplas) user o método union"
      ],
      "metadata": {
        "id": "A7C8EmmxK4sF"
      }
    },
    {
      "cell_type": "markdown",
      "source": [
        "Intersecção"
      ],
      "metadata": {
        "id": "a6pzeC8qL3GD"
      }
    },
    {
      "cell_type": "code",
      "source": [
        "pets_01 = {\"Cão\", \"Gato\"}\n",
        "pets_02 = {\"Pássaro\", \"Coelho\", \"Cão\"}\n",
        "comuns = pets_01.intersection(pets_02)\n",
        "print(comuns)"
      ],
      "metadata": {
        "id": "JAojn3v1LLS2"
      },
      "execution_count": null,
      "outputs": []
    },
    {
      "cell_type": "code",
      "source": [
        "pets_01 = {\"Cão\", \"Gato\"}\n",
        "pets_02 = {\"Pássaro\", \"Coelho\", \"Cão\"}\n",
        "comuns = pets_01 & pets_02\n",
        "print(comuns)"
      ],
      "metadata": {
        "colab": {
          "base_uri": "https://localhost:8080/"
        },
        "id": "AQQaa_ppNdOU",
        "outputId": "af00f315-661d-40da-deee-5364861fa67c"
      },
      "execution_count": null,
      "outputs": [
        {
          "output_type": "stream",
          "name": "stdout",
          "text": [
            "{'Cão'}\n"
          ]
        }
      ]
    },
    {
      "cell_type": "code",
      "source": [
        "set1 = {\"apple\", \"banana\", \"cherry\"}\n",
        "set2 = {\"google\", \"microsoft\", \"apple\"}\n",
        "\n",
        "set1.intersection_update(set2)\n",
        "\n",
        "print(set1)"
      ],
      "metadata": {
        "colab": {
          "base_uri": "https://localhost:8080/"
        },
        "id": "-8p2u7sxOCvk",
        "outputId": "49cb24b7-f323-4bb8-8760-c246edf28269"
      },
      "execution_count": null,
      "outputs": [
        {
          "output_type": "stream",
          "name": "stdout",
          "text": [
            "{'apple'}\n"
          ]
        }
      ]
    },
    {
      "cell_type": "markdown",
      "source": [
        "Diferença entre conjuntos"
      ],
      "metadata": {
        "id": "YyyTRUbkOZat"
      }
    },
    {
      "cell_type": "code",
      "source": [
        "pets_01 = {\"Cão\", \"Gato\"}\n",
        "pets_02 = {\"Pássaro\", \"Coelho\", \"Cão\"}\n",
        "diferenca = pets_01.difference(pets_02)\n",
        "print(diferenca)"
      ],
      "metadata": {
        "colab": {
          "base_uri": "https://localhost:8080/"
        },
        "id": "v-77llHVOW6H",
        "outputId": "9a2ace93-43da-4aad-c2cc-b3d31939233b"
      },
      "execution_count": null,
      "outputs": [
        {
          "output_type": "stream",
          "name": "stdout",
          "text": [
            "{'Gato'}\n"
          ]
        }
      ]
    },
    {
      "cell_type": "code",
      "source": [
        "pets_01 = {\"Cão\", \"Gato\"}\n",
        "pets_02 = {\"Pássaro\", \"Coelho\", \"Cão\"}\n",
        "diferenca = pets_02 - pets_01\n",
        "print(diferenca)"
      ],
      "metadata": {
        "id": "8nEIy7Y-O3SW"
      },
      "execution_count": null,
      "outputs": []
    },
    {
      "cell_type": "code",
      "source": [
        "pets_01 = {\"Cão\", \"Gato\"}\n",
        "pets_02 = {\"Pássaro\", \"Coelho\", \"Cão\"}\n",
        "pets_02.difference_update(pets_01)\n",
        "print(pets_02)"
      ],
      "metadata": {
        "colab": {
          "base_uri": "https://localhost:8080/"
        },
        "id": "EGysPT1tPuqp",
        "outputId": "8e8b2535-bcf3-4654-b372-4b18dfab6af8"
      },
      "execution_count": null,
      "outputs": [
        {
          "output_type": "stream",
          "name": "stdout",
          "text": [
            "{'Coelho', 'Pássaro'}\n"
          ]
        }
      ]
    },
    {
      "cell_type": "markdown",
      "source": [
        "Diferença simétrica"
      ],
      "metadata": {
        "id": "hYoKwbk4Qa_l"
      }
    },
    {
      "cell_type": "code",
      "source": [
        "pets_01 = {\"Cão\", \"Gato\"}\n",
        "pets_02 = {\"Pássaro\", \"Coelho\", \"Cão\"}\n",
        "dif_simetrica = pets_02.symmetric_difference(pets_01)\n",
        "print(dif_simetrica)"
      ],
      "metadata": {
        "colab": {
          "base_uri": "https://localhost:8080/"
        },
        "id": "ygLM-ZOtQaFn",
        "outputId": "7f4d8c0a-6e50-4b87-c1ff-c288e703d7b7"
      },
      "execution_count": null,
      "outputs": [
        {
          "output_type": "stream",
          "name": "stdout",
          "text": [
            "{'Coelho', 'Pássaro', 'Gato'}\n"
          ]
        }
      ]
    },
    {
      "cell_type": "code",
      "source": [
        "pets_01 = {\"Cão\", \"Gato\"}\n",
        "pets_02 = {\"Pássaro\", \"Coelho\", \"Cão\"}\n",
        "dif_simetrica = pets_02 ^ pets_01\n",
        "print(dif_simetrica)"
      ],
      "metadata": {
        "id": "nhUPKDnBRhO4"
      },
      "execution_count": null,
      "outputs": []
    },
    {
      "cell_type": "code",
      "source": [
        "pets_01 = {\"Cão\", \"Gato\"}\n",
        "pets_02 = {\"Pássaro\", \"Coelho\", \"Cão\"}\n",
        "pets_02.symmetric_difference_update(pets_01)\n",
        "print(pets_02)"
      ],
      "metadata": {
        "colab": {
          "base_uri": "https://localhost:8080/"
        },
        "id": "jRvxVjVvTlgR",
        "outputId": "364c488d-4ca3-46eb-b961-eaac50db9dbf"
      },
      "execution_count": null,
      "outputs": [
        {
          "output_type": "stream",
          "name": "stdout",
          "text": [
            "{'Coelho', 'Pássaro', 'Gato'}\n"
          ]
        }
      ]
    },
    {
      "cell_type": "markdown",
      "source": [
        "Verificar se é subconjunto"
      ],
      "metadata": {
        "id": "fGM_ISLIUl6D"
      }
    },
    {
      "cell_type": "code",
      "source": [
        "pets_01 = {\"Cão\", \"Pássaro\"}\n",
        "pets_02 = {\"Pássaro\", \"Coelho\", \"Cão\"}\n",
        "print(pets_01.issubset(pets_02))"
      ],
      "metadata": {
        "id": "Q_XsMw5tUlS3"
      },
      "execution_count": null,
      "outputs": []
    },
    {
      "cell_type": "code",
      "source": [
        "pets_01 = {\"Cão\", \"Pássaro\"}\n",
        "pets_02 = {\"Pássaro\", \"Coelho\", \"Cão\"}\n",
        "print(pets_01 <= pets_02)"
      ],
      "metadata": {
        "id": "KtE7NXaeVG52"
      },
      "execution_count": null,
      "outputs": []
    },
    {
      "cell_type": "markdown",
      "source": [
        "Verificar se é superconjunto"
      ],
      "metadata": {
        "id": "0IDNGmvCV5-T"
      }
    },
    {
      "cell_type": "code",
      "source": [
        "pets_01 = {\"Cão\", \"Pássaro\"}\n",
        "pets_02 = {\"Pássaro\", \"Coelho\", \"Cão\"}\n",
        "print(pets_02.issuperset(pets_01))"
      ],
      "metadata": {
        "id": "7Dero9UiV8cb"
      },
      "execution_count": null,
      "outputs": []
    },
    {
      "cell_type": "code",
      "source": [
        "pets_01 = {\"Cão\", \"Pássaro\"}\n",
        "pets_02 = {\"Pássaro\", \"Coelho\", \"Cão\"}\n",
        "print(pets_02 >= pets_01)"
      ],
      "metadata": {
        "id": "fYd25SnzWH72"
      },
      "execution_count": null,
      "outputs": []
    }
  ]
}