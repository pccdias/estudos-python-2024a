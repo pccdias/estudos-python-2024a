{
  "nbformat": 4,
  "nbformat_minor": 0,
  "metadata": {
    "colab": {
      "provenance": []
    },
    "kernelspec": {
      "name": "python3",
      "display_name": "Python 3"
    },
    "language_info": {
      "name": "python"
    }
  },
  "cells": [
    {
      "cell_type": "markdown",
      "source": [
        "# **Aula 10  - 29/04/2024**"
      ],
      "metadata": {
        "id": "oYYa1o--iyfC"
      }
    },
    {
      "cell_type": "markdown",
      "source": [
        "Tupla é coleção, ordenada (os elementos são armazenados em ordem), não mutável (unchangeable) e que permite duplicatas de dados homogêneos ou heterogêneos."
      ],
      "metadata": {
        "id": "vn7JIX5skYvk"
      }
    },
    {
      "cell_type": "code",
      "execution_count": null,
      "metadata": {
        "colab": {
          "base_uri": "https://localhost:8080/"
        },
        "id": "gIAtX2f7ij2a",
        "outputId": "48705a96-6886-48ae-ce9c-5ed0dd02b1b8"
      },
      "outputs": [
        {
          "output_type": "stream",
          "name": "stdout",
          "text": [
            "(1, 2, 4, 5)\n",
            "('A', 'B', 'C', 'D')\n",
            "(True, False, True, False, False)\n",
            "('A', 1, True, 3, 4, 5)\n"
          ]
        }
      ],
      "source": [
        "exemplo_tupla_01 = tuple((1,2,4,5))\n",
        "exemplo_tupla_02 = tuple((\"A\", \"B\", \"C\",\"D\"))\n",
        "exemplo_tupla_03 = tuple((True, False, True, False, False))\n",
        "exemplo_tupla_04 = tuple((\"A\",1,True,3,4,5))\n",
        "print(exemplo_tupla_01)\n",
        "print(exemplo_tupla_02)\n",
        "print(exemplo_tupla_03)\n",
        "print(exemplo_tupla_04)"
      ]
    },
    {
      "cell_type": "markdown",
      "source": [
        "**IMPORTANTE:** Quando se cria uma tupla com um único elemento, insira uma vírgula após o item, pois, caso contrário o elemento não será reconhecido como uma tupla."
      ],
      "metadata": {
        "id": "GOoO4Gooq35Z"
      }
    },
    {
      "cell_type": "code",
      "source": [
        "x = tuple((1,))\n",
        "print(type(x))"
      ],
      "metadata": {
        "colab": {
          "base_uri": "https://localhost:8080/"
        },
        "id": "li4jpy8trIgZ",
        "outputId": "f051f493-18c1-4ee0-8a45-a2a24936b56a"
      },
      "execution_count": null,
      "outputs": [
        {
          "output_type": "stream",
          "name": "stdout",
          "text": [
            "<class 'tuple'>\n"
          ]
        }
      ]
    },
    {
      "cell_type": "code",
      "source": [],
      "metadata": {
        "id": "YrhwJR7grXX7"
      },
      "execution_count": null,
      "outputs": []
    },
    {
      "cell_type": "code",
      "source": [
        "print(type(exemplo_tupla_01))"
      ],
      "metadata": {
        "colab": {
          "base_uri": "https://localhost:8080/"
        },
        "id": "I_GtxBs4nNMC",
        "outputId": "1a89430c-2d08-4ca6-8f9b-b47e50bf6fa1"
      },
      "execution_count": null,
      "outputs": [
        {
          "output_type": "stream",
          "name": "stdout",
          "text": [
            "<class 'tuple'>\n"
          ]
        }
      ]
    },
    {
      "cell_type": "code",
      "source": [
        "print(exemplo_tupla_01)\n",
        "print(len(exemplo_tupla_01))"
      ],
      "metadata": {
        "colab": {
          "base_uri": "https://localhost:8080/"
        },
        "id": "t33kRB0Xngzw",
        "outputId": "bd0d533d-b3df-48d6-f152-880282d851ca"
      },
      "execution_count": null,
      "outputs": [
        {
          "output_type": "stream",
          "name": "stdout",
          "text": [
            "(1, 2, 4, 5)\n",
            "4\n"
          ]
        }
      ]
    },
    {
      "cell_type": "code",
      "source": [
        "print(exemplo_tupla_02)\n",
        "print(exemplo_tupla_02[0])\n",
        "print(exemplo_tupla_02[0:2])\n",
        "print(exemplo_tupla_02[-1])"
      ],
      "metadata": {
        "colab": {
          "base_uri": "https://localhost:8080/"
        },
        "id": "H7l9b2jMnqEx",
        "outputId": "fe69be92-06ce-420b-84ac-ca926e35b889"
      },
      "execution_count": null,
      "outputs": [
        {
          "output_type": "stream",
          "name": "stdout",
          "text": [
            "('A', 'B', 'C', 'D')\n",
            "A\n",
            "('A', 'B')\n",
            "D\n"
          ]
        }
      ]
    },
    {
      "cell_type": "markdown",
      "source": [
        "Verficar se elemento está na tupla"
      ],
      "metadata": {
        "id": "H7GyqBvxoYRz"
      }
    },
    {
      "cell_type": "code",
      "source": [
        "print(\"A\" in exemplo_tupla_02)\n",
        "print(\"Z\" in exemplo_tupla_02)"
      ],
      "metadata": {
        "colab": {
          "base_uri": "https://localhost:8080/"
        },
        "id": "RFVX4qDNobLY",
        "outputId": "88e96187-125b-4901-9452-b355bdee0e04"
      },
      "execution_count": null,
      "outputs": [
        {
          "output_type": "stream",
          "name": "stdout",
          "text": [
            "True\n",
            "False\n"
          ]
        }
      ]
    },
    {
      "cell_type": "markdown",
      "source": [
        "Atualiando tuplas"
      ],
      "metadata": {
        "id": "ssFVnc37pjqU"
      }
    },
    {
      "cell_type": "code",
      "source": [
        "animais = tuple(('Iena', 'Cavalo', 'Cachorro', 'Coelho'))\n",
        "print(animais)\n",
        "animais_lista = list(animais)\n",
        "animais_lista.append('Elefante')\n",
        "print(animais_lista, type(animais_lista))\n",
        "animais = tuple(animais_lista)\n",
        "print(animais, type(animais))"
      ],
      "metadata": {
        "colab": {
          "base_uri": "https://localhost:8080/"
        },
        "id": "uyMAuMVQplUG",
        "outputId": "354cc53e-3271-48d8-f4e3-349de1c401cb"
      },
      "execution_count": null,
      "outputs": [
        {
          "output_type": "stream",
          "name": "stdout",
          "text": [
            "('Iena', 'Cavalo', 'Cachorro', 'Coelho')\n",
            "['Iena', 'Cavalo', 'Cachorro', 'Coelho', 'Elefante'] <class 'list'>\n",
            "('Iena', 'Cavalo', 'Cachorro', 'Coelho', 'Elefante') <class 'tuple'>\n"
          ]
        }
      ]
    },
    {
      "cell_type": "code",
      "source": [
        "animais = tuple(('Iena', 'Cavalo', 'Cachorro', 'Coelho'))\n",
        "print(animais)\n",
        "animais_lista = list(animais)\n",
        "animais_lista.remove('Iena')\n",
        "print(animais_lista, type(animais_lista))\n",
        "animais = tuple(animais_lista)\n",
        "print(animais, type(animais))"
      ],
      "metadata": {
        "colab": {
          "base_uri": "https://localhost:8080/"
        },
        "id": "kcDuor7VsH8v",
        "outputId": "afee7d86-f5bb-4d63-a8c6-04f32f621105"
      },
      "execution_count": null,
      "outputs": [
        {
          "output_type": "stream",
          "name": "stdout",
          "text": [
            "('Iena', 'Cavalo', 'Cachorro', 'Coelho')\n",
            "['Cavalo', 'Cachorro', 'Coelho'] <class 'list'>\n",
            "('Cavalo', 'Cachorro', 'Coelho') <class 'tuple'>\n"
          ]
        }
      ]
    },
    {
      "cell_type": "markdown",
      "source": [
        "Descompactando tuplas"
      ],
      "metadata": {
        "id": "z_l0V5JGtHeu"
      }
    },
    {
      "cell_type": "code",
      "source": [
        "fruits = (\"apple\", \"banana\", \"cherry\")\n",
        "\n",
        "(green, yellow, red) = fruits\n",
        "\n",
        "print(green)\n",
        "print(yellow)\n",
        "print(red)"
      ],
      "metadata": {
        "colab": {
          "base_uri": "https://localhost:8080/"
        },
        "id": "DoqmQCaFtJTS",
        "outputId": "2011c02b-d00f-42e2-95a3-0d8740e09158"
      },
      "execution_count": null,
      "outputs": [
        {
          "output_type": "stream",
          "name": "stdout",
          "text": [
            "apple\n",
            "banana\n",
            "cherry\n"
          ]
        }
      ]
    },
    {
      "cell_type": "markdown",
      "source": [
        "Usando * para descompactar uma tupla"
      ],
      "metadata": {
        "id": "BvUIyf8PtvK2"
      }
    },
    {
      "cell_type": "code",
      "source": [
        "animais_lista.append('Leão')\n",
        "animais_lista.append('Elefante')\n",
        "animais_lista.append('Camelo')\n",
        "animais_lista.append('Coruja')\n",
        "animais = tuple(animais_lista)\n",
        "print(animais)\n",
        "(animal_1, animal_2, *animal_3) = animais\n",
        "(*animal_4,) = animais #descompactando uma tupla em uma lista.\n",
        "print(animal_1)\n",
        "print(animal_2)\n",
        "print(animal_3)\n",
        "print(animal_4)"
      ],
      "metadata": {
        "colab": {
          "base_uri": "https://localhost:8080/"
        },
        "id": "F4SYaQ9YtykB",
        "outputId": "c3cb8214-3d60-4e25-d99d-6f195b603be3"
      },
      "execution_count": null,
      "outputs": [
        {
          "output_type": "stream",
          "name": "stdout",
          "text": [
            "('Cavalo', 'Cachorro', 'Coelho', 'Leão', 'Elefante', 'Camelo', 'Coruja')\n",
            "Cavalo\n",
            "Cachorro\n",
            "['Coelho', 'Leão', 'Elefante', 'Camelo', 'Coruja']\n",
            "['Cavalo', 'Cachorro', 'Coelho', 'Leão', 'Elefante', 'Camelo', 'Coruja']\n"
          ]
        }
      ]
    },
    {
      "cell_type": "markdown",
      "source": [
        "Loop em tuplas"
      ],
      "metadata": {
        "id": "1lV5-Vvaw0HZ"
      }
    },
    {
      "cell_type": "code",
      "source": [
        "for x in animais:\n",
        "  print(x)"
      ],
      "metadata": {
        "id": "buem9NEsw1p5"
      },
      "execution_count": null,
      "outputs": []
    },
    {
      "cell_type": "code",
      "source": [
        "for i in range(len(animais)):\n",
        "  print(animais[i])"
      ],
      "metadata": {
        "id": "_4mG7zwUxArf"
      },
      "execution_count": null,
      "outputs": []
    },
    {
      "cell_type": "code",
      "source": [
        "i = 0\n",
        "while i < len(animais):\n",
        "  print(animais[i])\n",
        "  i = i + 1"
      ],
      "metadata": {
        "id": "xrls-zcdyLHx"
      },
      "execution_count": null,
      "outputs": []
    },
    {
      "cell_type": "markdown",
      "source": [
        "Juntando tuplas"
      ],
      "metadata": {
        "id": "GR-vNU1g1Uxl"
      }
    },
    {
      "cell_type": "code",
      "source": [
        "t1 = tuple((1,3,4))\n",
        "t2 = tuple((5,6,7))\n",
        "t3 = t1 + t2\n",
        "print(t3, type(t3))"
      ],
      "metadata": {
        "colab": {
          "base_uri": "https://localhost:8080/"
        },
        "id": "v3yBmYP01V8o",
        "outputId": "6cae5c7a-3828-4d5f-a4a9-758d073f84e9"
      },
      "execution_count": null,
      "outputs": [
        {
          "output_type": "stream",
          "name": "stdout",
          "text": [
            "(1, 3, 4, 5, 6, 7) <class 'tuple'>\n"
          ]
        }
      ]
    },
    {
      "cell_type": "markdown",
      "source": [
        "Multiplicando tuplas"
      ],
      "metadata": {
        "id": "YAllPq-f2P63"
      }
    },
    {
      "cell_type": "code",
      "source": [
        "t1 = tuple((\"a\", \"b\",\"c\"))\n",
        "t2 = t1 * 2\n",
        "print(t2)"
      ],
      "metadata": {
        "id": "GB5AUrzs2Opd"
      },
      "execution_count": null,
      "outputs": []
    },
    {
      "cell_type": "markdown",
      "source": [
        "Método count"
      ],
      "metadata": {
        "id": "n2zeV7sa3BZL"
      }
    },
    {
      "cell_type": "code",
      "source": [
        "print(t2)\n",
        "print(t2.count('a')) #conta quantos elementos ocorrem na tupla"
      ],
      "metadata": {
        "id": "HdvKjsl23DB6"
      },
      "execution_count": null,
      "outputs": []
    },
    {
      "cell_type": "markdown",
      "source": [
        "Método index"
      ],
      "metadata": {
        "id": "YEyd-reU4Qja"
      }
    },
    {
      "cell_type": "code",
      "source": [
        "print(t2)\n",
        "print(t2.index('c'))  #enconta o índice do primeiro elemento igual ao argumento"
      ],
      "metadata": {
        "id": "wZU2AvRX4Sal"
      },
      "execution_count": null,
      "outputs": []
    }
  ]
}