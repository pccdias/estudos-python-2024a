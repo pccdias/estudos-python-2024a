{
  "nbformat": 4,
  "nbformat_minor": 0,
  "metadata": {
    "colab": {
      "provenance": []
    },
    "kernelspec": {
      "name": "python3",
      "display_name": "Python 3"
    },
    "language_info": {
      "name": "python"
    }
  },
  "cells": [
    {
      "cell_type": "markdown",
      "source": [
        "# **Lista 01**"
      ],
      "metadata": {
        "id": "B_UM2rDtpyEH"
      }
    },
    {
      "cell_type": "markdown",
      "source": [
        "Exercício 28"
      ],
      "metadata": {
        "id": "3mzis1yZL0zb"
      }
    },
    {
      "cell_type": "code",
      "source": [
        "b = \"Hello, World!\"\n",
        "print(b[2:5])\n",
        "print(b[2:])\n",
        "for x in b:\n",
        "  print(x)"
      ],
      "metadata": {
        "id": "z94_IcGLL0Pz"
      },
      "execution_count": null,
      "outputs": []
    },
    {
      "cell_type": "markdown",
      "source": [
        "Exercício 30"
      ],
      "metadata": {
        "id": "jNi3iPLLNOrP"
      }
    },
    {
      "cell_type": "code",
      "source": [
        "print(10 > 9)\n",
        "print(10 == 9)\n",
        "print(10 < 9)"
      ],
      "metadata": {
        "id": "_2tM5b_KNQPa"
      },
      "execution_count": null,
      "outputs": []
    },
    {
      "cell_type": "markdown",
      "source": [
        "Exercício 31"
      ],
      "metadata": {
        "id": "iIvtfxbZNTtP"
      }
    },
    {
      "cell_type": "code",
      "source": [
        "x = 5\n",
        "y = 2\n",
        "print(x % y)"
      ],
      "metadata": {
        "id": "OBekvFKCNVTI"
      },
      "execution_count": null,
      "outputs": []
    },
    {
      "cell_type": "markdown",
      "source": [
        "Exercício 35"
      ],
      "metadata": {
        "id": "M0OwmTlqNe9y"
      }
    },
    {
      "cell_type": "code",
      "source": [
        "n = int(input(\"Digite um número inteiro: \"))\n",
        "if n%2 == 0:\n",
        "  print('{:d} é múltiplo de 2'.format(n))\n",
        "if n%3 == 0:\n",
        "  print('{:d} é múltiplo de 3'.format(n))\n",
        "if n%4 == 0:\n",
        "  print('{:d} é múltiplo de 4'.format(n))\n",
        "if n%5 == 0:\n",
        "  print('{:d} é múltiplo de 5'.format(n))\n",
        "if n%6 == 0:\n",
        "  print('{:d} é múltiplo de 6'.format(n))\n",
        "if n%7 == 0:\n",
        "  print('{:d} é múltiplo de 7'.format(n))\n",
        "if n%8 == 0:\n",
        "  print('{:d} é múltiplo de 8'.format(n))\n",
        "if n%9 == 0:\n",
        "  print('{:d} é múltiplo de 9'.format(n))\n"
      ],
      "metadata": {
        "id": "4FpOCGMfNgY_"
      },
      "execution_count": null,
      "outputs": []
    },
    {
      "cell_type": "code",
      "source": [
        "n = int(input(\"Digite um número inteiro: \"))\n",
        "numeros = [2,3,4,5,6,7,8,9]\n",
        "for x in numeros:\n",
        "  if n%x == 0:\n",
        "    print('{:d} é múltiplo de {:d}'.format(n,x))"
      ],
      "metadata": {
        "id": "2EXjO96XO60y"
      },
      "execution_count": null,
      "outputs": []
    },
    {
      "cell_type": "code",
      "source": [
        "n = int(input(\"Digite um número inteiro: \"))\n",
        "numeros = [2,3,4,5,6,7,8,9]\n",
        "for x in range(2,10):\n",
        "  if n%x == 0:\n",
        "    print('{:d} é múltiplo de {:d}'.format(n,x))"
      ],
      "metadata": {
        "id": "KM_mn-GrPRgT"
      },
      "execution_count": null,
      "outputs": []
    },
    {
      "cell_type": "markdown",
      "source": [
        "Exercício 36"
      ],
      "metadata": {
        "id": "OEyRZdYYIznn"
      }
    },
    {
      "cell_type": "code",
      "source": [
        "print(\"Programa para resolver a equação do primeiro grau ax+b=0\")\n",
        "a = float(input(\"Digite o coeficiente a diferente e zero: \"))\n",
        "if a == 0 :\n",
        "  print(\"O coeficiente a deve ser diferente de zero. Tchau!\")\n",
        "else:\n",
        "  b = float(input(\"Digite o coeficiente b: \"))\n",
        "  x = -b/a\n",
        "  print('\\nA raiz da equação {:.2f}x+{:.2f} = 0 é x = {:.2f}'.format(a,b,x))\n",
        "\n",
        "\n"
      ],
      "metadata": {
        "id": "0yZRiJRtI1I0"
      },
      "execution_count": null,
      "outputs": []
    },
    {
      "cell_type": "markdown",
      "source": [
        "Exercício 37"
      ],
      "metadata": {
        "id": "E4tg5DR6RS63"
      }
    },
    {
      "cell_type": "code",
      "source": [
        "print(\"Cálculo do Índice de Massa Corporal - imc\")\n",
        "peso = float(input(\"Digite o peso em kg: \"))\n",
        "altura = float(input(\"Digite a altura em m: \"))\n",
        "imc = peso/(altura*altura)\n",
        "if imc <= 18.5:\n",
        "  print('imc = {:.2f} -> magro com risco normal ou elevado de doença'.format(imc))\n",
        "elif imc >18.5 and imc < 24.9 :\n",
        "  print('imc = {:.2f} -> normal (eutrófico) com risco pouco elevado de doença'.format(imc))\n",
        "elif 24.9 < imc <= 29.9 :\n",
        "  print('imc = {:.2f} -> sobrepeso com risco normal de doença'.format(imc))"
      ],
      "metadata": {
        "id": "BkhmZkAgRUR7"
      },
      "execution_count": null,
      "outputs": []
    },
    {
      "cell_type": "markdown",
      "source": [
        "Exercício 38"
      ],
      "metadata": {
        "id": "l0-Rvu_sq9H2"
      }
    },
    {
      "cell_type": "code",
      "source": [
        "for num in range(2,11):\n",
        "  for i in range(1,11):\n",
        "    print('{} x {} = {}'.format(num,i, num * i))\n",
        "  print(\"\\n\")"
      ],
      "metadata": {
        "id": "GFp9PJIgrAZ3"
      },
      "execution_count": null,
      "outputs": []
    },
    {
      "cell_type": "markdown",
      "source": [
        "Exercício 39"
      ],
      "metadata": {
        "id": "SarvbVgapfbt"
      }
    },
    {
      "cell_type": "code",
      "source": [
        "for i in range(5,0,-1):\n",
        "  print(str(i) * i)"
      ],
      "metadata": {
        "id": "0m38WvUvpe3C"
      },
      "execution_count": null,
      "outputs": []
    },
    {
      "cell_type": "code",
      "execution_count": null,
      "metadata": {
        "id": "btpcIvaLpa12"
      },
      "outputs": [],
      "source": [
        "for i in range(5):\n",
        "  print(str(i) * i)"
      ]
    },
    {
      "cell_type": "code",
      "source": [
        "for i in range(1,5):\n",
        "  print(str(i) * i)"
      ],
      "metadata": {
        "id": "25TQgpsxqwYs"
      },
      "execution_count": null,
      "outputs": []
    },
    {
      "cell_type": "markdown",
      "source": [
        "Exercício 40"
      ],
      "metadata": {
        "id": "zrab3et3wQvp"
      }
    },
    {
      "cell_type": "code",
      "source": [
        "fib = []\n",
        "n = int(input(\"\\nQuantos números da seq de Fibonacci? :\"))\n",
        "if n == 0:\n",
        "  print(\"\\nNão há números para se imprimir!\")\n",
        "if n == 1:\n",
        "  fib.append(1)\n",
        "  print(fib)\n",
        "if n==2:\n",
        "  fib = [1,1]\n",
        "  print(fib)\n",
        "if n>=2:\n",
        "  fib = [1,1]\n",
        "  for i in range(2,n):\n",
        "    fib.append(fib[i-1]+fib[i-2])\n",
        "    print(fib)\n",
        "\n"
      ],
      "metadata": {
        "id": "qrRgSLgFwSfw"
      },
      "execution_count": null,
      "outputs": []
    },
    {
      "cell_type": "code",
      "source": [
        "#solução sem usar lista\n",
        "n = int(input(\"\\nQuantos números da seq de Fibonacci? :\"))\n",
        "if n == 0:\n",
        "  print(\"\\nNão há números para se imprimir!\")\n",
        "if n == 1:\n",
        "  print(\"1\")\n",
        "if n==2:\n",
        "  #print(\"1\\n1\")\n",
        "  print(\"1\")\n",
        "  print(\"1\")\n",
        "if n>2:\n",
        "  a = 1\n",
        "  b = 1\n",
        "  print(\"1\\n1\")\n",
        "  for i in range(n-2):\n",
        "    c = a + b\n",
        "    print(c)\n",
        "    a = b\n",
        "    b = c"
      ],
      "metadata": {
        "id": "FEf9Xys-BL9U"
      },
      "execution_count": null,
      "outputs": []
    },
    {
      "cell_type": "markdown",
      "source": [
        "Exercício 45"
      ],
      "metadata": {
        "id": "1GldEqBfToVS"
      }
    },
    {
      "cell_type": "code",
      "source": [
        "for i in range(0,101):\n",
        "  if not(i%3==0 or i%5==0):\n",
        "    print(i)\n"
      ],
      "metadata": {
        "id": "qxYyNic0TqpW"
      },
      "execution_count": null,
      "outputs": []
    },
    {
      "cell_type": "markdown",
      "source": [
        "Exercício 46"
      ],
      "metadata": {
        "id": "wI1deC1uIPNl"
      }
    },
    {
      "cell_type": "code",
      "source": [
        "special_chars = ['!', '@', '#', '$', '%', '^', '&', '*']\n",
        "word_list = ['se#$et', 'Ver*%&$lo', 'di$#^$nt', 'c*%e', 'is', '#%$#@!@#$%^$#']\n",
        "x = \"!\"\n",
        "print(x in special_chars)"
      ],
      "metadata": {
        "id": "koMquk4AISkS"
      },
      "execution_count": null,
      "outputs": []
    },
    {
      "cell_type": "markdown",
      "source": [
        "47) Escreva um programa que obtenha o menor número de uma lista."
      ],
      "metadata": {
        "id": "nbFRnHgE1Ebs"
      }
    },
    {
      "cell_type": "code",
      "source": [
        "a = [3,15,6]\n",
        "print(min(a))"
      ],
      "metadata": {
        "colab": {
          "base_uri": "https://localhost:8080/"
        },
        "id": "WIEYJePz1Fs6",
        "outputId": "78da9191-1f04-4ee1-b981-3914ece66c1f"
      },
      "execution_count": 20,
      "outputs": [
        {
          "output_type": "stream",
          "name": "stdout",
          "text": [
            "3\n"
          ]
        }
      ]
    },
    {
      "cell_type": "code",
      "source": [
        "a = [13,15,6,30,6,1, 8, 1]\n",
        "min = a[0]\n",
        "for x in a:\n",
        "  if x < min:\n",
        "    min = x\n",
        "  print(\"min: \", min, \"x: \",x)\n",
        "print(min)"
      ],
      "metadata": {
        "colab": {
          "base_uri": "https://localhost:8080/"
        },
        "id": "FZKDpZZc1U0K",
        "outputId": "b1928a79-d49d-4e9a-fd66-10fa150d4e2f"
      },
      "execution_count": 26,
      "outputs": [
        {
          "output_type": "stream",
          "name": "stdout",
          "text": [
            "min:  13 x:  13\n",
            "min:  13 x:  15\n",
            "min:  6 x:  6\n",
            "min:  6 x:  30\n",
            "min:  6 x:  6\n",
            "min:  1 x:  1\n",
            "min:  1 x:  8\n",
            "min:  1 x:  1\n",
            "1\n"
          ]
        }
      ]
    },
    {
      "cell_type": "markdown",
      "source": [
        "48) Escreva um programa que some os valores numéricos de uma lista."
      ],
      "metadata": {
        "id": "liUPaMiO0s-b"
      }
    },
    {
      "cell_type": "code",
      "source": [
        "m = 0\n",
        "a = [3,5,6]\n",
        "\n",
        "for x in a:\n",
        "  m = m + x\n",
        "  print(m)\n",
        "print(m)"
      ],
      "metadata": {
        "id": "wr3-lYAe0xXY"
      },
      "execution_count": null,
      "outputs": []
    },
    {
      "cell_type": "code",
      "source": [
        "a = [3,5,6]\n",
        "print(sum(a))"
      ],
      "metadata": {
        "colab": {
          "base_uri": "https://localhost:8080/"
        },
        "id": "p1PenwWZ04Cs",
        "outputId": "31520c8e-33ee-40f2-ba30-d68b2a53ec46"
      },
      "execution_count": 16,
      "outputs": [
        {
          "output_type": "stream",
          "name": "stdout",
          "text": [
            "14\n"
          ]
        }
      ]
    },
    {
      "cell_type": "markdown",
      "source": [
        "Exercício 49\n",
        "Escreva um programa que multiplique os valores de uma lista."
      ],
      "metadata": {
        "id": "PPGMTS6qyXD8"
      }
    },
    {
      "cell_type": "code",
      "source": [
        "m = 1\n",
        "a = [3,5,6]\n",
        "\n",
        "for x in a:\n",
        "  m = m*x\n",
        "  print(m)\n",
        "print(m)\n"
      ],
      "metadata": {
        "colab": {
          "base_uri": "https://localhost:8080/"
        },
        "id": "tr-BCWeHyYn5",
        "outputId": "50c38b2d-a0f3-4153-8311-d991075b1e92"
      },
      "execution_count": 17,
      "outputs": [
        {
          "output_type": "stream",
          "name": "stdout",
          "text": [
            "3\n",
            "15\n",
            "90\n",
            "90\n"
          ]
        }
      ]
    },
    {
      "cell_type": "markdown",
      "source": [
        "Exercício 50"
      ],
      "metadata": {
        "id": "ljt3j0_7p754"
      }
    },
    {
      "cell_type": "code",
      "source": [
        "a = [10, 3, 4, 5, 5, 10, 3, 5, 6, 6, 1, 1]\n",
        "b = set(a)\n",
        "c = list(set(a))\n",
        "print(b)\n",
        "print(c)"
      ],
      "metadata": {
        "colab": {
          "base_uri": "https://localhost:8080/"
        },
        "id": "_1lf2TBYp-Ul",
        "outputId": "87e6dd7e-3e08-4118-9618-5115a195ae50"
      },
      "execution_count": 5,
      "outputs": [
        {
          "output_type": "stream",
          "name": "stdout",
          "text": [
            "{1, 3, 4, 5, 6, 10}\n",
            "[1, 3, 4, 5, 6, 10]\n"
          ]
        }
      ]
    },
    {
      "cell_type": "code",
      "source": [
        "# Dada a lista\n",
        "a = [10, 3, 4, 5, 5, 10, 3, 5, 6, 6, 1, 1]\n",
        "\n",
        "# Crie um conjunto para armazenar os elementos únicos\n",
        "elementos_unicos = set()\n",
        "\n",
        "# Itere sobre a lista e adicione cada elemento ao conjunto\n",
        "for elem in a:\n",
        "    elementos_unicos.add(elem)\n",
        "\n",
        "# Converta o conjunto de volta para uma lista\n",
        "lista_resultante = list(elementos_unicos)\n",
        "\n",
        "# Imprima o resultado\n",
        "print(\"Lista sem duplicatas:\", lista_resultante)"
      ],
      "metadata": {
        "id": "YV-YXP6rslQr"
      },
      "execution_count": null,
      "outputs": []
    },
    {
      "cell_type": "code",
      "source": [
        "# Dada a lista\n",
        "#a = [10, 3, 4, 5, 5, 10, 3, 5, 6, 6, 1, 1]\n",
        "a = [\"Maria\", \"João\", \"Carlos\", \"José\", \"Maria\", \"Carlos\"]\n",
        "\n",
        "# Crie uma lista vazia para armazenar os elementos únicos\n",
        "elementos_unicos = []\n",
        "\n",
        "# Itere sobre a lista\n",
        "for elem in a:\n",
        "    # Se o elemento ainda não estiver na lista de elementos únicos, adicione-o\n",
        "    if elem not in elementos_unicos:\n",
        "        elementos_unicos.append(elem)\n",
        "\n",
        "# Imprima o resultado\n",
        "print(\"Lista sem duplicatas:\", elementos_unicos)"
      ],
      "metadata": {
        "colab": {
          "base_uri": "https://localhost:8080/"
        },
        "id": "STJW3YcSs0Nd",
        "outputId": "779dec4d-68f9-47ef-ae4a-3cff5a18b61a"
      },
      "execution_count": 7,
      "outputs": [
        {
          "output_type": "stream",
          "name": "stdout",
          "text": [
            "Lista sem duplicatas: ['Maria', 'João', 'Carlos', 'José']\n"
          ]
        }
      ]
    },
    {
      "cell_type": "markdown",
      "source": [
        "51) Escreva um programa que receba um lista de palavras e remova as palavras maiores que n caracteres, onde n deverá ser informado pelo usuário."
      ],
      "metadata": {
        "id": "8iF1i53150VQ"
      }
    },
    {
      "cell_type": "code",
      "source": [
        "a = ['Maria', 'João', 'Carlos', 'José', \"Lú\", \"Bia\"]\n",
        "n = 4\n",
        "b = []\n",
        "for x in a:\n",
        "  if len(x) <= n:\n",
        "    b.append(x)\n",
        "print(b)"
      ],
      "metadata": {
        "colab": {
          "base_uri": "https://localhost:8080/"
        },
        "id": "Sm8ieFfm51zw",
        "outputId": "f6a1a2db-9dc1-4dae-b231-e2468be5ca20"
      },
      "execution_count": 40,
      "outputs": [
        {
          "output_type": "stream",
          "name": "stdout",
          "text": [
            "['João', 'José', 'Lú', 'Bia']\n"
          ]
        }
      ]
    },
    {
      "cell_type": "markdown",
      "source": [
        "Exercício 54"
      ],
      "metadata": {
        "id": "HCIOyub2Ul1Y"
      }
    },
    {
      "cell_type": "markdown",
      "source": [
        "Faça um contator entre 3 e 10 usando o comando While\n"
      ],
      "metadata": {
        "id": "NT2tKNxKUqs4"
      }
    },
    {
      "cell_type": "code",
      "source": [],
      "metadata": {
        "id": "SPRhvNOqVOUI"
      },
      "execution_count": null,
      "outputs": []
    },
    {
      "cell_type": "code",
      "source": [
        "i = 3\n",
        "while i<=10:\n",
        "  print(i)\n",
        "  #i = i + 1\n",
        "  i+=1"
      ],
      "metadata": {
        "id": "7Wd4WpVwUn1r"
      },
      "execution_count": null,
      "outputs": []
    },
    {
      "cell_type": "markdown",
      "source": [
        "57) Faça um contator entre 0 e 30 que não apresente os múltiplos de 3."
      ],
      "metadata": {
        "id": "0gJJc1Ks4AC1"
      }
    },
    {
      "cell_type": "code",
      "source": [
        "h = 0\n",
        "while h < 31:\n",
        "  if not(h%3==0):\n",
        "    print(h)\n",
        "  h +=1\n",
        ""
      ],
      "metadata": {
        "id": "usT8s4fB4DPQ"
      },
      "execution_count": null,
      "outputs": []
    },
    {
      "cell_type": "code",
      "source": [
        "# usando for\n",
        "for h in range(31):\n",
        "  if not(h%3==0):\n",
        "    print(h)"
      ],
      "metadata": {
        "id": "aUkLpqKb5gEp"
      },
      "execution_count": null,
      "outputs": []
    },
    {
      "cell_type": "markdown",
      "source": [
        "59) Escreva um programa que contenha duas funções: uma que receba o valor de Celsius e converta para Fahrenheit e outra que faça o inverso."
      ],
      "metadata": {
        "id": "e7XU_niN6zCr"
      }
    },
    {
      "cell_type": "code",
      "source": [
        "def Celsius_para_Fahrenheit(tc):\n",
        "  tf = (1.8*tc + 32.0)\n",
        "  return tf\n",
        "\n",
        "def Fahrenheit_para_Celsius(tf):\n",
        "  return ((tf-32.0)/1.8)\n",
        "\n",
        "print(Celsius_para_Fahrenheit(100))\n",
        "print(Fahrenheit_para_Celsius(212))"
      ],
      "metadata": {
        "id": "YEGLnhSh60Dy"
      },
      "execution_count": null,
      "outputs": []
    },
    {
      "cell_type": "code",
      "source": [
        "def input_argumentos():\n",
        "  a = float(input(\"Entre a: \"))\n",
        "  b = float(input(\"Entre b: \"))\n",
        "  return [a,b]\n",
        "\n",
        "lista = []\n",
        "lista = input_argumentos()\n",
        "print(lista)"
      ],
      "metadata": {
        "colab": {
          "base_uri": "https://localhost:8080/"
        },
        "id": "yMVibZJ28KMj",
        "outputId": "bf3c45b4-92a3-4488-ea91-bfca52d4200f"
      },
      "execution_count": 44,
      "outputs": [
        {
          "output_type": "stream",
          "name": "stdout",
          "text": [
            "Entre a: 3\n",
            "Entre b: 5\n",
            "[3.0, 5.0]\n"
          ]
        }
      ]
    }
  ]
}