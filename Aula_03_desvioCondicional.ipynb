{
  "nbformat": 4,
  "nbformat_minor": 0,
  "metadata": {
    "colab": {
      "provenance": []
    },
    "kernelspec": {
      "name": "python3",
      "display_name": "Python 3"
    },
    "language_info": {
      "name": "python"
    }
  },
  "cells": [
    {
      "cell_type": "markdown",
      "source": [
        "# **Operadores de comparação**"
      ],
      "metadata": {
        "id": "KWdIrQfQZTH0"
      }
    },
    {
      "cell_type": "code",
      "execution_count": null,
      "metadata": {
        "id": "-RZNqgxPZMPE"
      },
      "outputs": [],
      "source": [
        "#comparação de igualdade ==\n",
        "x = 4\n",
        "y = 4\n",
        "print(x==y)"
      ]
    },
    {
      "cell_type": "code",
      "source": [
        "#comparação de igualdade ==\n",
        "x = 5\n",
        "y = 4\n",
        "print(x==y)"
      ],
      "metadata": {
        "id": "lLZ2Uw9wctB4"
      },
      "execution_count": null,
      "outputs": []
    },
    {
      "cell_type": "code",
      "source": [
        "#comparação de desigualdade !=\n",
        "x = 4\n",
        "y = 4\n",
        "print(x!=y)"
      ],
      "metadata": {
        "id": "alcCZ_oUc93J"
      },
      "execution_count": null,
      "outputs": []
    },
    {
      "cell_type": "code",
      "source": [
        "#comparação de desigualdade !=\n",
        "x = 5\n",
        "y = 4\n",
        "print(x!=y)"
      ],
      "metadata": {
        "id": "A3t9qrXtdeXx"
      },
      "execution_count": null,
      "outputs": []
    },
    {
      "cell_type": "code",
      "source": [
        "#comparação de desigualdade >\n",
        "x = 4\n",
        "y = 4\n",
        "print(x>y)"
      ],
      "metadata": {
        "id": "rzK1cESgdqkO"
      },
      "execution_count": null,
      "outputs": []
    },
    {
      "cell_type": "code",
      "source": [
        "#comparação de desigualdade > e <\n",
        "x = 5\n",
        "y = 4\n",
        "print(x>y)\n",
        "print(x<y)"
      ],
      "metadata": {
        "id": "6PTQihCDdzmn"
      },
      "execution_count": null,
      "outputs": []
    },
    {
      "cell_type": "code",
      "source": [
        "#comparação de desigualdade > e <\n",
        "x = 5\n",
        "y = 5\n",
        "print(x>=y)\n",
        "print(x<=y)"
      ],
      "metadata": {
        "id": "GYKV7owUd-qf"
      },
      "execution_count": null,
      "outputs": []
    },
    {
      "cell_type": "markdown",
      "source": [
        "# **if else**"
      ],
      "metadata": {
        "id": "tSygM8PuvxOs"
      }
    },
    {
      "cell_type": "code",
      "source": [
        "a = 40\n",
        "b = 10\n",
        "if a >= b:\n",
        "  print(\"a é maior ou igual a b\")\n",
        "  print(\"outra mensagem do primeiro bloco\")\n",
        "else:\n",
        "  print(\"a é menor que b\")\n",
        "  print(\"outra mensagem do segundo bloco\")"
      ],
      "metadata": {
        "colab": {
          "base_uri": "https://localhost:8080/"
        },
        "id": "2ymwtJUuvzyB",
        "outputId": "48e4f9c8-09d5-4463-ac06-8ffdac73148a"
      },
      "execution_count": null,
      "outputs": [
        {
          "output_type": "stream",
          "name": "stdout",
          "text": [
            "a é maior ou igual a b\n",
            "outra mensagem do primeiro bloco\n"
          ]
        }
      ]
    },
    {
      "cell_type": "markdown",
      "source": [
        "**Exemplo: cálculo da equação do 2o grau**"
      ],
      "metadata": {
        "id": "bp_2hI3px1gm"
      }
    },
    {
      "cell_type": "code",
      "source": [
        "import math\n",
        "a = float(input(\"Digite o coeficiente a: \"))\n",
        "if a != 0: #verifica se a é diferente de zero\n",
        "  b = float(input(\"Digite o coeficiente b: \"))\n",
        "  c = float(input(\"Digite o coeficiente c: \"))\n",
        "  #calculo do delta\n",
        "  delta = b**2 - 4*a*c\n",
        "  print('O valor de delta é {:.2f}'.format(delta))\n",
        "  #se delta for negativo\n",
        "  if delta < 0:\n",
        "    print(\"Delta negativo: não há raiz real!\")\n",
        "  #se delta igual a zero\n",
        "  if delta == 0:\n",
        "    x1 = -b/2*a\n",
        "    print('A raíz é igual a {:.2f}'.format(x1))\n",
        "  #se delta for positivo\n",
        "  if delta >0:\n",
        "    x1 = (-b - math.sqrt(delta))/(2*a) #calculo da primeira raiz\n",
        "    x2 = (-b + math.sqrt(delta))/(2*a) #calculo da segunda raiz\n",
        "    print('As raízes são: x1 = {:.2f} e x2 = {:.2f} '.format(x1,x2))\n",
        "else:\n",
        "  print(\"O valor de a deve ser diferente de zero! Fim do programa...\")"
      ],
      "metadata": {
        "colab": {
          "base_uri": "https://localhost:8080/"
        },
        "id": "14-7BtwAx1HJ",
        "outputId": "1d875a48-8b78-4da6-901a-ee444d9a9d32"
      },
      "execution_count": null,
      "outputs": [
        {
          "output_type": "stream",
          "name": "stdout",
          "text": [
            "Digite o coeficiente a: 1\n",
            "Digite o coeficiente b: -8\n",
            "Digite o coeficiente c: 16\n",
            "O valor de delta é 0.00\n",
            "A raíz é igual a 4.00\n"
          ]
        }
      ]
    },
    {
      "cell_type": "markdown",
      "source": [
        "# **Calculo do Índice de Massa Corporal**"
      ],
      "metadata": {
        "id": "_05AKoy1-xsg"
      }
    },
    {
      "cell_type": "code",
      "source": [
        "peso = float(input(\"Entre o peso da pessoa em kg: \"))\n",
        "altura = float(input(\"Entre a altura da pessoa em m: \"))\n",
        "IMC = peso/altura**2\n",
        "print('IMC = {:.2f} para um peso de {:.2f}kg e altura de {:.2f}m'.format(IMC, peso, altura))\n",
        "\n",
        "#classificando o IMC\n",
        "if IMC < 16.9:\n",
        "  print(\"Classificação: muito abaixo do peso.\")\n",
        "if IMC>=16.9 and IMC<=18.4:\n",
        "  print(\"Classificação: abaixo do peso.\")\n",
        "if IMC>18.4 and IMC<=24.9:\n",
        "  print(\"Classificação: peso normal.\")\n",
        "if IMC>24.9 and IMC<=29.9:\n",
        "  print(\"Classificação: acima do peso.\")\n",
        "if IMC>29.9:\n",
        "  print(\"Classificação: obesidade.\")\n"
      ],
      "metadata": {
        "id": "GtyVeYHn-3n2"
      },
      "execution_count": null,
      "outputs": []
    },
    {
      "cell_type": "code",
      "source": [
        "peso = float(input(\"Entre o peso da pessoa em kg: \"))\n",
        "altura = float(input(\"Entre a altura da pessoa em m: \"))\n",
        "IMC = peso/altura**2\n",
        "print('IMC = {:.2f} para um peso de {:.2f}kg e altura de {:.2f}m'.format(IMC, peso, altura))\n",
        "\n",
        "#classificando o IMC\n",
        "if IMC < 16.9:\n",
        "  print(\"Classificação: muito abaixo do peso.\")\n",
        "if 16.9 <= IMC <= 18.4:\n",
        "  print(\"Classificação: abaixo do peso.\")\n",
        "if 18.4 < IMC <= 24.9:\n",
        "  print(\"Classificação: peso normal.\")\n",
        "if 24.9 < IMC <= 29.9:\n",
        "  print(\"Classificação: acima do peso.\")\n",
        "if IMC>29.9:\n",
        "  print(\"Classificação: obesidade.\")"
      ],
      "metadata": {
        "colab": {
          "base_uri": "https://localhost:8080/"
        },
        "id": "MvnlWXgjEJkH",
        "outputId": "6dc2fc8f-c84d-4f26-e2be-43ba5addc168"
      },
      "execution_count": null,
      "outputs": [
        {
          "output_type": "stream",
          "name": "stdout",
          "text": [
            "Entre o peso da pessoa em kg: 40\n",
            "Entre a altura da pessoa em m: 1.79\n",
            "IMC = 12.48 para um peso de 40.00kg e altura de 1.79m\n",
            "Classificação: muito abaixo do peso.\n"
          ]
        }
      ]
    },
    {
      "cell_type": "code",
      "source": [
        "peso = float(input(\"Entre o peso da pessoa em kg: \"))\n",
        "altura = float(input(\"Entre a altura da pessoa em m: \"))\n",
        "IMC = peso/altura**2\n",
        "print('IMC = {:.2f} para um peso de {:.2f}kg e altura de {:.2f}m'.format(IMC, peso, altura))\n",
        "\n",
        "#classificando o IMC\n",
        "if IMC < 16.9:\n",
        "  print(\"Classificação: muito abaixo do peso.\")\n",
        "elif 16.9 <= IMC <= 18.4:\n",
        "  print(\"Classificação: abaixo do peso.\")\n",
        "elif 18.4 < IMC <= 24.9:\n",
        "  print(\"Classificação: peso normal.\")\n",
        "elif 24.9 < IMC <= 29.9:\n",
        "  print(\"Classificação: acima do peso.\")\n",
        "elif IMC>29.9:\n",
        "  print(\"Classificação: obesidade.\")"
      ],
      "metadata": {
        "colab": {
          "base_uri": "https://localhost:8080/",
          "height": 391
        },
        "id": "brVM2bdEFOIl",
        "outputId": "7baf82dc-943b-47d5-a296-be4f8a38fdf5"
      },
      "execution_count": null,
      "outputs": [
        {
          "output_type": "error",
          "ename": "KeyboardInterrupt",
          "evalue": "Interrupted by user",
          "traceback": [
            "\u001b[0;31m---------------------------------------------------------------------------\u001b[0m",
            "\u001b[0;31mKeyboardInterrupt\u001b[0m                         Traceback (most recent call last)",
            "\u001b[0;32m<ipython-input-28-b325b25c7bdc>\u001b[0m in \u001b[0;36m<cell line: 1>\u001b[0;34m()\u001b[0m\n\u001b[0;32m----> 1\u001b[0;31m \u001b[0mpeso\u001b[0m \u001b[0;34m=\u001b[0m \u001b[0mfloat\u001b[0m\u001b[0;34m(\u001b[0m\u001b[0minput\u001b[0m\u001b[0;34m(\u001b[0m\u001b[0;34m\"Entre o peso da pessoa em kg: \"\u001b[0m\u001b[0;34m)\u001b[0m\u001b[0;34m)\u001b[0m\u001b[0;34m\u001b[0m\u001b[0;34m\u001b[0m\u001b[0m\n\u001b[0m\u001b[1;32m      2\u001b[0m \u001b[0maltura\u001b[0m \u001b[0;34m=\u001b[0m \u001b[0mfloat\u001b[0m\u001b[0;34m(\u001b[0m\u001b[0minput\u001b[0m\u001b[0;34m(\u001b[0m\u001b[0;34m\"Entre a altura da pessoa em m: \"\u001b[0m\u001b[0;34m)\u001b[0m\u001b[0;34m)\u001b[0m\u001b[0;34m\u001b[0m\u001b[0;34m\u001b[0m\u001b[0m\n\u001b[1;32m      3\u001b[0m \u001b[0mIMC\u001b[0m \u001b[0;34m=\u001b[0m \u001b[0mpeso\u001b[0m\u001b[0;34m/\u001b[0m\u001b[0maltura\u001b[0m\u001b[0;34m**\u001b[0m\u001b[0;36m2\u001b[0m\u001b[0;34m\u001b[0m\u001b[0;34m\u001b[0m\u001b[0m\n\u001b[1;32m      4\u001b[0m \u001b[0mprint\u001b[0m\u001b[0;34m(\u001b[0m\u001b[0;34m'IMC = {:.2f} para um peso de {:.2f}kg e altura de {:.2f}m'\u001b[0m\u001b[0;34m.\u001b[0m\u001b[0mformat\u001b[0m\u001b[0;34m(\u001b[0m\u001b[0mIMC\u001b[0m\u001b[0;34m,\u001b[0m \u001b[0mpeso\u001b[0m\u001b[0;34m,\u001b[0m \u001b[0maltura\u001b[0m\u001b[0;34m)\u001b[0m\u001b[0;34m)\u001b[0m\u001b[0;34m\u001b[0m\u001b[0;34m\u001b[0m\u001b[0m\n\u001b[1;32m      5\u001b[0m \u001b[0;34m\u001b[0m\u001b[0m\n",
            "\u001b[0;32m/usr/local/lib/python3.10/dist-packages/ipykernel/kernelbase.py\u001b[0m in \u001b[0;36mraw_input\u001b[0;34m(self, prompt)\u001b[0m\n\u001b[1;32m    849\u001b[0m                 \u001b[0;34m\"raw_input was called, but this frontend does not support input requests.\"\u001b[0m\u001b[0;34m\u001b[0m\u001b[0;34m\u001b[0m\u001b[0m\n\u001b[1;32m    850\u001b[0m             )\n\u001b[0;32m--> 851\u001b[0;31m         return self._input_request(str(prompt),\n\u001b[0m\u001b[1;32m    852\u001b[0m             \u001b[0mself\u001b[0m\u001b[0;34m.\u001b[0m\u001b[0m_parent_ident\u001b[0m\u001b[0;34m,\u001b[0m\u001b[0;34m\u001b[0m\u001b[0;34m\u001b[0m\u001b[0m\n\u001b[1;32m    853\u001b[0m             \u001b[0mself\u001b[0m\u001b[0;34m.\u001b[0m\u001b[0m_parent_header\u001b[0m\u001b[0;34m,\u001b[0m\u001b[0;34m\u001b[0m\u001b[0;34m\u001b[0m\u001b[0m\n",
            "\u001b[0;32m/usr/local/lib/python3.10/dist-packages/ipykernel/kernelbase.py\u001b[0m in \u001b[0;36m_input_request\u001b[0;34m(self, prompt, ident, parent, password)\u001b[0m\n\u001b[1;32m    893\u001b[0m             \u001b[0;32mexcept\u001b[0m \u001b[0mKeyboardInterrupt\u001b[0m\u001b[0;34m:\u001b[0m\u001b[0;34m\u001b[0m\u001b[0;34m\u001b[0m\u001b[0m\n\u001b[1;32m    894\u001b[0m                 \u001b[0;31m# re-raise KeyboardInterrupt, to truncate traceback\u001b[0m\u001b[0;34m\u001b[0m\u001b[0;34m\u001b[0m\u001b[0m\n\u001b[0;32m--> 895\u001b[0;31m                 \u001b[0;32mraise\u001b[0m \u001b[0mKeyboardInterrupt\u001b[0m\u001b[0;34m(\u001b[0m\u001b[0;34m\"Interrupted by user\"\u001b[0m\u001b[0;34m)\u001b[0m \u001b[0;32mfrom\u001b[0m \u001b[0;32mNone\u001b[0m\u001b[0;34m\u001b[0m\u001b[0;34m\u001b[0m\u001b[0m\n\u001b[0m\u001b[1;32m    896\u001b[0m             \u001b[0;32mexcept\u001b[0m \u001b[0mException\u001b[0m \u001b[0;32mas\u001b[0m \u001b[0me\u001b[0m\u001b[0;34m:\u001b[0m\u001b[0;34m\u001b[0m\u001b[0;34m\u001b[0m\u001b[0m\n\u001b[1;32m    897\u001b[0m                 \u001b[0mself\u001b[0m\u001b[0;34m.\u001b[0m\u001b[0mlog\u001b[0m\u001b[0;34m.\u001b[0m\u001b[0mwarning\u001b[0m\u001b[0;34m(\u001b[0m\u001b[0;34m\"Invalid Message:\"\u001b[0m\u001b[0;34m,\u001b[0m \u001b[0mexc_info\u001b[0m\u001b[0;34m=\u001b[0m\u001b[0;32mTrue\u001b[0m\u001b[0;34m)\u001b[0m\u001b[0;34m\u001b[0m\u001b[0;34m\u001b[0m\u001b[0m\n",
            "\u001b[0;31mKeyboardInterrupt\u001b[0m: Interrupted by user"
          ]
        }
      ]
    },
    {
      "cell_type": "code",
      "source": [
        "a = 1\n",
        "if 3 <= a <= 10:\n",
        "  print('dentro da margem')\n",
        "else:\n",
        "  print('fora da margem')"
      ],
      "metadata": {
        "colab": {
          "base_uri": "https://localhost:8080/"
        },
        "id": "-2vVMnfA-TTB",
        "outputId": "5b5e65f9-28cb-4e38-ae29-f6169c7580e8"
      },
      "execution_count": null,
      "outputs": [
        {
          "output_type": "stream",
          "name": "stdout",
          "text": [
            "fora da margem\n"
          ]
        }
      ]
    }
  ]
}