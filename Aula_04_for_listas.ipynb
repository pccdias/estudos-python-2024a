{
  "nbformat": 4,
  "nbformat_minor": 0,
  "metadata": {
    "colab": {
      "provenance": []
    },
    "kernelspec": {
      "name": "python3",
      "display_name": "Python 3"
    },
    "language_info": {
      "name": "python"
    }
  },
  "cells": [
    {
      "cell_type": "markdown",
      "source": [
        "# **Correção da Lista da aula 03**"
      ],
      "metadata": {
        "id": "Kgp8C7Dic6I2"
      }
    },
    {
      "cell_type": "markdown",
      "source": [
        "Exercício 01"
      ],
      "metadata": {
        "id": "w3XC0yiTdDeJ"
      }
    },
    {
      "cell_type": "code",
      "execution_count": null,
      "metadata": {
        "id": "f6TP1RFlcJ0u",
        "colab": {
          "base_uri": "https://localhost:8080/"
        },
        "outputId": "5cfe5398-9495-4978-c0cc-881609b111e4"
      },
      "outputs": [
        {
          "output_type": "stream",
          "name": "stdout",
          "text": [
            "Digite a nota da prova 1 (entre 0 e 10): 1\n",
            "Digite a nota da prova 2 (entre 0 e 10): 1\n",
            "Digite a frequência em % (entre 0 e 100): 1\n",
            "\n",
            "Reprovado por média inferior a 4.0.\n",
            "\n",
            "Reprovado por frequencia inferior a 75%.\n"
          ]
        }
      ],
      "source": [
        "p1 = float(input(\"Digite a nota da prova 1 (entre 0 e 10): \"))\n",
        "p2 = float(input(\"Digite a nota da prova 2 (entre 0 e 10): \"))\n",
        "freq = float(input(\"Digite a frequência em % (entre 0 e 100): \"))\n",
        "med = (p1 + p2)/2\n",
        "if med < 4.0 :\n",
        "  print(\"\\nReprovado por média inferior a 4.0.\")\n",
        "if freq < 75:\n",
        "  print(\"\\nReprovado por frequencia inferior a 75%.\")\n",
        "if freq >=75 and (med>=4.0 and med < 7.0):\n",
        "  print(\"\\nExame.\")\n",
        "if freq >=75 and med >=7:\n",
        "  print(\"\\nAprovado.\")\n",
        "\n"
      ]
    },
    {
      "cell_type": "markdown",
      "source": [
        "Exercício 02"
      ],
      "metadata": {
        "id": "5UpYTr0igHEy"
      }
    },
    {
      "cell_type": "code",
      "source": [
        "\n",
        "#solitando os dados para o usuário\n",
        "a = float(input(\"Digite o lado a do triângulo: \"))\n",
        "b = float(input(\"Digite o lado b do triângulo: \"))\n",
        "c = float(input(\"Digite o lado c do triângulo: \"))\n",
        "\n",
        "if (abs(b-c) < a < (b + c)) and (abs(a-c) < b < (a + c)) and (abs(a-b) < c < (a +b)):\n",
        "  print(\"\\nO triângulo existe\")\n",
        "else:\n",
        "  print('\\nO triângulo com lados {:.2f}, {:.2f}, {:.2f} não existe!'.format(a,b,c))\n"
      ],
      "metadata": {
        "id": "CNMp9zj8gJa-",
        "colab": {
          "base_uri": "https://localhost:8080/"
        },
        "outputId": "6c52f1f9-8b27-4316-d0bf-0784c4e16387"
      },
      "execution_count": null,
      "outputs": [
        {
          "output_type": "stream",
          "name": "stdout",
          "text": [
            "Digite o lado a do triângulo: 3\n",
            "Digite o lado b do triângulo: 4\n",
            "Digite o lado c do triângulo: 5\n",
            "\n",
            "O triângulo existe\n"
          ]
        }
      ]
    },
    {
      "cell_type": "markdown",
      "source": [
        "# **Listas**"
      ],
      "metadata": {
        "id": "tmEtRoqHjped"
      }
    },
    {
      "cell_type": "code",
      "source": [
        "frutas = ['limão', 'morango', 'laranja', 'abacate', 'acerola', 'melancia']\n",
        "print(frutas)"
      ],
      "metadata": {
        "colab": {
          "base_uri": "https://localhost:8080/"
        },
        "id": "H06HcxZijrt9",
        "outputId": "51008a90-d911-454d-a373-7893c7ad9467"
      },
      "execution_count": null,
      "outputs": [
        {
          "output_type": "stream",
          "name": "stdout",
          "text": [
            "['limão', 'morango', 'laranja', 'abacate', 'acerola', 'melancia']\n"
          ]
        }
      ]
    },
    {
      "cell_type": "code",
      "source": [
        "num = [2, 4 , 5, 6, 10]\n",
        "print(num)"
      ],
      "metadata": {
        "colab": {
          "base_uri": "https://localhost:8080/"
        },
        "id": "z2zs3syQj_o3",
        "outputId": "09031a2c-e399-4ec8-bd8e-01ee236a5d73"
      },
      "execution_count": null,
      "outputs": [
        {
          "output_type": "stream",
          "name": "stdout",
          "text": [
            "[2, 4, 5, 6, 10]\n"
          ]
        }
      ]
    },
    {
      "cell_type": "code",
      "source": [
        "pessoas = ['João', 30 , 'Maria', 25]\n",
        "print(pessoas)"
      ],
      "metadata": {
        "colab": {
          "base_uri": "https://localhost:8080/"
        },
        "id": "rSc4h6hGkXyc",
        "outputId": "52df21d0-ce2e-4c04-c254-12c7f5acf7de"
      },
      "execution_count": null,
      "outputs": [
        {
          "output_type": "stream",
          "name": "stdout",
          "text": [
            "['João', 30, 'Maria', 25]\n"
          ]
        }
      ]
    },
    {
      "cell_type": "code",
      "source": [
        "print(type(pessoas)) #imprime o tipo da variável pessoas"
      ],
      "metadata": {
        "colab": {
          "base_uri": "https://localhost:8080/"
        },
        "id": "8VADlqktkvov",
        "outputId": "93e8c14e-140b-40bf-c6ce-7a2d493b5cb8"
      },
      "execution_count": null,
      "outputs": [
        {
          "output_type": "stream",
          "name": "stdout",
          "text": [
            "<class 'list'>\n"
          ]
        }
      ]
    },
    {
      "cell_type": "code",
      "source": [
        "print(len(pessoas)) #imprime o tamanho (lenght) da lista pessoas"
      ],
      "metadata": {
        "colab": {
          "base_uri": "https://localhost:8080/"
        },
        "id": "QUEVWaYbk3Kj",
        "outputId": "f8c92d74-4a9e-4b71-dfcc-37663242a42f"
      },
      "execution_count": null,
      "outputs": [
        {
          "output_type": "stream",
          "name": "stdout",
          "text": [
            "4\n"
          ]
        }
      ]
    },
    {
      "cell_type": "markdown",
      "source": [
        "Acessando os dados de uma lista"
      ],
      "metadata": {
        "id": "5iuE5VZgl_F-"
      }
    },
    {
      "cell_type": "code",
      "source": [
        "print(frutas)"
      ],
      "metadata": {
        "colab": {
          "base_uri": "https://localhost:8080/"
        },
        "id": "IN1o23GbnXDl",
        "outputId": "4c3673b9-a988-4adb-c34f-273a7d197929"
      },
      "execution_count": null,
      "outputs": [
        {
          "output_type": "stream",
          "name": "stdout",
          "text": [
            "['limão', 'morango', 'laranja', 'abacate', 'acerola', 'melancia']\n"
          ]
        }
      ]
    },
    {
      "cell_type": "code",
      "source": [
        "print(frutas[0]) #acessando o primeiro item da lista fruta"
      ],
      "metadata": {
        "colab": {
          "base_uri": "https://localhost:8080/"
        },
        "id": "UyeOUKXOmBvF",
        "outputId": "dcf7f15a-11db-4315-c24f-21be8a47fe48"
      },
      "execution_count": null,
      "outputs": [
        {
          "output_type": "stream",
          "name": "stdout",
          "text": [
            "limão\n"
          ]
        }
      ]
    },
    {
      "cell_type": "code",
      "source": [
        "print(frutas[-1]) #acessa o último elemento da lista"
      ],
      "metadata": {
        "colab": {
          "base_uri": "https://localhost:8080/"
        },
        "id": "leJuZ1zcmX7J",
        "outputId": "ce2b5fe4-5e7b-49c3-d395-3b9abcbb9bcc"
      },
      "execution_count": null,
      "outputs": [
        {
          "output_type": "stream",
          "name": "stdout",
          "text": [
            "melancia\n"
          ]
        }
      ]
    },
    {
      "cell_type": "code",
      "source": [
        "print(frutas[-2]) #retorna o penultimo elemento da lista"
      ],
      "metadata": {
        "colab": {
          "base_uri": "https://localhost:8080/"
        },
        "id": "r03oyoQDnbD6",
        "outputId": "204dfa62-5805-46a9-93c5-85ba67df5a9c"
      },
      "execution_count": null,
      "outputs": [
        {
          "output_type": "stream",
          "name": "stdout",
          "text": [
            "acerola\n"
          ]
        }
      ]
    },
    {
      "cell_type": "code",
      "source": [
        "print(frutas)"
      ],
      "metadata": {
        "colab": {
          "base_uri": "https://localhost:8080/"
        },
        "id": "qKHEZnUfn7-T",
        "outputId": "e3dba20a-fe6a-49d7-996b-37160df56ed3"
      },
      "execution_count": null,
      "outputs": [
        {
          "output_type": "stream",
          "name": "stdout",
          "text": [
            "['limão', 'morango', 'laranja', 'abacate', 'acerola', 'melancia']\n"
          ]
        }
      ]
    },
    {
      "cell_type": "code",
      "source": [
        "print(frutas[2:]) #extrai a sublista do índice 2 para frente"
      ],
      "metadata": {
        "colab": {
          "base_uri": "https://localhost:8080/"
        },
        "id": "AXrIjPDZnqo_",
        "outputId": "ac787619-1415-4bda-cf1c-3d8cbbd1ddbf"
      },
      "execution_count": null,
      "outputs": [
        {
          "output_type": "stream",
          "name": "stdout",
          "text": [
            "['laranja', 'abacate', 'acerola', 'melancia']\n"
          ]
        }
      ]
    },
    {
      "cell_type": "code",
      "source": [
        "print(frutas[2:4]) #extrai a sublista do índice 2 ao índice 4"
      ],
      "metadata": {
        "colab": {
          "base_uri": "https://localhost:8080/"
        },
        "id": "NpqaEiESoRas",
        "outputId": "c7f09973-ab5e-4196-b1cc-0ca9e3f657a7"
      },
      "execution_count": null,
      "outputs": [
        {
          "output_type": "stream",
          "name": "stdout",
          "text": [
            "['laranja', 'abacate']\n"
          ]
        }
      ]
    },
    {
      "cell_type": "code",
      "source": [
        "print(frutas[-5:-2])"
      ],
      "metadata": {
        "colab": {
          "base_uri": "https://localhost:8080/"
        },
        "id": "2yihXwBEo1HM",
        "outputId": "07c9af57-c6f0-462a-ee61-bc051a69dd2b"
      },
      "execution_count": null,
      "outputs": [
        {
          "output_type": "stream",
          "name": "stdout",
          "text": [
            "['morango', 'laranja', 'abacate']\n"
          ]
        }
      ]
    },
    {
      "cell_type": "code",
      "source": [
        "print(frutas)"
      ],
      "metadata": {
        "colab": {
          "base_uri": "https://localhost:8080/"
        },
        "id": "1q1XrvYNpXJq",
        "outputId": "3658e83b-2e8c-426c-d2c2-97b302a5fc59"
      },
      "execution_count": null,
      "outputs": [
        {
          "output_type": "stream",
          "name": "stdout",
          "text": [
            "['limão', 'morango', 'laranja', 'abacate', 'acerola', 'melancia']\n"
          ]
        }
      ]
    },
    {
      "cell_type": "code",
      "source": [
        "frutas[3] = 'banana' # substituindo um item na lista\n",
        "print(frutas)"
      ],
      "metadata": {
        "colab": {
          "base_uri": "https://localhost:8080/"
        },
        "id": "QfEFOxFupbD3",
        "outputId": "ec3c59a6-2270-404d-ddda-ecab84f264cc"
      },
      "execution_count": null,
      "outputs": [
        {
          "output_type": "stream",
          "name": "stdout",
          "text": [
            "['limão', 'morango', 'laranja', 'banana', 'acerola', 'melancia']\n"
          ]
        }
      ]
    },
    {
      "cell_type": "code",
      "source": [
        "#substituindo vários itens\n",
        "frutas[2:5] = ['jaca', 'pitaia', 'uva']\n",
        "print(frutas)"
      ],
      "metadata": {
        "colab": {
          "base_uri": "https://localhost:8080/"
        },
        "id": "3KDfv3tAxy6R",
        "outputId": "92004740-ac66-4252-8c90-e94a1a008b8f"
      },
      "execution_count": null,
      "outputs": [
        {
          "output_type": "stream",
          "name": "stdout",
          "text": [
            "['limão', 'morango', 'jaca', 'pitaia', 'uva', 'melancia']\n"
          ]
        }
      ]
    },
    {
      "cell_type": "code",
      "source": [
        "5#inserindo item em uma posição\n",
        "frutas.insert(2,'melão') #uso do método insert\n",
        "print(frutas)"
      ],
      "metadata": {
        "colab": {
          "base_uri": "https://localhost:8080/"
        },
        "id": "a-yPeH2UzOS8",
        "outputId": "cbbe4e44-0f8d-48af-c333-1d4fd03ff7da"
      },
      "execution_count": null,
      "outputs": [
        {
          "output_type": "stream",
          "name": "stdout",
          "text": [
            "['limão', 'morango', 'melão', 'jaca', 'pitaia', 'uva', 'melancia']\n"
          ]
        }
      ]
    },
    {
      "cell_type": "code",
      "source": [
        "#inserindo item em uma posição\n",
        "outras_frutas = ['jaboticaba', 'tangerina']\n",
        "frutas.extend(outras_frutas) #uso do método extend\n",
        "print(frutas)"
      ],
      "metadata": {
        "colab": {
          "base_uri": "https://localhost:8080/"
        },
        "id": "nZrYFoOk0Hn_",
        "outputId": "d6d9127b-17b4-4386-bfb2-68c2a032f45c"
      },
      "execution_count": null,
      "outputs": [
        {
          "output_type": "stream",
          "name": "stdout",
          "text": [
            "['limão', 'morango', 'melão', 'jaca', 'pitaia', 'uva', 'melancia', 'jaboticaba', 'tangerina']\n"
          ]
        }
      ]
    },
    {
      "cell_type": "code",
      "source": [
        "frutas.remove('limão') #método remove: remove pelo valor do item. Remove a primeira ocorrência.\n",
        "print(frutas)\n"
      ],
      "metadata": {
        "colab": {
          "base_uri": "https://localhost:8080/"
        },
        "id": "ab79Dbpb2kFv",
        "outputId": "c0e257bf-9ca8-41b1-9afa-11961b2647a0"
      },
      "execution_count": null,
      "outputs": [
        {
          "output_type": "stream",
          "name": "stdout",
          "text": [
            "['morango', 'melão', 'jaca', 'pitaia', 'uva', 'melancia', 'jaboticaba', 'tangerina']\n"
          ]
        }
      ]
    },
    {
      "cell_type": "code",
      "source": [
        "frutas.pop(5) #método pop, remove o elemento cujo índice é indicado.\n",
        "print(frutas)"
      ],
      "metadata": {
        "colab": {
          "base_uri": "https://localhost:8080/"
        },
        "id": "8a3qW6NV3Xpy",
        "outputId": "d7edfd01-1b8b-4d02-aec2-df105e719ba0"
      },
      "execution_count": null,
      "outputs": [
        {
          "output_type": "stream",
          "name": "stdout",
          "text": [
            "['morango', 'melão', 'jaca', 'pitaia', 'uva', 'jaboticaba', 'tangerina']\n"
          ]
        }
      ]
    },
    {
      "cell_type": "code",
      "source": [
        "frutas.pop() #pop sem índice remove o último item da lista\n",
        "print(frutas)"
      ],
      "metadata": {
        "colab": {
          "base_uri": "https://localhost:8080/"
        },
        "id": "4w13zu2i4Xnw",
        "outputId": "7cb802cf-8281-48a5-cd8d-53b2befbff66"
      },
      "execution_count": null,
      "outputs": [
        {
          "output_type": "stream",
          "name": "stdout",
          "text": [
            "['morango', 'melão', 'jaca', 'pitaia', 'uva', 'jaboticaba']\n"
          ]
        }
      ]
    },
    {
      "cell_type": "code",
      "source": [
        "del frutas[3] #del remove o item com o índice 3.\n",
        "print(frutas)"
      ],
      "metadata": {
        "colab": {
          "base_uri": "https://localhost:8080/"
        },
        "id": "PqnTV47T4tgv",
        "outputId": "51782938-3903-4b68-a89e-d56ac272f7c3"
      },
      "execution_count": null,
      "outputs": [
        {
          "output_type": "stream",
          "name": "stdout",
          "text": [
            "['morango', 'melão', 'jaca', 'uva', 'jaboticaba']\n"
          ]
        }
      ]
    },
    {
      "cell_type": "code",
      "source": [
        "print(num)\n",
        "num.clear() #clear apaga a lista toda\n",
        "print(num)"
      ],
      "metadata": {
        "colab": {
          "base_uri": "https://localhost:8080/"
        },
        "id": "SLrujcVH5D-M",
        "outputId": "cd95ad30-ef08-44b3-8943-e0a1f4906631"
      },
      "execution_count": null,
      "outputs": [
        {
          "output_type": "stream",
          "name": "stdout",
          "text": [
            "[2, 4, 5, 6, 10]\n",
            "[]\n"
          ]
        }
      ]
    },
    {
      "cell_type": "markdown",
      "source": [
        "Loop através de uma lista"
      ],
      "metadata": {
        "id": "WIgq_sGT57n9"
      }
    },
    {
      "cell_type": "code",
      "source": [
        "for x in frutas: #percorre a lista frutas, atribui cada elemento a x e imprime\n",
        "  print(x)"
      ],
      "metadata": {
        "colab": {
          "base_uri": "https://localhost:8080/"
        },
        "id": "RwJFTNVz5-59",
        "outputId": "d0293692-49b0-4e9f-e558-9c0990df50fb"
      },
      "execution_count": null,
      "outputs": [
        {
          "output_type": "stream",
          "name": "stdout",
          "text": [
            "morango\n",
            "melão\n",
            "jaca\n",
            "uva\n",
            "jaboticaba\n"
          ]
        }
      ]
    },
    {
      "cell_type": "code",
      "source": [
        "for x in frutas: #percorre a lista frutas, atribui cada elemento a x e imprime\n",
        "  print(x.upper())\n",
        "  print(x.capitalize())\n",
        "  print(x.lower())"
      ],
      "metadata": {
        "colab": {
          "base_uri": "https://localhost:8080/"
        },
        "id": "MRVOYNc88Ly8",
        "outputId": "5f59b911-ef50-4667-ea3a-263fd8a56d16"
      },
      "execution_count": null,
      "outputs": [
        {
          "output_type": "stream",
          "name": "stdout",
          "text": [
            "MORANGO\n",
            "Morango\n",
            "morango\n",
            "MELÃO\n",
            "Melão\n",
            "melão\n",
            "JACA\n",
            "Jaca\n",
            "jaca\n",
            "UVA\n",
            "Uva\n",
            "uva\n",
            "JABOTICABA\n",
            "Jaboticaba\n",
            "jaboticaba\n"
          ]
        }
      ]
    },
    {
      "cell_type": "markdown",
      "source": [
        "Ordenação de string"
      ],
      "metadata": {
        "id": "ohV8z0kB_eFb"
      }
    },
    {
      "cell_type": "code",
      "source": [
        "frutas = ['limão', 'morango', 'laranja', 'abacate', 'Acerola', 'Melancia']\n",
        "frutas.sort() #ordena a lista em ordem crescente, de A a Z. Case Sensitive\n",
        "print(frutas)\n",
        "frutas.sort(reverse = True) #ordena a lista em ordem decrescente de Z a A. Case Sensitive\n",
        "print(frutas)\n",
        "frutas.sort(key = str.lower) #ordena a lista em ordem crescente, de A a Z. Case Insensitive\n",
        "print(frutas)\n",
        "frutas.sort(key = str.lower, reverse = True) #ordena a lista em ordem crescente, de A a Z. Case Insensitive\n",
        "print(frutas)"
      ],
      "metadata": {
        "colab": {
          "base_uri": "https://localhost:8080/"
        },
        "id": "LucdS70j6nEv",
        "outputId": "7fa910aa-1427-48e2-af62-ea99bd1f0a6f"
      },
      "execution_count": null,
      "outputs": [
        {
          "output_type": "stream",
          "name": "stdout",
          "text": [
            "['Acerola', 'Melancia', 'abacate', 'laranja', 'limão', 'morango']\n",
            "['morango', 'limão', 'laranja', 'abacate', 'Melancia', 'Acerola']\n",
            "['abacate', 'Acerola', 'laranja', 'limão', 'Melancia', 'morango']\n",
            "['morango', 'Melancia', 'limão', 'laranja', 'Acerola', 'abacate']\n"
          ]
        }
      ]
    },
    {
      "cell_type": "code",
      "source": [
        "letras = ['Aa', 'aA', 'aa', 'AA']\n",
        "letras.sort()\n",
        "print(letras)\n",
        "letras.sort(key = str.lower)\n",
        "print(letras)"
      ],
      "metadata": {
        "colab": {
          "base_uri": "https://localhost:8080/"
        },
        "id": "noogCYy8_aBg",
        "outputId": "92356e0e-a45e-40aa-9122-c71e80d6c9a9"
      },
      "execution_count": null,
      "outputs": [
        {
          "output_type": "stream",
          "name": "stdout",
          "text": [
            "['AA', 'Aa', 'aA', 'aa']\n",
            "['AA', 'Aa', 'aA', 'aa']\n"
          ]
        }
      ]
    },
    {
      "cell_type": "markdown",
      "source": [
        "Copiar lista"
      ],
      "metadata": {
        "id": "baiv0eApEjyu"
      }
    },
    {
      "cell_type": "code",
      "source": [
        "herois = ['Batman', 'Homem-aranha', 'Flash']\n",
        "herois2 = herois #herois2 aponta para o mesmo obj de herois\n",
        "print(herois2)\n",
        "print(id(herois), id(herois2)) #herois e herois2 possuem o mesmos ids na mem.\n",
        "herois[0] = 'Hulk'\n",
        "print(herois2)\n",
        "herois3 = herois.copy()\n",
        "print(herois3, id(herois3))\n",
        "herois2[2] = 'Robin'\n",
        "print(herois2, herois3)"
      ],
      "metadata": {
        "colab": {
          "base_uri": "https://localhost:8080/"
        },
        "id": "_rdmV52HEjiJ",
        "outputId": "117d262e-e0cc-4788-e976-f533fa9da26f"
      },
      "execution_count": null,
      "outputs": [
        {
          "output_type": "stream",
          "name": "stdout",
          "text": [
            "['Batman', 'Homem-aranha', 'Flash']\n",
            "140522542619712 140522542619712\n",
            "['Hulk', 'Homem-aranha', 'Flash']\n",
            "['Hulk', 'Homem-aranha', 'Flash'] 140522542619584\n",
            "['Hulk', 'Homem-aranha', 'Robin'] ['Hulk', 'Homem-aranha', 'Flash']\n"
          ]
        }
      ]
    },
    {
      "cell_type": "markdown",
      "source": [
        "Juntar listas"
      ],
      "metadata": {
        "id": "tOmfwcAyJIOC"
      }
    },
    {
      "cell_type": "code",
      "source": [
        "flores_1 = ['Rosas', 'Margarida', 'Girassol']\n",
        "flores_2 = ['Tulipa', 'Margarida', 'lírios', 'Orquídea']\n",
        "flores_3 = flores_1 + flores_2\n",
        "print(flores_3)\n",
        "flores_4 = list(flores_1)\n",
        "flores_4.extend(flores_2)\n",
        "print(flores_4)"
      ],
      "metadata": {
        "colab": {
          "base_uri": "https://localhost:8080/"
        },
        "id": "bYa7mEQcJJwQ",
        "outputId": "535fcb79-de5d-4e19-9ee8-9cf24aa4ad68"
      },
      "execution_count": null,
      "outputs": [
        {
          "output_type": "stream",
          "name": "stdout",
          "text": [
            "['Rosas', 'Margarida', 'Girassol', 'Tulipa', 'Margarida', 'lírios', 'Orquídea']\n",
            "['Rosas', 'Margarida', 'Girassol', 'Tulipa', 'Margarida', 'lírios', 'Orquídea']\n"
          ]
        }
      ]
    }
  ]
}