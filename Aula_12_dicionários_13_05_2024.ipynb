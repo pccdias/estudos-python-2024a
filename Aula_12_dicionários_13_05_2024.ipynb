{
  "nbformat": 4,
  "nbformat_minor": 0,
  "metadata": {
    "colab": {
      "provenance": []
    },
    "kernelspec": {
      "name": "python3",
      "display_name": "Python 3"
    },
    "language_info": {
      "name": "python"
    }
  },
  "cells": [
    {
      "cell_type": "markdown",
      "source": [
        "# **Aula 12 - Dicionários - 13/05/2024**"
      ],
      "metadata": {
        "id": "OECSdddOzAhd"
      }
    },
    {
      "cell_type": "markdown",
      "source": [
        "Exercício: Sejam os seguintes grupos esportivos:\n",
        "futebol: Carlos, João, Maria, Clara, Roberto, José, Paulo e Alexandre.\n",
        "volêi: Alberto, Isadora, Carlos, Maria, Pedro, Adilson e João\n",
        "corrida: João, Paulo, Roberto, José, Alexandre, Roberto, Ricardo e Luiz.\n",
        "\n",
        "Baseado nos grupos acima, utilize o conceito de conjuntos para responder as seguintes questões (use as operações de conjuntos).\n",
        "a) Pessoas que fazem futebol e volei.\n",
        "b) Pessoas que fazem futebol mas não fazem volei\n",
        "c) Pessoas que fazem futebol, volei e corrida.\n",
        "d) Pessoas que fazem corrida mas nenhum outro esporte.\n",
        "e) Pessoas que fazem somente um esporte."
      ],
      "metadata": {
        "id": "gKwC6LKX3sak"
      }
    },
    {
      "cell_type": "code",
      "execution_count": 2,
      "metadata": {
        "id": "G91vhv8XySSy"
      },
      "outputs": [],
      "source": [
        "futebol = {'Carlos', 'João', 'Maria',' Clara', 'Roberto', 'José', 'Paulo', 'Alexandre'}\n",
        "volei = {'Alberto', 'Isadora', 'Carlos', 'Maria', 'Pedro', 'Adilson', 'João'}\n",
        "corrida = {'João', 'Paulo', 'Roberto', 'José', 'Alexandre', 'Roberto', 'Ricardo', 'Luiz'}"
      ]
    },
    {
      "cell_type": "markdown",
      "source": [
        "a) Pessoas que fazem futebol e volei."
      ],
      "metadata": {
        "id": "bhQHX5x5CDbh"
      }
    },
    {
      "cell_type": "code",
      "source": [
        "futebol_e_volei = futebol.intersection(volei)\n",
        "print(futebol_e_volei)"
      ],
      "metadata": {
        "colab": {
          "base_uri": "https://localhost:8080/"
        },
        "id": "hWZrfYGZCD9z",
        "outputId": "23252ec5-e4a5-414c-8e93-2da0f0df4f59"
      },
      "execution_count": 3,
      "outputs": [
        {
          "output_type": "stream",
          "name": "stdout",
          "text": [
            "{'João', 'Maria', 'Carlos'}\n"
          ]
        }
      ]
    },
    {
      "cell_type": "markdown",
      "source": [
        "b) Pessoas que fazem futebol mas não fazem volei"
      ],
      "metadata": {
        "id": "5vrCq_KwCYE7"
      }
    },
    {
      "cell_type": "code",
      "source": [
        "futebol_e_nao_volei = futebol - volei\n",
        "print(futebol_e_nao_volei)"
      ],
      "metadata": {
        "colab": {
          "base_uri": "https://localhost:8080/"
        },
        "id": "HG0--fThCYky",
        "outputId": "d5bf3a72-b2eb-48b2-b142-a9a2c20ddf53"
      },
      "execution_count": 4,
      "outputs": [
        {
          "output_type": "stream",
          "name": "stdout",
          "text": [
            "{'Alexandre', 'Roberto', ' Clara', 'José', 'Paulo'}\n"
          ]
        }
      ]
    },
    {
      "cell_type": "markdown",
      "source": [
        "c) Pessoas que fazem futebol, volei e corrida."
      ],
      "metadata": {
        "id": "fVs18SwEDAJM"
      }
    },
    {
      "cell_type": "code",
      "source": [
        "futebol_e_volei_e_corrida = futebol & volei & corrida\n",
        "print(futebol_e_volei_e_corrida)"
      ],
      "metadata": {
        "colab": {
          "base_uri": "https://localhost:8080/"
        },
        "id": "O1zrkmmpDAtQ",
        "outputId": "1b7cb1d8-bfca-40db-c573-7588a23a533e"
      },
      "execution_count": 5,
      "outputs": [
        {
          "output_type": "stream",
          "name": "stdout",
          "text": [
            "{'João'}\n"
          ]
        }
      ]
    },
    {
      "cell_type": "markdown",
      "source": [
        "d) Pessoas que fazem corrida mas nenhum outro esporte."
      ],
      "metadata": {
        "id": "qw9jv2FHDKot"
      }
    },
    {
      "cell_type": "code",
      "source": [
        "somente_corrida = corrida - futebol - volei\n",
        "print(somente_corrida)"
      ],
      "metadata": {
        "colab": {
          "base_uri": "https://localhost:8080/"
        },
        "id": "Ex1eHU24MHRq",
        "outputId": "9c841c41-a3c9-4b71-fc10-e2cd044ff47e"
      },
      "execution_count": 7,
      "outputs": [
        {
          "output_type": "stream",
          "name": "stdout",
          "text": [
            "{'Luiz', 'Ricardo'}\n"
          ]
        }
      ]
    },
    {
      "cell_type": "markdown",
      "source": [
        "e) Pessoas que fazem somente um esporte."
      ],
      "metadata": {
        "id": "OS3oc40PKIJg"
      }
    },
    {
      "cell_type": "code",
      "source": [
        "so_um_esporte = (futebol ^ volei ^  corrida) - futebol_e_volei_e_corrida\n",
        "print(so_um_esporte)"
      ],
      "metadata": {
        "colab": {
          "base_uri": "https://localhost:8080/"
        },
        "id": "yLma3go3MozS",
        "outputId": "75a821f2-3802-412a-b511-16fdd7a459b2"
      },
      "execution_count": 8,
      "outputs": [
        {
          "output_type": "stream",
          "name": "stdout",
          "text": [
            "{'Pedro', 'Adilson', ' Clara', 'Ricardo', 'Luiz', 'Isadora', 'Alberto'}\n"
          ]
        }
      ]
    },
    {
      "cell_type": "markdown",
      "source": [
        "f) Pessoas que fazem futebol, vôlei ou corrida"
      ],
      "metadata": {
        "id": "_0nFWLx1KIxo"
      }
    },
    {
      "cell_type": "code",
      "source": [
        "uniao_esportes = futebol |  volei | corrida\n",
        "print(uniao_esportes)"
      ],
      "metadata": {
        "colab": {
          "base_uri": "https://localhost:8080/"
        },
        "id": "-KT28gnbP2tC",
        "outputId": "032d5634-f1d8-4b72-fa27-94d8a65c1f9c"
      },
      "execution_count": 9,
      "outputs": [
        {
          "output_type": "stream",
          "name": "stdout",
          "text": [
            "{'João', 'Pedro', 'Alexandre', ' Clara', 'Ricardo', 'Maria', 'Adilson', 'Roberto', 'Carlos', 'Luiz', 'Isadora', 'Alberto', 'José', 'Paulo'}\n"
          ]
        }
      ]
    },
    {
      "cell_type": "markdown",
      "source": [
        "# **Dicionário**"
      ],
      "metadata": {
        "id": "hxBkj8nvaQtQ"
      }
    },
    {
      "cell_type": "code",
      "source": [
        "carro = {\n",
        "    \"fabricante\" : \"Chevrolet\",  #o dicionário usa chave-valor (key:value)\n",
        "    \"modelo\": \"S10\",\n",
        "    \"tipo\" : \"caminhonete\",\n",
        "    \"ano\": 2024, #o valor pode ser numero\n",
        "    \"combustível\" : [\"diesel\",\"flex\"], #o valor pode ser lista, etc\n",
        "    \"cores\": [\"branca\", \"chumbo\", \"preta\"]\n",
        "}"
      ],
      "metadata": {
        "id": "CbQYg4e2aTZD"
      },
      "execution_count": 10,
      "outputs": []
    },
    {
      "cell_type": "code",
      "source": [
        "print(type(carro))   #retorna o tipo 'dict'\n",
        "print(carro[\"fabricante\"]) #acessa o valor a partir da chave\n",
        "print(\"Vende-se\", carro['tipo'], \"modelo \", carro[\"modelo\"])\n",
        "print(carro[\"cores\"]) #acessou o valor multivariado (lista)\n",
        "print(carro[\"cores\"][1]) #acessou uma cor de do valor multivariado"
      ],
      "metadata": {
        "colab": {
          "base_uri": "https://localhost:8080/"
        },
        "id": "Vc7leZyJbxfI",
        "outputId": "d20884b1-c52b-4cf6-862f-3c9261a1c49d"
      },
      "execution_count": 11,
      "outputs": [
        {
          "output_type": "stream",
          "name": "stdout",
          "text": [
            "<class 'dict'>\n",
            "Chevrolet\n",
            "Vende-se caminhonete modelo  S10\n",
            "['branca', 'chumbo', 'preta']\n",
            "chumbo\n"
          ]
        }
      ]
    },
    {
      "cell_type": "markdown",
      "source": [
        "Obtendo as chaves"
      ],
      "metadata": {
        "id": "uAJEWcmbgaAp"
      }
    },
    {
      "cell_type": "code",
      "source": [
        "#obtendo as chaves de um dicionário\n",
        "chaves_carro = carro.keys()\n",
        "print(type(chaves_carro))\n",
        "print(chaves_carro)"
      ],
      "metadata": {
        "colab": {
          "base_uri": "https://localhost:8080/"
        },
        "id": "-VugtAjsgEtr",
        "outputId": "8168bbf7-d9bb-40fb-9839-8a311a505788"
      },
      "execution_count": 12,
      "outputs": [
        {
          "output_type": "stream",
          "name": "stdout",
          "text": [
            "<class 'dict_keys'>\n",
            "dict_keys(['fabricante', 'modelo', 'tipo', 'ano', 'combustível', 'cores'])\n"
          ]
        }
      ]
    },
    {
      "cell_type": "markdown",
      "source": [
        "Mudando o valor de um dicionário"
      ],
      "metadata": {
        "id": "ffxNbC3ogsc4"
      }
    },
    {
      "cell_type": "code",
      "source": [
        "carro['ano'] = 2022\n",
        "print(carro)"
      ],
      "metadata": {
        "colab": {
          "base_uri": "https://localhost:8080/"
        },
        "collapsed": true,
        "id": "OBOPU-JZgucY",
        "outputId": "8519df64-bfbe-483a-fc8d-6b2cb7070aab"
      },
      "execution_count": 13,
      "outputs": [
        {
          "output_type": "stream",
          "name": "stdout",
          "text": [
            "{'fabricante': 'Chevrolet', 'modelo': 'S10', 'tipo': 'caminhonete', 'ano': 2022, 'combustível': ['diesel', 'flex'], 'cores': ['branca', 'chumbo', 'preta']}\n"
          ]
        }
      ]
    },
    {
      "cell_type": "markdown",
      "source": [
        "Obter os valores de um dicionário"
      ],
      "metadata": {
        "id": "cpWNUqKphGyL"
      }
    },
    {
      "cell_type": "code",
      "source": [
        "valores_carro = carro.values()\n",
        "print(type(valores_carro))\n",
        "print(valores_carro)"
      ],
      "metadata": {
        "id": "03ffusUPhJiB",
        "colab": {
          "base_uri": "https://localhost:8080/"
        },
        "outputId": "3f17fa29-de1b-459d-c029-884c42fb0405"
      },
      "execution_count": 14,
      "outputs": [
        {
          "output_type": "stream",
          "name": "stdout",
          "text": [
            "<class 'dict_values'>\n",
            "dict_values(['Chevrolet', 'S10', 'caminhonete', 2022, ['diesel', 'flex'], ['branca', 'chumbo', 'preta']])\n"
          ]
        }
      ]
    },
    {
      "cell_type": "code",
      "source": [
        "for key in carro:\n",
        "  print(key)"
      ],
      "metadata": {
        "id": "zDo40rAwhrz1",
        "colab": {
          "base_uri": "https://localhost:8080/"
        },
        "outputId": "8a4cbe0f-52d4-4057-c735-a28c890f4d61"
      },
      "execution_count": 15,
      "outputs": [
        {
          "output_type": "stream",
          "name": "stdout",
          "text": [
            "fabricante\n",
            "modelo\n",
            "tipo\n",
            "ano\n",
            "combustível\n",
            "cores\n"
          ]
        }
      ]
    },
    {
      "cell_type": "code",
      "source": [
        "for value in carro.items():\n",
        "  print(value)"
      ],
      "metadata": {
        "id": "l9Xe-S9OiKF5",
        "colab": {
          "base_uri": "https://localhost:8080/"
        },
        "outputId": "c7e3dca4-167e-4a09-b44a-f8f74542e11b"
      },
      "execution_count": 16,
      "outputs": [
        {
          "output_type": "stream",
          "name": "stdout",
          "text": [
            "('fabricante', 'Chevrolet')\n",
            "('modelo', 'S10')\n",
            "('tipo', 'caminhonete')\n",
            "('ano', 2022)\n",
            "('combustível', ['diesel', 'flex'])\n",
            "('cores', ['branca', 'chumbo', 'preta'])\n"
          ]
        }
      ]
    },
    {
      "cell_type": "code",
      "source": [
        "for key,value in carro.items():\n",
        "  print(key, value)"
      ],
      "metadata": {
        "id": "_1XrRIqiifV0",
        "colab": {
          "base_uri": "https://localhost:8080/"
        },
        "outputId": "d3139d19-f61b-452d-ac97-e7706203b966"
      },
      "execution_count": 17,
      "outputs": [
        {
          "output_type": "stream",
          "name": "stdout",
          "text": [
            "fabricante Chevrolet\n",
            "modelo S10\n",
            "tipo caminhonete\n",
            "ano 2022\n",
            "combustível ['diesel', 'flex']\n",
            "cores ['branca', 'chumbo', 'preta']\n"
          ]
        }
      ]
    },
    {
      "cell_type": "markdown",
      "source": [
        "Adcionando outro item no dicionário"
      ],
      "metadata": {
        "id": "u8RsJSCAj_vQ"
      }
    },
    {
      "cell_type": "code",
      "source": [
        "carro['turbo'] = True\n",
        "print(carro)"
      ],
      "metadata": {
        "id": "1aDwC9iUkFj1",
        "colab": {
          "base_uri": "https://localhost:8080/"
        },
        "outputId": "58c0c3b0-16b0-46ef-9b2e-facd15150154"
      },
      "execution_count": 18,
      "outputs": [
        {
          "output_type": "stream",
          "name": "stdout",
          "text": [
            "{'fabricante': 'Chevrolet', 'modelo': 'S10', 'tipo': 'caminhonete', 'ano': 2022, 'combustível': ['diesel', 'flex'], 'cores': ['branca', 'chumbo', 'preta'], 'turbo': True}\n"
          ]
        }
      ]
    },
    {
      "cell_type": "markdown",
      "source": [
        "Verificar se uma chave está no dicionário"
      ],
      "metadata": {
        "id": "aVz9wGoFkg7Y"
      }
    },
    {
      "cell_type": "code",
      "source": [
        "print(\"modelo\" in carro)\n",
        "print(\"acessorio\" in carro)"
      ],
      "metadata": {
        "colab": {
          "base_uri": "https://localhost:8080/"
        },
        "id": "5pCDwj5bkgc1",
        "outputId": "e39440c5-98ea-46f1-a5bf-90ddcc122aa3"
      },
      "execution_count": 19,
      "outputs": [
        {
          "output_type": "stream",
          "name": "stdout",
          "text": [
            "True\n",
            "False\n"
          ]
        }
      ]
    }
  ]
}